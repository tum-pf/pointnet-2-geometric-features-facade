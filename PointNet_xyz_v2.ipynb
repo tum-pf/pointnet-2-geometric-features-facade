{
 "cells": [
  {
   "cell_type": "markdown",
   "metadata": {
    "id": "be8RFvYTsfYE",
    "tags": []
   },
   "source": [
    "# Data Load\n"
   ]
  },
  {
   "cell_type": "code",
   "execution_count": 1,
   "metadata": {
    "executionInfo": {
     "elapsed": 15376,
     "status": "ok",
     "timestamp": 1674079742236,
     "user": {
      "displayName": "SUKIDA Tan",
      "userId": "04234593673225449814"
     },
     "user_tz": -60
    },
    "id": "0J4zJlrCqSb4"
   },
   "outputs": [],
   "source": [
    "import numpy as np\n",
    "import math\n",
    "import random\n",
    "import os\n",
    "import torch\n",
    "import scipy.spatial.distance\n",
    "from torch.utils.data import Dataset, DataLoader\n",
    "from torchvision import transforms, utils\n",
    "\n",
    "import plotly.graph_objects as go\n",
    "import plotly.express as px\n",
    "\n",
    "import matplotlib.pylab as plt\n",
    "from mpl_toolkits.mplot3d import Axes3D\n",
    "import pandas as pd\n",
    "from sklearn.model_selection import train_test_split\n",
    "from sklearn.ensemble import RandomForestClassifier\n",
    "# from google.colab import drive\n",
    "import tensorflow as tf\n",
    "import torch.nn as nn\n",
    "import torch.nn.functional as F\n",
    "import torch.optim as optim\n"
   ]
  },
  {
   "cell_type": "code",
   "execution_count": 2,
   "metadata": {},
   "outputs": [],
   "source": [
    "torch.cuda.empty_cache()"
   ]
  },
  {
   "cell_type": "code",
   "execution_count": 3,
   "metadata": {
    "colab": {
     "base_uri": "https://localhost:8080/"
    },
    "executionInfo": {
     "elapsed": 10506,
     "status": "ok",
     "timestamp": 1674079752704,
     "user": {
      "displayName": "SUKIDA Tan",
      "userId": "04234593673225449814"
     },
     "user_tz": -60
    },
    "id": "wOHAa2Ku_ci8",
    "outputId": "aa11cb6d-3ffe-434d-da6c-309d1d541783"
   },
   "outputs": [
    {
     "name": "stdout",
     "output_type": "stream",
     "text": [
      "1     2869200\n",
      "2      826645\n",
      "5      746775\n",
      "12     378061\n",
      "16     366536\n",
      "17     209118\n",
      "3      111354\n",
      "15      35457\n",
      "11      22421\n",
      "9        7342\n",
      "13       1932\n",
      "6        1319\n",
      "14        731\n",
      "Name: cla, dtype: int64\n",
      "1     417280\n",
      "2     276623\n",
      "16    177257\n",
      "5      93060\n",
      "13     41630\n",
      "17     24679\n",
      "12     14055\n",
      "3       4101\n",
      "4       1072\n",
      "9        682\n",
      "Name: cla, dtype: int64\n"
     ]
    }
   ],
   "source": [
    "lxyz = pd.read_csv('./data/training/labelledLocalCRS/DEBY_LOD2_4959322/DEBY_LOD2_4959322.xyz', sep=\" \", header=0)\n",
    "lxyz.columns = [\"x\", \"y\", \"z\", \"cla\"]\n",
    "print(lxyz.cla.value_counts())\n",
    "\n",
    "lxyz_test = pd.read_csv('./data/test/labelledLocalCRS/DEBY_LOD2_4959459/DEBY_LOD2_4959459.xyz', sep=\" \", header=0)\n",
    "lxyz_test.columns = [\"x\", \"y\", \"z\", \"cla\"]\n",
    "print(lxyz_test.cla.value_counts())"
   ]
  },
  {
   "cell_type": "code",
   "execution_count": 13,
   "metadata": {
    "colab": {
     "base_uri": "https://localhost:8080/"
    },
    "executionInfo": {
     "elapsed": 8394,
     "status": "ok",
     "timestamp": 1677260843122,
     "user": {
      "displayName": "SUKIDA Tan",
      "userId": "04234593673225449814"
     },
     "user_tz": -60
    },
    "id": "wOHAa2Ku_ci8",
    "outputId": "1c64c450-9b00-4473-c57b-e6e7396dccd0"
   },
   "outputs": [
    {
     "name": "stdout",
     "output_type": "stream",
     "text": [
      "1     19125652\n",
      "5      6440977\n",
      "2      3448050\n",
      "12     1979855\n",
      "16     1911652\n",
      "17     1746219\n",
      "6       628964\n",
      "3       288073\n",
      "14      242680\n",
      "13       24642\n",
      "Name: cla, dtype: int64\n",
      "1     2869200\n",
      "2      826645\n",
      "5      746775\n",
      "12     378061\n",
      "16     366536\n",
      "17     209118\n",
      "3      111354\n",
      "15      35457\n",
      "11      22421\n",
      "9        7342\n",
      "13       1932\n",
      "6        1319\n",
      "14        731\n",
      "Name: cla, dtype: int64\n"
     ]
    }
   ],
   "source": [
    "lxyz = pd.read_csv('./data/training/labelledLocalCRS/DEBY_LOD2_4959323/DEBY_LOD2_4959323.xyz', sep=\" \", header=0)\n",
    "lxyz.columns = [\"x\", \"y\", \"z\", \"cla\"]\n",
    "print(lxyz.cla.value_counts())\n",
    "\n",
    "lxyz_test = pd.read_csv('./data/training/labelledLocalCRS/DEBY_LOD2_4959322/DEBY_LOD2_4959322.xyz', sep=\" \", header=0)\n",
    "lxyz_test.columns = [\"x\", \"y\", \"z\", \"cla\"]\n",
    "print(lxyz_test.cla.value_counts())\n",
    "\n",
    "############## !! Here you can choose whether to use large dataset ###############"
   ]
  },
  {
   "cell_type": "code",
   "execution_count": null,
   "metadata": {
    "colab": {
     "base_uri": "https://localhost:8080/"
    },
    "executionInfo": {
     "elapsed": 10506,
     "status": "ok",
     "timestamp": 1674079752704,
     "user": {
      "displayName": "SUKIDA Tan",
      "userId": "04234593673225449814"
     },
     "user_tz": -60
    },
    "id": "wOHAa2Ku_ci8",
    "outputId": "aa11cb6d-3ffe-434d-da6c-309d1d541783"
   },
   "outputs": [],
   "source": [
    "# lxyz = pd.read_csv('./data/training/labelledLocalCRS/DEBY_LOD2_4959322/DEBY_LOD2_4959322.xyz', sep=\" \", header=0)\n",
    "# lxyz.columns = [\"x\", \"y\", \"z\", \"cla\"]\n",
    "lxyz_1 = pd.read_csv('./data/training/labelledLocalCRS/DEBY_LOD2_4906981/DEBY_LOD2_4906981.xyz', sep=\" \", header=0)\n",
    "lxyz_1.columns = [\"x\", \"y\", \"z\", \"cla\"]\n",
    "lxyz_2 = pd.read_csv('./data/training/labelledLocalCRS/DEBY_LOD2_4959322/DEBY_LOD2_4959322.xyz', sep=\" \", header=0)\n",
    "lxyz_2.columns = [\"x\", \"y\", \"z\", \"cla\"]\n",
    "lxyz_3 = pd.read_csv('./data/training/labelledLocalCRS/DEBY_LOD2_4959460/DEBY_LOD2_4959460.xyz', sep=\" \", header=0)\n",
    "lxyz_3.columns = [\"x\", \"y\", \"z\", \"cla\"]\n",
    "lxyz_4 = pd.read_csv('./data/training/labelledLocalCRS/DEBY_LOD2_4959462/DEBY_LOD2_4959462.xyz', sep=\" \", header=0)\n",
    "lxyz_4.columns = [\"x\", \"y\", \"z\", \"cla\"]\n",
    "lxyz = pd.concat([lxyz_1, lxyz_2, lxyz_3, lxyz_4], axis = 0)\n",
    "print(lxyz.cla.value_counts())\n",
    "\n",
    "lxyz_test = pd.read_csv('./data/training/labelledLocalCRS/DEBY_LOD2_4959323/DEBY_LOD2_4959323.xyz', sep=\" \", header=0)\n",
    "lxyz_test.columns = [\"x\", \"y\", \"z\", \"cla\"]\n",
    "print(lxyz_test.cla.value_counts())"
   ]
  },
  {
   "cell_type": "markdown",
   "metadata": {
    "tags": []
   },
   "source": [
    "# Sample Points & Merge class"
   ]
  },
  {
   "cell_type": "code",
   "execution_count": 4,
   "metadata": {},
   "outputs": [
    {
     "name": "stdout",
     "output_type": "stream",
     "text": [
      "1     2911999\n",
      "2      827376\n",
      "5      748094\n",
      "13     577586\n",
      "11     400482\n",
      "3      111354\n",
      "Name: cla, dtype: int64\n",
      "1     419034\n",
      "2     276623\n",
      "13    243566\n",
      "5      93060\n",
      "11     14055\n",
      "3       4101\n",
      "Name: cla, dtype: int64\n"
     ]
    }
   ],
   "source": [
    "lclass = lxyz['cla'].replace({6:5,9:1,15:1,10:1,12:11,17:13,16:13,14:2})\n",
    "print(lclass.value_counts())\n",
    "\n",
    "lclass_test = lxyz_test['cla'].replace({6:5,9:1,15:1,10:1,12:11,17:13,16:13,14:2, 4:1})\n",
    "print(lclass_test.value_counts())"
   ]
  },
  {
   "cell_type": "code",
   "execution_count": 5,
   "metadata": {},
   "outputs": [
    {
     "name": "stdout",
     "output_type": "stream",
     "text": [
      "1    2911999\n",
      "2     827376\n",
      "4     748094\n",
      "5     577586\n",
      "6     400482\n",
      "3     111354\n",
      "Name: cla, dtype: int64\n",
      "1    419034\n",
      "2    276623\n",
      "5    243566\n",
      "4     93060\n",
      "6     14055\n",
      "3      4101\n",
      "Name: cla, dtype: int64\n"
     ]
    }
   ],
   "source": [
    "lclass = lclass.replace({5:4,13:5,11:6})\n",
    "print(lclass.value_counts())\n",
    "# 1: wall\n",
    "# 2: window\n",
    "# 3: door\n",
    "# 4: molding\n",
    "# 5: other\n",
    "# 6: terrian\n",
    "\n",
    "lclass_test = lclass_test.replace({5:4,13:5,11:6})\n",
    "print(lclass_test.value_counts())"
   ]
  },
  {
   "cell_type": "code",
   "execution_count": 6,
   "metadata": {},
   "outputs": [
    {
     "name": "stdout",
     "output_type": "stream",
     "text": [
      "0    2911999\n",
      "1     827376\n",
      "3     748094\n",
      "4     577586\n",
      "5     400482\n",
      "2     111354\n",
      "Name: cla, dtype: int64\n",
      "0    419034\n",
      "1    276623\n",
      "4    243566\n",
      "3     93060\n",
      "5     14055\n",
      "2      4101\n",
      "Name: cla, dtype: int64\n"
     ]
    }
   ],
   "source": [
    "lclass = lclass.replace({1:0,2:1,3:2,4:3,5:4,6:5})\n",
    "print(lclass.value_counts())\n",
    "# 0: wall\n",
    "# 1: window\n",
    "# 2: door\n",
    "# 3: molding\n",
    "# 4: other\n",
    "# 5: terrian\n",
    "\n",
    "lclass_test = lclass_test.replace({1:0,2:1,3:2,4:3,5:4,6:5})\n",
    "print(lclass_test.value_counts())"
   ]
  },
  {
   "cell_type": "code",
   "execution_count": 7,
   "metadata": {},
   "outputs": [],
   "source": [
    "lxyz = lxyz.drop('cla',axis = 1) \n",
    "lxyz_test = lxyz_test.drop('cla',axis = 1) \n",
    "\n",
    "lxyz = lxyz.to_numpy().reshape(-1,3)\n",
    "lxyz_test = lxyz_test.to_numpy().reshape(-1,3)"
   ]
  },
  {
   "cell_type": "code",
   "execution_count": 8,
   "metadata": {},
   "outputs": [
    {
     "name": "stdout",
     "output_type": "stream",
     "text": [
      "Jupyter environment detected. Enabling Open3D WebVisualizer.\n",
      "[Open3D INFO] WebRTC GUI backend enabled.\n",
      "[Open3D INFO] WebRTCWindowSystem: HTTP handshake server disabled.\n"
     ]
    }
   ],
   "source": [
    "import open3d as o3d"
   ]
  },
  {
   "cell_type": "code",
   "execution_count": 9,
   "metadata": {},
   "outputs": [],
   "source": [
    "######################### using open3d for point processing ################\n",
    "device = o3d.core.Device(\"CPU:0\")\n",
    "dtype = o3d.core.float32\n",
    "pcd = o3d.t.geometry.PointCloud(device)\n",
    "pcd.point.positions = o3d.core.Tensor(lxyz, dtype, device)\n",
    "pcd.point.labels = o3d.core.Tensor(lclass.to_numpy().reshape(-1,1), o3d.core.int32, device)\n",
    "# o3d.visualization.draw([pcd])\n",
    "downpcd = pcd.voxel_down_sample(voxel_size = 0.05)\n",
    "\n",
    "lxyz_train = downpcd.point.positions.numpy()\n",
    "lclass_train = downpcd.point.labels.numpy()\n",
    "\n",
    "pcd_train = o3d.geometry.PointCloud()\n",
    "pcd_train.points = o3d.utility.Vector3dVector(lxyz_train)\n",
    "\n",
    "# 颜色\n",
    "colors = plt.get_cmap(\"tab20\")(np.array(lclass_train).reshape(-1) / 17.0)\n",
    "colors = colors[:,0:3]\n",
    "pcd_train.colors=o3d.utility.Vector3dVector(colors)\n",
    "# o3d.visualization.draw_geometries([pcd_train], window_name='test the color',width=800,height=600)"
   ]
  },
  {
   "cell_type": "code",
   "execution_count": 10,
   "metadata": {},
   "outputs": [],
   "source": [
    "pcd_test = o3d.t.geometry.PointCloud(device)\n",
    "pcd_test.point.positions = o3d.core.Tensor(lxyz_test, dtype, device)\n",
    "pcd_test.point.labels = o3d.core.Tensor(lclass_test.to_numpy().reshape(-1,1), o3d.core.int32, device)\n",
    "# o3d.visualization.draw([pcd])\n",
    "downpcd_test = pcd_test.voxel_down_sample(voxel_size = 0.05)\n",
    "\n",
    "lxyz_test = downpcd_test.point.positions.numpy()\n",
    "lclass_test = downpcd_test.point.labels.numpy()\n",
    "\n",
    "pcd_test = o3d.geometry.PointCloud()\n",
    "pcd_test.points = o3d.utility.Vector3dVector(lxyz_test)\n",
    "\n",
    "# 颜色\n",
    "colors = plt.get_cmap(\"tab20\")(np.array(lclass_test).reshape(-1) / 17.0)\n",
    "colors = colors[:,0:3]\n",
    "pcd_test.colors=o3d.utility.Vector3dVector(colors)\n",
    "# o3d.visualization.draw_geometries([pcd_test], window_name='test the color',width=800,height=600)"
   ]
  },
  {
   "cell_type": "markdown",
   "metadata": {
    "tags": []
   },
   "source": [
    "# Add Features if NOT x,y,z"
   ]
  },
  {
   "cell_type": "code",
   "execution_count": 11,
   "metadata": {},
   "outputs": [],
   "source": [
    "lxyz_train = pd.DataFrame(lxyz_train)\n",
    "lxyz_train.columns = [\"x\", \"y\", \"z\"]"
   ]
  },
  {
   "cell_type": "code",
   "execution_count": 12,
   "metadata": {},
   "outputs": [],
   "source": [
    "lxyz_test = pd.DataFrame(lxyz_test)\n",
    "lxyz_test.columns = [\"x\", \"y\", \"z\"]"
   ]
  },
  {
   "cell_type": "code",
   "execution_count": 13,
   "metadata": {},
   "outputs": [],
   "source": [
    "########## Normalization For Each Column ##########\n",
    "def normalize_point_cloud(pcd):\n",
    "    centroid = np.mean(pcd, axis=0) # calculation the center of point cloud\n",
    "    pcd = pcd - centroid # put the center as origin\n",
    "    m = np.max(np.sqrt(np.sum(pcd ** 2, axis=1))) # calculation the longest vector\n",
    "    pcd_normalized = pcd / m # normalization to (-1, 1)\n",
    "    return pcd_normalized\n"
   ]
  },
  {
   "cell_type": "code",
   "execution_count": 14,
   "metadata": {},
   "outputs": [],
   "source": [
    "norm_lxyz_train = normalize_point_cloud(lxyz_train)\n",
    "norm_lxyz_test = normalize_point_cloud(lxyz_test)"
   ]
  },
  {
   "cell_type": "code",
   "execution_count": 15,
   "metadata": {},
   "outputs": [],
   "source": [
    "lclass_train = pd.DataFrame(lclass_train, columns = ['cla'], dtype = int)\n",
    "lclass_test = pd.DataFrame(lclass_test, columns = ['cla'], dtype = int)"
   ]
  },
  {
   "cell_type": "code",
   "execution_count": 16,
   "metadata": {},
   "outputs": [
    {
     "name": "stdout",
     "output_type": "stream",
     "text": [
      "cla\n",
      "0      232562\n",
      "4      173762\n",
      "1      149828\n",
      "3       56466\n",
      "5       12296\n",
      "2        2676\n",
      "dtype: int64\n"
     ]
    }
   ],
   "source": [
    "print(lclass_test.value_counts())"
   ]
  },
  {
   "cell_type": "code",
   "execution_count": 17,
   "metadata": {},
   "outputs": [
    {
     "name": "stdout",
     "output_type": "stream",
     "text": [
      "         cla\n",
      "0          0\n",
      "1          0\n",
      "2          0\n",
      "3          0\n",
      "4          0\n",
      "...      ...\n",
      "1241131    4\n",
      "1241132    4\n",
      "1241133    4\n",
      "1241134    4\n",
      "1241135    4\n",
      "\n",
      "[1241136 rows x 1 columns]\n"
     ]
    }
   ],
   "source": [
    "print(lclass_train)"
   ]
  },
  {
   "cell_type": "code",
   "execution_count": 18,
   "metadata": {},
   "outputs": [
    {
     "name": "stdout",
     "output_type": "stream",
     "text": [
      "        cla\n",
      "0         4\n",
      "1         4\n",
      "2         4\n",
      "3         4\n",
      "4         4\n",
      "...     ...\n",
      "627585    4\n",
      "627586    4\n",
      "627587    4\n",
      "627588    4\n",
      "627589    4\n",
      "\n",
      "[627590 rows x 1 columns]\n"
     ]
    }
   ],
   "source": [
    "print(lclass_test)"
   ]
  },
  {
   "cell_type": "code",
   "execution_count": 19,
   "metadata": {},
   "outputs": [
    {
     "name": "stdout",
     "output_type": "stream",
     "text": [
      "                x      y      z\n",
      "0        4.400000   5.60  11.00\n",
      "1        4.400000   5.65   9.80\n",
      "2        4.400000   5.95   2.25\n",
      "3        4.400000   6.00   1.65\n",
      "4        4.400000   5.80   2.90\n",
      "...           ...    ...    ...\n",
      "1241131  1.550000   6.95   7.25\n",
      "1241132  1.550000   7.00   7.60\n",
      "1241133  1.550000   6.90   7.25\n",
      "1241134 -9.150001  11.45   7.10\n",
      "1241135 -9.350000  11.30   5.30\n",
      "\n",
      "[1241136 rows x 3 columns]\n"
     ]
    }
   ],
   "source": [
    "print(lxyz_train)"
   ]
  },
  {
   "cell_type": "code",
   "execution_count": 20,
   "metadata": {},
   "outputs": [
    {
     "name": "stdout",
     "output_type": "stream",
     "text": [
      "            x          y          z\n",
      "0       14.25  12.950000   7.150000\n",
      "1       14.20  12.850000  19.150000\n",
      "2       14.20  12.800000  19.150000\n",
      "3       14.20  12.950000  19.200001\n",
      "4       14.20  12.650001  19.600000\n",
      "...       ...        ...        ...\n",
      "627585 -13.80 -12.100000   1.600000\n",
      "627586 -13.80 -12.150001   1.600000\n",
      "627587 -13.80 -11.950000   1.550000\n",
      "627588 -13.85 -12.050000   1.600000\n",
      "627589 -13.85 -11.750000   1.600000\n",
      "\n",
      "[627590 rows x 3 columns]\n"
     ]
    }
   ],
   "source": [
    "print(lxyz_test)"
   ]
  },
  {
   "cell_type": "markdown",
   "metadata": {
    "tags": []
   },
   "source": [
    "# Data Spilt"
   ]
  },
  {
   "cell_type": "code",
   "execution_count": 21,
   "metadata": {},
   "outputs": [],
   "source": [
    "lxyz_train = pd.concat([norm_lxyz_train, lclass_train], axis = 1)\n",
    "lxyz_test = pd.concat([norm_lxyz_test, lclass_test], axis = 1)\n",
    "# print(lxyz_test.cla.value_counts())"
   ]
  },
  {
   "cell_type": "code",
   "execution_count": 22,
   "metadata": {},
   "outputs": [
    {
     "name": "stdout",
     "output_type": "stream",
     "text": [
      "                x         y         z  cla\n",
      "0        0.055158  0.046167  0.145008    0\n",
      "1        0.055158  0.048114  0.098288    0\n",
      "2        0.055158  0.059794 -0.195653    0\n",
      "3        0.055158  0.061740 -0.219013    0\n",
      "4        0.055158  0.053954 -0.170347    0\n",
      "...           ...       ...       ...  ...\n",
      "1241131 -0.055800  0.098726 -0.000990    4\n",
      "1241132 -0.055800  0.100673  0.012637    4\n",
      "1241133 -0.055800  0.096780 -0.000990    4\n",
      "1241134 -0.472380  0.273923 -0.006830    4\n",
      "1241135 -0.480167  0.268084 -0.076909    4\n",
      "\n",
      "[1241136 rows x 4 columns]\n",
      "               x         y         z  cla\n",
      "0       0.476475  0.267497 -0.053676    4\n",
      "1       0.475024  0.264595  0.294547    4\n",
      "2       0.475024  0.263144  0.294547    4\n",
      "3       0.475024  0.267497  0.295998    4\n",
      "4       0.475024  0.258791  0.307606    4\n",
      "...          ...       ...       ...  ...\n",
      "627585 -0.337497 -0.459419 -0.214729    4\n",
      "627586 -0.337497 -0.460870 -0.214729    4\n",
      "627587 -0.337497 -0.455066 -0.216180    4\n",
      "627588 -0.338948 -0.457968 -0.214729    4\n",
      "627589 -0.338948 -0.449263 -0.214729    4\n",
      "\n",
      "[627590 rows x 4 columns]\n"
     ]
    }
   ],
   "source": [
    "print(lxyz_train)\n",
    "print(lxyz_test)"
   ]
  },
  {
   "cell_type": "code",
   "execution_count": 23,
   "metadata": {
    "colab": {
     "base_uri": "https://localhost:8080/"
    },
    "executionInfo": {
     "elapsed": 2139,
     "status": "ok",
     "timestamp": 1674079754823,
     "user": {
      "displayName": "SUKIDA Tan",
      "userId": "04234593673225449814"
     },
     "user_tz": -60
    },
    "id": "ey4Eh_U10ET5",
    "outputId": "d4aedcb5-0aef-465c-b3ce-f0fd69af7890"
   },
   "outputs": [
    {
     "name": "stdout",
     "output_type": "stream",
     "text": [
      "488\n",
      "134\n",
      "102\n",
      "283\n",
      "187\n",
      "14\n",
      "0    499712\n",
      "4    289792\n",
      "1    191488\n",
      "3    137216\n",
      "5    104448\n",
      "2     14336\n",
      "Name: cla, dtype: int64\n",
      "---------\n",
      "169\n",
      "146\n",
      "227\n",
      "55\n",
      "2\n",
      "12\n"
     ]
    }
   ],
   "source": [
    "def spilt_data(lxyz):\n",
    "  class_uniques = lxyz['cla'].unique() #把一列所有取值提出来成为一个Array \n",
    "  re = []\n",
    "  for column in class_uniques:\n",
    "    temp_data = lxyz[lxyz['cla'].isin([column])] #按照列的某个值取一个dataframe\n",
    "    batch_num = int(len(temp_data)/1024)\n",
    "    print(batch_num)\n",
    "    temp_data = temp_data[0:batch_num*1024]\n",
    "    re.append(temp_data)\n",
    "  re = pd.concat(re)\n",
    "  return re\n",
    "\n",
    "lxyz_train = spilt_data(lxyz_train)\n",
    "print(lxyz_train.cla.value_counts())\n",
    "print('---------')\n",
    "lxyz_test = spilt_data(lxyz_test)"
   ]
  },
  {
   "cell_type": "code",
   "execution_count": 24,
   "metadata": {},
   "outputs": [
    {
     "name": "stdout",
     "output_type": "stream",
     "text": [
      "                x         y         z  cla\n",
      "0        0.055158  0.046167  0.145008    0\n",
      "1        0.055158  0.048114  0.098288    0\n",
      "2        0.055158  0.059794 -0.195653    0\n",
      "3        0.055158  0.061740 -0.219013    0\n",
      "4        0.055158  0.053954 -0.170347    0\n",
      "...           ...       ...       ...  ...\n",
      "1151117  0.331580 -0.080364 -0.158667    2\n",
      "1151118  0.331580 -0.076471 -0.121681    2\n",
      "1151119  0.331580 -0.080364 -0.082748    2\n",
      "1151120  0.331580 -0.080364 -0.185920    2\n",
      "1151121  0.331580 -0.076471 -0.131414    2\n",
      "\n",
      "[1236992 rows x 4 columns]\n",
      "               x         y         z  cla\n",
      "0       0.476475  0.267497 -0.053676    4\n",
      "1       0.475024  0.264595  0.294547    4\n",
      "2       0.475024  0.263144  0.294547    4\n",
      "3       0.475024  0.267497  0.295998    4\n",
      "4       0.475024  0.258791  0.307606    4\n",
      "...          ...       ...       ...  ...\n",
      "612163 -0.334595 -0.452165 -0.214729    5\n",
      "612164 -0.334595 -0.450714 -0.216180    5\n",
      "612165 -0.334595 -0.455066 -0.214729    5\n",
      "612166 -0.334595 -0.439106 -0.214729    5\n",
      "612167 -0.334595 -0.442008 -0.213278    5\n",
      "\n",
      "[625664 rows x 4 columns]\n"
     ]
    }
   ],
   "source": [
    "print(lxyz_train)\n",
    "print(lxyz_test)"
   ]
  },
  {
   "cell_type": "markdown",
   "metadata": {
    "id": "sSRH6VAGf7Xw",
    "tags": []
   },
   "source": [
    "# Dataset Preparation\n"
   ]
  },
  {
   "cell_type": "code",
   "execution_count": 28,
   "metadata": {
    "executionInfo": {
     "elapsed": 77,
     "status": "ok",
     "timestamp": 1674079787517,
     "user": {
      "displayName": "SUKIDA Tan",
      "userId": "04234593673225449814"
     },
     "user_tz": -60
    },
    "id": "n23Bk90QSKqq"
   },
   "outputs": [],
   "source": [
    "class ToTensor(object):\n",
    "    def __call__(self, pointcloud):\n",
    "        assert len(pointcloud.shape)==2\n",
    "#        pointcloud = pointcloud.to_numpy()\n",
    "        return torch.from_numpy(pointcloud)"
   ]
  },
  {
   "cell_type": "code",
   "execution_count": 29,
   "metadata": {},
   "outputs": [],
   "source": [
    "class Normalize(object):\n",
    "    def __call__(self, pointcloud):\n",
    "        assert len(pointcloud.shape)==2\n",
    "        \n",
    "        pointcloud = pointcloud.to_numpy()\n",
    "        \n",
    "        norm_pointcloud = pointcloud - np.mean(pointcloud, axis=0) \n",
    "        norm_pointcloud /= np.max(np.linalg.norm(norm_pointcloud, axis=1))\n",
    "        norm_pointcloud[:,3] = pointcloud[:,3]\n",
    "\n",
    "        return  norm_pointcloud"
   ]
  },
  {
   "cell_type": "code",
   "execution_count": 30,
   "metadata": {
    "executionInfo": {
     "elapsed": 77,
     "status": "ok",
     "timestamp": 1674079787518,
     "user": {
      "displayName": "SUKIDA Tan",
      "userId": "04234593673225449814"
     },
     "user_tz": -60
    },
    "id": "JYsFkTHqfLRp"
   },
   "outputs": [],
   "source": [
    "def default_transforms():\n",
    "    return transforms.Compose([\n",
    "                                Normalize(),\n",
    "                                ToTensor()\n",
    "                              ])"
   ]
  },
  {
   "cell_type": "code",
   "execution_count": 31,
   "metadata": {
    "colab": {
     "base_uri": "https://localhost:8080/"
    },
    "executionInfo": {
     "elapsed": 885,
     "status": "ok",
     "timestamp": 1674079788327,
     "user": {
      "displayName": "SUKIDA Tan",
      "userId": "04234593673225449814"
     },
     "user_tz": -60
    },
    "id": "Z-Ur3QdPfLX1",
    "outputId": "a7977d44-a242-4069-d2be-eb22720ec8bd"
   },
   "outputs": [
    {
     "name": "stdout",
     "output_type": "stream",
     "text": [
      "1236992\n",
      "625664\n",
      "611\n",
      "1208\n",
      "611\n",
      "type of :  torch.Size([1024, 4])\n",
      "tensor([[ 0.0328,  0.1529,  0.7259,  4.0000],\n",
      "        [ 0.0328, -0.1374, -0.6613,  4.0000],\n",
      "        [ 0.0328,  0.1013, -0.2225,  4.0000],\n",
      "        ...,\n",
      "        [-0.0382, -0.0277,  0.2807,  4.0000],\n",
      "        [-0.0382, -0.0277,  0.3259,  4.0000],\n",
      "        [-0.0382, -0.0535,  0.2549,  4.0000]], dtype=torch.float64)\n"
     ]
    }
   ],
   "source": [
    "train_transforms = default_transforms()\n",
    "batch_num_test = int(len(lxyz_test)/1024)\n",
    "batch_num_train = int(len(lxyz_train)/1024)\n",
    "_train = lxyz_train[0:(1024*batch_num_train)]\n",
    "_test = lxyz_test[0:(1024*batch_num_test)]\n",
    "print(len(_train))\n",
    "print(len(_test))\n",
    "print(batch_num_test)\n",
    "print(batch_num_train)\n",
    "\n",
    "data_test_temp = np.split(_test,batch_num_test)\n",
    "data_train_temp = np.split(_train,batch_num_train)\n",
    "\n",
    "data_test = [ train_transforms(test) for test in data_test_temp]\n",
    "data_train = [ train_transforms(train) for train in data_train_temp]\n",
    "\n",
    "print(len(data_test))\n",
    "print('type of : ', data_test[2].size())\n",
    "print(data_test[2])"
   ]
  },
  {
   "cell_type": "code",
   "execution_count": 32,
   "metadata": {},
   "outputs": [
    {
     "name": "stdout",
     "output_type": "stream",
     "text": [
      "1208\n",
      "906\n",
      "302\n"
     ]
    }
   ],
   "source": [
    "len_total = len(data_train)\n",
    "print(len_total)\n",
    "train_size = int(len_total*0.75)\n",
    "test_size = len_total - train_size\n",
    "print(train_size)\n",
    "print(test_size)"
   ]
  },
  {
   "cell_type": "code",
   "execution_count": 33,
   "metadata": {},
   "outputs": [
    {
     "name": "stdout",
     "output_type": "stream",
     "text": [
      "302\n",
      "type of :  torch.Size([1024, 4])\n",
      "tensor([[ 0.0022,  0.0193,  0.2801,  0.0000],\n",
      "        [ 0.0022,  0.0399,  0.3549,  0.0000],\n",
      "        [ 0.0022,  0.0399,  0.2982,  0.0000],\n",
      "        ...,\n",
      "        [-0.0004,  0.0374, -0.2866,  0.0000],\n",
      "        [-0.0004,  0.0451, -0.3072,  0.0000],\n",
      "        [-0.0004,  0.0399,  0.1127,  0.0000]], dtype=torch.float64)\n"
     ]
    }
   ],
   "source": [
    "data_train, data_valid = torch.utils.data.random_split(data_train, [train_size, test_size])\n",
    "print(len(data_valid))\n",
    "print('type of : ', data_valid[2].size())\n",
    "print(data_valid[2])"
   ]
  },
  {
   "cell_type": "code",
   "execution_count": 34,
   "metadata": {
    "executionInfo": {
     "elapsed": 65,
     "status": "ok",
     "timestamp": 1674079788359,
     "user": {
      "displayName": "SUKIDA Tan",
      "userId": "04234593673225449814"
     },
     "user_tz": -60
    },
    "id": "hNZb5f-K1lrh"
   },
   "outputs": [],
   "source": [
    "train_loader = DataLoader(dataset=data_train, batch_size=32, shuffle=True)\n",
    "valid_loader = DataLoader(dataset=data_valid, batch_size=32)\n",
    "test_loader = DataLoader(dataset=data_test, batch_size = 32)"
   ]
  },
  {
   "cell_type": "markdown",
   "metadata": {
    "id": "N0FRlJOh2EuO"
   },
   "source": [
    "# Model Description"
   ]
  },
  {
   "cell_type": "code",
   "execution_count": 35,
   "metadata": {
    "executionInfo": {
     "elapsed": 1042,
     "status": "ok",
     "timestamp": 1674079810838,
     "user": {
      "displayName": "SUKIDA Tan",
      "userId": "04234593673225449814"
     },
     "user_tz": -60
    },
    "id": "6A7mwh0Y2MxG"
   },
   "outputs": [],
   "source": [
    "import torch\n",
    "import torch.nn as nn\n",
    "import numpy as np\n",
    "import torch.nn.functional as F\n",
    "\n",
    "class Tnet(nn.Module):\n",
    "   def __init__(self, k=3):\n",
    "      super().__init__()\n",
    "      self.k=k\n",
    "      self.conv1 = nn.Conv1d(k,64,1)\n",
    "      self.conv2 = nn.Conv1d(64,128,1)\n",
    "      self.conv3 = nn.Conv1d(128,1024,1)\n",
    "      self.fc1 = nn.Linear(1024,512)\n",
    "      self.fc2 = nn.Linear(512,256)\n",
    "      self.fc3 = nn.Linear(256,k*k)\n",
    "\n",
    "      self.bn1 = nn.BatchNorm1d(64)\n",
    "      self.bn2 = nn.BatchNorm1d(128)\n",
    "      self.bn3 = nn.BatchNorm1d(1024)\n",
    "      self.bn4 = nn.BatchNorm1d(512)\n",
    "      self.bn5 = nn.BatchNorm1d(256)\n",
    "       \n",
    "\n",
    "   def forward(self, input):\n",
    "      # input.shape == (bs,n,3)\n",
    "      bs = input.size(0)\n",
    "      xb = F.relu(self.bn1(self.conv1(input)))\n",
    "      xb = F.relu(self.bn2(self.conv2(xb)))\n",
    "      xb = F.relu(self.bn3(self.conv3(xb)))\n",
    "      pool = nn.MaxPool1d(xb.size(-1))(xb)\n",
    "      flat = nn.Flatten(1)(pool)\n",
    "      xb = F.relu(self.bn4(self.fc1(flat)))\n",
    "      xb = F.relu(self.bn5(self.fc2(xb)))\n",
    "      \n",
    "      #initialize as identity\n",
    "      init = torch.eye(self.k, requires_grad=True).repeat(bs,1,1)\n",
    "      if xb.is_cuda:\n",
    "        init=init.cuda()\n",
    "      matrix = self.fc3(xb).view(-1,self.k,self.k) + init\n",
    "      return matrix\n",
    "\n",
    "\n",
    "class Transform(nn.Module):\n",
    "   def __init__(self):\n",
    "        super().__init__()\n",
    "        self.input_transform = Tnet(k=3)\n",
    "        self.feature_transform = Tnet(k=64)\n",
    "        self.conv1 = nn.Conv1d(3,64,1)\n",
    "\n",
    "        self.conv2 = nn.Conv1d(64,128,1)\n",
    "        self.conv3 = nn.Conv1d(128,1024,1)\n",
    "       \n",
    "\n",
    "        self.bn1 = nn.BatchNorm1d(64)\n",
    "        self.bn2 = nn.BatchNorm1d(128)\n",
    "        self.bn3 = nn.BatchNorm1d(1024)\n",
    "       \n",
    "   def forward(self, input):\n",
    "        matrix3x3 = self.input_transform(input)\n",
    "        # batch matrix multiplication\n",
    "        xb = torch.bmm(torch.transpose(input,1,2), matrix3x3).transpose(1,2)\n",
    "\n",
    "        xb = F.relu(self.bn1(self.conv1(xb)))\n",
    "\n",
    "        matrix64x64 = self.feature_transform(xb)\n",
    "        xb = torch.bmm(torch.transpose(xb,1,2), matrix64x64).transpose(1,2)\n",
    "\n",
    "        xb = F.relu(self.bn2(self.conv2(xb)))\n",
    "        xb = self.bn3(self.conv3(xb))\n",
    "        xb = nn.MaxPool1d(xb.size(-1))(xb)\n",
    "        output = nn.Flatten(1)(xb)\n",
    "        return output, matrix3x3, matrix64x64\n",
    "\n",
    "class PointNet(nn.Module):\n",
    "    def __init__(self, classes = 6):\n",
    "        super().__init__()\n",
    "        self.transform = Transform()\n",
    "        self.fc1 = nn.Linear(1024, 512)\n",
    "        self.fc2 = nn.Linear(512, 256)\n",
    "        self.fc3 = nn.Linear(256, classes)\n",
    "        \n",
    "\n",
    "        self.bn1 = nn.BatchNorm1d(512)\n",
    "        self.bn2 = nn.BatchNorm1d(256)\n",
    "        self.dropout = nn.Dropout(p=0.3)\n",
    "        self.logsoftmax = nn.LogSoftmax(dim=1)\n",
    "\n",
    "    def forward(self, input):\n",
    "        xb, matrix3x3, matrix64x64 = self.transform(input)\n",
    "        xb = F.relu(self.bn1(self.fc1(xb)))\n",
    "        xb = F.relu(self.bn2(self.dropout(self.fc2(xb))))\n",
    "        output = self.fc3(xb)\n",
    "        return self.logsoftmax(output), matrix3x3, matrix64x64"
   ]
  },
  {
   "cell_type": "code",
   "execution_count": 36,
   "metadata": {
    "executionInfo": {
     "elapsed": 3,
     "status": "ok",
     "timestamp": 1674079811212,
     "user": {
      "displayName": "SUKIDA Tan",
      "userId": "04234593673225449814"
     },
     "user_tz": -60
    },
    "id": "tk40ioL62S8Z"
   },
   "outputs": [],
   "source": [
    "def pointnetloss(outputs, labels, m3x3, m64x64, alpha = 0.0001):\n",
    "    criterion = torch.nn.NLLLoss()\n",
    "    bs=outputs.size(0)\n",
    "    id3x3 = torch.eye(3, requires_grad=True).repeat(bs,1,1)\n",
    "    id64x64 = torch.eye(64, requires_grad=True).repeat(bs,1,1)\n",
    "    if outputs.is_cuda:\n",
    "        id3x3=id3x3.cuda()\n",
    "        id64x64=id64x64.cuda()\n",
    "    diff3x3 = id3x3-torch.bmm(m3x3,m3x3.transpose(1,2))\n",
    "    diff64x64 = id64x64-torch.bmm(m64x64,m64x64.transpose(1,2))\n",
    "    return criterion(outputs, labels) + alpha * (torch.norm(diff3x3)+torch.norm(diff64x64)) / float(bs)"
   ]
  },
  {
   "cell_type": "code",
   "execution_count": 37,
   "metadata": {},
   "outputs": [],
   "source": [
    "CUDA_LAUNCH_BLOCKING=\"1\""
   ]
  },
  {
   "cell_type": "markdown",
   "metadata": {
    "id": "GnM8yu2G2XVF"
   },
   "source": [
    "# Training\n"
   ]
  },
  {
   "cell_type": "code",
   "execution_count": 38,
   "metadata": {
    "colab": {
     "base_uri": "https://localhost:8080/"
    },
    "executionInfo": {
     "elapsed": 290,
     "status": "ok",
     "timestamp": 1674079813770,
     "user": {
      "displayName": "SUKIDA Tan",
      "userId": "04234593673225449814"
     },
     "user_tz": -60
    },
    "id": "v2_wk24U2cc-",
    "outputId": "cc19c979-2e04-4161-cafd-b53c425b0a71"
   },
   "outputs": [
    {
     "name": "stdout",
     "output_type": "stream",
     "text": [
      "cuda:0\n"
     ]
    }
   ],
   "source": [
    "device = torch.device(\"cuda:0\" if torch.cuda.is_available() else \"cpu\")\n",
    "print(device)"
   ]
  },
  {
   "cell_type": "code",
   "execution_count": 82,
   "metadata": {},
   "outputs": [
    {
     "name": "stdout",
     "output_type": "stream",
     "text": [
      "cpu\n"
     ]
    }
   ],
   "source": [
    "device = torch.device('cpu')\n",
    "print(device)"
   ]
  },
  {
   "cell_type": "code",
   "execution_count": 39,
   "metadata": {
    "executionInfo": {
     "elapsed": 288,
     "status": "ok",
     "timestamp": 1674079815619,
     "user": {
      "displayName": "SUKIDA Tan",
      "userId": "04234593673225449814"
     },
     "user_tz": -60
    },
    "id": "WCfbQ4CZ2hV5"
   },
   "outputs": [],
   "source": [
    "pointnet = PointNet()\n",
    "pointnet.to(device);"
   ]
  },
  {
   "cell_type": "code",
   "execution_count": 40,
   "metadata": {
    "executionInfo": {
     "elapsed": 323,
     "status": "ok",
     "timestamp": 1674079817589,
     "user": {
      "displayName": "SUKIDA Tan",
      "userId": "04234593673225449814"
     },
     "user_tz": -60
    },
    "id": "E8eYqor2Vk1w"
   },
   "outputs": [],
   "source": [
    "optimizer = torch.optim.Adam(pointnet.parameters(), lr=0.001)"
   ]
  },
  {
   "cell_type": "code",
   "execution_count": 41,
   "metadata": {
    "executionInfo": {
     "elapsed": 288,
     "status": "ok",
     "timestamp": 1674079819088,
     "user": {
      "displayName": "SUKIDA Tan",
      "userId": "04234593673225449814"
     },
     "user_tz": -60
    },
    "id": "XLE6uDz2VfGd"
   },
   "outputs": [],
   "source": [
    "def train(model, train_loader, val_loader=None,  epochs=20, save=True):\n",
    "    best_instance_acc = 0.0\n",
    "    for epoch in range(epochs): \n",
    "        pointnet.train()\n",
    "        running_loss = 0.0\n",
    "        for i, data in enumerate(train_loader, 0):\n",
    "            labels = data[:,1,3]\n",
    "            labels = labels.type(torch.LongTensor) \n",
    "            inputs, labels = data[:,:,0:3].to(device).float(), labels.to(device)\n",
    "            optimizer.zero_grad()\n",
    "            outputs, m3x3, m64x64 = pointnet(inputs.transpose(1,2))\n",
    "\n",
    "            loss = pointnetloss(outputs, labels, m3x3, m64x64)\n",
    "            loss.backward()\n",
    "            optimizer.step()\n",
    "\n",
    "            # print statistics\n",
    "            running_loss += loss.item()\n",
    "            if i % 10 == 9:    # print every 10 mini-batches\n",
    "                    print('[Epoch: %d, Batch: %4d / %4d], loss: %.3f' %\n",
    "                        (epoch + 1, i + 1, len(train_loader), running_loss / 10))\n",
    "                    running_loss = 0.0\n",
    "\n",
    "        pointnet.eval()\n",
    "        correct = total = 0\n",
    "\n",
    "        # validation\n",
    "        if val_loader:\n",
    "            with torch.no_grad():\n",
    "                for data in val_loader:\n",
    "                    labels = data[:,1,3]\n",
    "                    labels = labels.type(torch.LongTensor) \n",
    "                    inputs, labels = data[:,:,0:3].to(device).float(), labels.to(device)\n",
    "                    outputs, __, __ = pointnet(inputs.transpose(1,2))\n",
    "                    _, predicted = torch.max(outputs.data, 1)\n",
    "                    total += labels.size(0)\n",
    "                    correct += (predicted == labels).sum().item()\n",
    "            val_acc = 100. * correct / total\n",
    "            print('Valid accuracy: %d %%' % val_acc)\n",
    "\n",
    "        # save the model\n",
    "        if val_acc>best_instance_acc:\n",
    "            torch.save(pointnet.state_dict(), \"best_model_p_xyz_sd.pth\")\n",
    "            best_instance_acc = val_acc"
   ]
  },
  {
   "cell_type": "code",
   "execution_count": 42,
   "metadata": {
    "colab": {
     "base_uri": "https://localhost:8080/"
    },
    "executionInfo": {
     "elapsed": 5476095,
     "status": "ok",
     "timestamp": 1674085297893,
     "user": {
      "displayName": "SUKIDA Tan",
      "userId": "04234593673225449814"
     },
     "user_tz": -60
    },
    "id": "EOYHr6IW2Qsh",
    "outputId": "703e8b98-e753-43bc-c3b8-ea719bf8ffff"
   },
   "outputs": [
    {
     "name": "stdout",
     "output_type": "stream",
     "text": [
      "[Epoch: 1, Batch:   10 /   29], loss: 1.574\n",
      "[Epoch: 1, Batch:   20 /   29], loss: 1.072\n",
      "Valid accuracy: 32 %\n",
      "[Epoch: 2, Batch:   10 /   29], loss: 0.875\n",
      "[Epoch: 2, Batch:   20 /   29], loss: 0.888\n",
      "Valid accuracy: 75 %\n",
      "[Epoch: 3, Batch:   10 /   29], loss: 0.710\n",
      "[Epoch: 3, Batch:   20 /   29], loss: 0.633\n",
      "Valid accuracy: 74 %\n",
      "[Epoch: 4, Batch:   10 /   29], loss: 0.750\n",
      "[Epoch: 4, Batch:   20 /   29], loss: 0.688\n",
      "Valid accuracy: 66 %\n",
      "[Epoch: 5, Batch:   10 /   29], loss: 0.549\n",
      "[Epoch: 5, Batch:   20 /   29], loss: 0.539\n",
      "Valid accuracy: 69 %\n",
      "[Epoch: 6, Batch:   10 /   29], loss: 0.844\n",
      "[Epoch: 6, Batch:   20 /   29], loss: 0.581\n",
      "Valid accuracy: 85 %\n",
      "[Epoch: 7, Batch:   10 /   29], loss: 0.454\n",
      "[Epoch: 7, Batch:   20 /   29], loss: 0.454\n",
      "Valid accuracy: 83 %\n",
      "[Epoch: 8, Batch:   10 /   29], loss: 0.488\n",
      "[Epoch: 8, Batch:   20 /   29], loss: 0.454\n",
      "Valid accuracy: 84 %\n",
      "[Epoch: 9, Batch:   10 /   29], loss: 0.487\n",
      "[Epoch: 9, Batch:   20 /   29], loss: 0.391\n",
      "Valid accuracy: 87 %\n",
      "[Epoch: 10, Batch:   10 /   29], loss: 0.328\n",
      "[Epoch: 10, Batch:   20 /   29], loss: 0.352\n",
      "Valid accuracy: 80 %\n",
      "[Epoch: 11, Batch:   10 /   29], loss: 0.363\n",
      "[Epoch: 11, Batch:   20 /   29], loss: 0.302\n",
      "Valid accuracy: 84 %\n",
      "[Epoch: 12, Batch:   10 /   29], loss: 0.385\n",
      "[Epoch: 12, Batch:   20 /   29], loss: 0.474\n",
      "Valid accuracy: 79 %\n",
      "[Epoch: 13, Batch:   10 /   29], loss: 0.432\n",
      "[Epoch: 13, Batch:   20 /   29], loss: 0.391\n",
      "Valid accuracy: 86 %\n",
      "[Epoch: 14, Batch:   10 /   29], loss: 0.335\n",
      "[Epoch: 14, Batch:   20 /   29], loss: 0.352\n",
      "Valid accuracy: 91 %\n",
      "[Epoch: 15, Batch:   10 /   29], loss: 0.201\n",
      "[Epoch: 15, Batch:   20 /   29], loss: 0.264\n",
      "Valid accuracy: 87 %\n",
      "[Epoch: 16, Batch:   10 /   29], loss: 0.366\n",
      "[Epoch: 16, Batch:   20 /   29], loss: 0.345\n",
      "Valid accuracy: 90 %\n",
      "[Epoch: 17, Batch:   10 /   29], loss: 0.387\n",
      "[Epoch: 17, Batch:   20 /   29], loss: 0.332\n",
      "Valid accuracy: 87 %\n",
      "[Epoch: 18, Batch:   10 /   29], loss: 0.275\n",
      "[Epoch: 18, Batch:   20 /   29], loss: 0.244\n",
      "Valid accuracy: 93 %\n",
      "[Epoch: 19, Batch:   10 /   29], loss: 0.173\n",
      "[Epoch: 19, Batch:   20 /   29], loss: 0.275\n",
      "Valid accuracy: 92 %\n",
      "[Epoch: 20, Batch:   10 /   29], loss: 0.318\n",
      "[Epoch: 20, Batch:   20 /   29], loss: 0.392\n",
      "Valid accuracy: 80 %\n"
     ]
    }
   ],
   "source": [
    "train(pointnet, train_loader, valid_loader,  save=False)"
   ]
  },
  {
   "cell_type": "code",
   "execution_count": 79,
   "metadata": {
    "executionInfo": {
     "elapsed": 622,
     "status": "ok",
     "timestamp": 1674085420833,
     "user": {
      "displayName": "SUKIDA Tan",
      "userId": "04234593673225449814"
     },
     "user_tz": -60
    },
    "id": "1o3jIgZ5CbdH"
   },
   "outputs": [],
   "source": [
    "torch.save(pointnet.state_dict(), \"best_model_p_xyz_sd.pth\")"
   ]
  },
  {
   "cell_type": "markdown",
   "metadata": {
    "id": "rdIlrnXh2UX9"
   },
   "source": [
    "# Test"
   ]
  },
  {
   "cell_type": "code",
   "execution_count": 43,
   "metadata": {
    "executionInfo": {
     "elapsed": 269,
     "status": "ok",
     "timestamp": 1674085428035,
     "user": {
      "displayName": "SUKIDA Tan",
      "userId": "04234593673225449814"
     },
     "user_tz": -60
    },
    "id": "mNefMkzH2Wvw"
   },
   "outputs": [],
   "source": [
    "from sklearn.metrics import confusion_matrix"
   ]
  },
  {
   "cell_type": "code",
   "execution_count": 44,
   "metadata": {
    "id": "h2u-0bwC2X_Y"
   },
   "outputs": [],
   "source": [
    "pointnet = PointNet()\n",
    "pointnet.load_state_dict(torch.load('best_model_p_xyz_sd.pth'))\n",
    "pointnet.eval();"
   ]
  },
  {
   "cell_type": "code",
   "execution_count": 45,
   "metadata": {
    "colab": {
     "base_uri": "https://localhost:8080/"
    },
    "executionInfo": {
     "elapsed": 36922,
     "status": "ok",
     "timestamp": 1674085593013,
     "user": {
      "displayName": "SUKIDA Tan",
      "userId": "04234593673225449814"
     },
     "user_tz": -60
    },
    "id": "5MD2tiRU2bPd",
    "outputId": "bd75c1bb-077e-453f-f581-dc0732238d88"
   },
   "outputs": [
    {
     "name": "stdout",
     "output_type": "stream",
     "text": [
      "Batch [   1 /   20]\n",
      "Batch [   2 /   20]\n",
      "Batch [   3 /   20]\n",
      "Batch [   4 /   20]\n",
      "Batch [   5 /   20]\n",
      "Batch [   6 /   20]\n",
      "Batch [   7 /   20]\n",
      "Batch [   8 /   20]\n",
      "Batch [   9 /   20]\n",
      "Batch [  10 /   20]\n",
      "Batch [  11 /   20]\n",
      "Batch [  12 /   20]\n",
      "Batch [  13 /   20]\n",
      "Batch [  14 /   20]\n",
      "Batch [  15 /   20]\n",
      "Batch [  16 /   20]\n",
      "Batch [  17 /   20]\n",
      "Batch [  18 /   20]\n",
      "Batch [  19 /   20]\n",
      "Batch [  20 /   20]\n"
     ]
    }
   ],
   "source": [
    "all_preds = []\n",
    "all_labels = []\n",
    "with torch.no_grad():\n",
    "    for i, data in enumerate(test_loader):\n",
    "        print('Batch [%4d / %4d]' % (i+1, len(test_loader)))\n",
    "                   \n",
    "        labels = data[:,1,3]\n",
    "        labels = labels.type(torch.LongTensor) \n",
    "        inputs, labels = data[:,:,0:3].float(), labels\n",
    "        outputs, __, __ = pointnet(inputs.transpose(1,2))\n",
    "        _, preds = torch.max(outputs.data, 1)\n",
    "        all_preds += list(preds.numpy())\n",
    "        all_labels += list(labels.numpy())\n",
    "        \n"
   ]
  },
  {
   "cell_type": "code",
   "execution_count": 46,
   "metadata": {
    "colab": {
     "base_uri": "https://localhost:8080/"
    },
    "executionInfo": {
     "elapsed": 376,
     "status": "ok",
     "timestamp": 1674088910585,
     "user": {
      "displayName": "SUKIDA Tan",
      "userId": "04234593673225449814"
     },
     "user_tz": -60
    },
    "id": "LvqVmt0i2ds3",
    "outputId": "2f890904-33c1-49e0-c5a9-7ba544a7cef6"
   },
   "outputs": [
    {
     "name": "stdout",
     "output_type": "stream",
     "text": [
      "[227 146   2  55 169  12]\n",
      "[135  94   2  74 198 108]\n",
      "[[120  31   0  47  29   0]\n",
      " [  7  30   2  20  85   2]\n",
      " [  0   0   0   0   2   0]\n",
      " [  0  24   0   2   4  25]\n",
      " [  8   9   0   5  78  69]\n",
      " [  0   0   0   0   0  12]]\n",
      "0.3960720130932897\n"
     ]
    }
   ],
   "source": [
    "cm = confusion_matrix(all_labels, all_preds);\n",
    "cm\n",
    "print(np.bincount(all_labels))\n",
    "print(np.bincount(all_preds))\n",
    "print(cm)\n",
    "\n",
    "correct_rate = np.diagonal(cm).sum()/cm.sum()\n",
    "print(correct_rate)"
   ]
  },
  {
   "cell_type": "code",
   "execution_count": 47,
   "metadata": {
    "colab": {
     "base_uri": "https://localhost:8080/"
    },
    "executionInfo": {
     "elapsed": 245,
     "status": "ok",
     "timestamp": 1674086880589,
     "user": {
      "displayName": "SUKIDA Tan",
      "userId": "04234593673225449814"
     },
     "user_tz": -60
    },
    "id": "jQryCKH4R1FW",
    "outputId": "528acf69-4698-4cea-be2a-ded3b34f69d9"
   },
   "outputs": [
    {
     "data": {
      "text/plain": [
       "{'wall & balcony & ..': 0,\n",
       " 'window & blinds': 1,\n",
       " 'door': 2,\n",
       " 'molding & decoration': 3,\n",
       " 'ground surface & terrian': 4,\n",
       " 'roof & others': 5}"
      ]
     },
     "execution_count": 47,
     "metadata": {},
     "output_type": "execute_result"
    }
   ],
   "source": [
    "classes = {'wall & balcony & ..': 0,\n",
    "           'window & blinds': 1,\n",
    "           'door': 2,\n",
    "           'molding & decoration': 3,\n",
    "           'ground surface & terrian': 4,\n",
    "           'roof & others': 5}\n",
    "classes\n",
    "cla_test = {'wall & balcony & ..': 0,\n",
    "            'window & blinds': 1,\n",
    "            'door': 2,\n",
    "            'molding & decoration': 3,\n",
    "            'ground surface & terrian': 4,\n",
    "            'roof & others': 5}\n",
    "cla_test"
   ]
  },
  {
   "cell_type": "code",
   "execution_count": 48,
   "metadata": {
    "executionInfo": {
     "elapsed": 235,
     "status": "ok",
     "timestamp": 1674086267324,
     "user": {
      "displayName": "SUKIDA Tan",
      "userId": "04234593673225449814"
     },
     "user_tz": -60
    },
    "id": "MvIkJrRI2g8L"
   },
   "outputs": [],
   "source": [
    "import itertools\n",
    "import numpy as np\n",
    "import matplotlib.pyplot as plt\n",
    "\n",
    "# function from https://deeplizard.com/learn/video/0LhiS6yu2qQ\n",
    "def plot_confusion_matrix(cm, classes, normalize=False, title='Confusion matrix', cmap=plt.cm.Blues):\n",
    "    if normalize:\n",
    "        cm = cm.astype('float') / cm.sum(axis=1)[:, np.newaxis]\n",
    "        print(\"Normalized confusion matrix\")\n",
    "    else:\n",
    "        print('Confusion matrix, without normalization')\n",
    "\n",
    "    plt.imshow(cm, interpolation='nearest', cmap=cmap)\n",
    "    plt.title(title)\n",
    "    plt.colorbar()\n",
    "    tick_marks = np.arange(len(classes))\n",
    "    plt.xticks(tick_marks, classes, rotation=45)\n",
    "    plt.yticks(tick_marks, classes)\n",
    "\n",
    "    fmt = '.2f' if normalize else 'd'\n",
    "    thresh = cm.max() / 2.\n",
    "    for i, j in itertools.product(range(cm.shape[0]), range(cm.shape[1])):\n",
    "        plt.text(j, i, format(cm[i, j], fmt), horizontalalignment=\"center\", color=\"white\" if cm[i, j] > thresh else \"black\")\n",
    "\n",
    "    plt.tight_layout()\n",
    "    plt.ylabel('True label')\n",
    "    plt.xlabel('Predicted label')"
   ]
  },
  {
   "cell_type": "code",
   "execution_count": 49,
   "metadata": {
    "colab": {
     "base_uri": "https://localhost:8080/",
     "height": 652
    },
    "executionInfo": {
     "elapsed": 830,
     "status": "ok",
     "timestamp": 1674086917326,
     "user": {
      "displayName": "SUKIDA Tan",
      "userId": "04234593673225449814"
     },
     "user_tz": -60
    },
    "id": "YJeGeH212i6h",
    "outputId": "72dd3fa4-5411-44bb-c876-8f1e7cb6d839"
   },
   "outputs": [
    {
     "name": "stdout",
     "output_type": "stream",
     "text": [
      "Normalized confusion matrix\n"
     ]
    },
    {
     "data": {
      "image/png": "[encoded data removed]",
      "text/plain": [
       "<Figure size 800x800 with 2 Axes>"
      ]
     },
     "metadata": {},
     "output_type": "display_data"
    }
   ],
   "source": [
    "plt.figure(figsize=(8,8))\n",
    "plot_confusion_matrix(cm, list(cla_test.keys()), normalize=True)"
   ]
  },
  {
   "cell_type": "code",
   "execution_count": 50,
   "metadata": {
    "colab": {
     "base_uri": "https://localhost:8080/",
     "height": 580
    },
    "executionInfo": {
     "elapsed": 1205,
     "status": "ok",
     "timestamp": 1674086946985,
     "user": {
      "displayName": "SUKIDA Tan",
      "userId": "04234593673225449814"
     },
     "user_tz": -60
    },
    "id": "9FeHmyzh2mZq",
    "outputId": "8cb5c54e-31e6-448c-c9c5-5b8b2c48c0bf"
   },
   "outputs": [
    {
     "name": "stdout",
     "output_type": "stream",
     "text": [
      "Confusion matrix, without normalization\n"
     ]
    },
    {
     "data": {
      "image/png": "[encoded data removed]",
      "text/plain": [
       "<Figure size 800x800 with 2 Axes>"
      ]
     },
     "metadata": {},
     "output_type": "display_data"
    }
   ],
   "source": [
    "plt.figure(figsize=(8,8))\n",
    "plot_confusion_matrix(cm, list(cla_test.keys()), normalize=False)"
   ]
  },
  {
   "cell_type": "code",
   "execution_count": null,
   "metadata": {},
   "outputs": [],
   "source": []
  }
 ],
 "metadata": {
  "accelerator": "GPU",
  "colab": {
   "authorship_tag": "ABX9TyOps7S6O6rs3xgWiavpNy6T",
   "collapsed_sections": [
    "be8RFvYTsfYE",
    "sSRH6VAGf7Xw",
    "N0FRlJOh2EuO"
   ],
   "provenance": [],
   "toc_visible": true
  },
  "gpuClass": "standard",
  "kernelspec": {
   "display_name": "Python 3 (ipykernel)",
   "language": "python",
   "name": "python3"
  },
  "language_info": {
   "codemirror_mode": {
    "name": "ipython",
    "version": 3
   },
   "file_extension": ".py",
   "mimetype": "text/x-python",
   "name": "python",
   "nbconvert_exporter": "python",
   "pygments_lexer": "ipython3",
   "version": "3.9.13"
  }
 },
 "nbformat": 4,
 "nbformat_minor": 4
}
