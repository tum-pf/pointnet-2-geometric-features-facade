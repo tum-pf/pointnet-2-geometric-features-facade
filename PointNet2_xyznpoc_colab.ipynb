{
 "cells": [
  {
   "cell_type": "markdown",
   "metadata": {
    "id": "be8RFvYTsfYE",
    "tags": []
   },
   "source": [
    "# Data Load\n"
   ]
  },
  {
   "cell_type": "code",
   "execution_count": 4,
   "metadata": {
    "id": "0J4zJlrCqSb4"
   },
   "outputs": [],
   "source": [
    "import numpy as np\n",
    "import math\n",
    "import random\n",
    "import os\n",
    "import torch\n",
    "import scipy.spatial.distance\n",
    "from torch.utils.data import Dataset, DataLoader\n",
    "from torchvision import transforms, utils\n",
    "\n",
    "import plotly.graph_objects as go\n",
    "import plotly.express as px\n",
    "\n",
    "import matplotlib.pylab as plt\n",
    "from mpl_toolkits.mplot3d import Axes3D\n",
    "import pandas as pd\n",
    "from sklearn.model_selection import train_test_split\n",
    "from sklearn.ensemble import RandomForestClassifier\n",
    "from google.colab import drive\n",
    "import tensorflow as tf\n",
    "import torch.nn as nn\n",
    "import torch.nn.functional as F\n",
    "import torch.optim as optim\n"
   ]
  },
  {
   "cell_type": "code",
   "execution_count": 5,
   "metadata": {
    "colab": {
     "base_uri": "https://localhost:8080/"
    },
    "id": "RJh2Dh8upkPg",
    "outputId": "cf5a2005-dadf-46a4-91c8-216115f58814"
   },
   "outputs": [
    {
     "name": "stdout",
     "output_type": "stream",
     "text": [
      "Mounted at /content/drive\n"
     ]
    }
   ],
   "source": [
    "drive.mount('/content/drive')"
   ]
  },
  {
   "cell_type": "code",
   "execution_count": 58,
   "metadata": {
    "colab": {
     "base_uri": "https://localhost:8080/"
    },
    "id": "V2U0xlHOpU_6",
    "outputId": "968239ca-2763-48a7-99cd-c8453a50d7d0"
   },
   "outputs": [
    {
     "name": "stdout",
     "output_type": "stream",
     "text": [
      "                x      y      z         p           o         c        n1  \\\n",
      "0        4.400000   5.60  11.00  0.889916  139.555687  0.034776  0.831919   \n",
      "1        4.400000   5.65   9.80  0.862543  174.456555  0.040476 -0.937781   \n",
      "2        4.400000   5.95   2.25  0.720397  376.340517  0.084192  0.758971   \n",
      "3        4.400000   6.00   1.65  0.325332  283.398300  0.142658 -0.455799   \n",
      "4        4.400000   5.80   2.90  0.760750  349.709760  0.078349  0.629671   \n",
      "...           ...    ...    ...       ...         ...       ...       ...   \n",
      "1241127  1.550000   6.95   7.25  0.265804  202.062927  0.112716  0.379005   \n",
      "1241128  1.550000   7.00   7.60  0.432654  241.693884  0.088374 -0.496047   \n",
      "1241129  1.550000   6.90   7.25  0.294161  214.719354  0.110785  0.317526   \n",
      "1241130 -9.150001  11.45   7.10  0.322439   96.122849  0.084484 -0.711721   \n",
      "1241131 -9.350000  11.30   5.30  0.403567  147.471003  0.076126  0.551258   \n",
      "\n",
      "               n2        n3          l1          l2          l3  \n",
      "0       -0.266723 -0.486590  342.159866  328.662887   24.169234  \n",
      "1        0.312998  0.150328  409.218574  386.535977   33.567316  \n",
      "2       -0.639324  0.123401  699.386299  625.648929  121.813411  \n",
      "3       -0.637798  0.620855  526.388947  310.506976  139.255898  \n",
      "4       -0.641620  0.437994  656.421599  606.753640  107.381139  \n",
      "...           ...       ...         ...         ...         ...  \n",
      "1241127 -0.724285 -0.575992  463.428975  208.545498   85.364229  \n",
      "1241128  0.413231  0.763661  538.944969  316.062362   82.885732  \n",
      "1241129 -0.764079 -0.561570  482.548745  230.824172   88.877351  \n",
      "1241130  0.505537  0.487736  243.620677  111.305622   32.752817  \n",
      "1241131 -0.833320  0.041142  363.542946  192.534146   45.820140  \n",
      "\n",
      "[1241132 rows x 12 columns]\n"
     ]
    }
   ],
   "source": [
    "lxyz_train = pd.read_csv('/content/drive/MyDrive/PCD/training/lxyz_train_xyzpocn.csv',index_col = False)\n",
    "print(lxyz_train)"
   ]
  },
  {
   "cell_type": "code",
   "execution_count": 59,
   "metadata": {
    "colab": {
     "base_uri": "https://localhost:8080/"
    },
    "id": "Ndkilp3upU_7",
    "outputId": "6a16f2e2-4ff6-4317-95fb-400e5b08122d"
   },
   "outputs": [
    {
     "name": "stdout",
     "output_type": "stream",
     "text": [
      "            x          y          z         p          o         c        n1  \\\n",
      "0       14.25  12.950000   7.150000  0.117071   0.095071  0.023735  0.596763   \n",
      "1       14.20  12.850000  19.150000  0.074767  17.740876  0.175874  0.938729   \n",
      "2       14.20  12.800000  19.150000  0.080304  19.920146  0.159482  0.945373   \n",
      "3       14.20  12.950000  19.200001  0.054315  12.568280  0.239675 -0.905330   \n",
      "4       14.20  12.650001  19.600000  0.124446  25.038166  0.095084  0.944082   \n",
      "...       ...        ...        ...       ...        ...       ...       ...   \n",
      "627576 -13.80 -12.100000   1.600000  0.162190  40.424178  0.073496  0.882015   \n",
      "627577 -13.80 -12.150001   1.600000  0.157458  46.817645  0.084224  0.860524   \n",
      "627578 -13.80 -11.950000   1.550000  0.274379  15.954391  0.031064  0.954728   \n",
      "627579 -13.85 -12.050000   1.600000  0.167637  29.673507  0.058562  0.896538   \n",
      "627580 -13.85 -11.750000   1.600000  0.333941   5.438617  0.008600  0.999530   \n",
      "\n",
      "              n2        n3          l1         l2         l3  \n",
      "0      -0.053219  0.800651    0.597247   0.086545   0.016625  \n",
      "1      -0.336146  0.076119   37.389544  13.697890  10.902380  \n",
      "2      -0.321293  0.055145   45.428023  15.140520  11.492457  \n",
      "3       0.410512 -0.108895   19.643622  10.600784   9.533844  \n",
      "4      -0.325949  0.049672   77.393937  19.849186  10.217811  \n",
      "...          ...       ...         ...        ...        ...  \n",
      "627576 -0.452860  0.130261  135.986943  35.672947  13.617187  \n",
      "627577 -0.484578  0.157110  147.155325  40.422470  17.251619  \n",
      "627578 -0.297292  0.010576   67.232417  21.285030   2.837838  \n",
      "627579 -0.437825  0.067294  111.238593  27.263077   8.615416  \n",
      "627580 -0.000719  0.030649   34.163937  11.807541   0.398784  \n",
      "\n",
      "[627581 rows x 12 columns]\n"
     ]
    }
   ],
   "source": [
    "lxyz_test = pd.read_csv('/content/drive/MyDrive/PCD/training/lxyz_test_xyzpocn.csv',index_col = False)\n",
    "print(lxyz_test)"
   ]
  },
  {
   "cell_type": "code",
   "execution_count": 60,
   "metadata": {
    "colab": {
     "base_uri": "https://localhost:8080/"
    },
    "id": "_faGSKUipU_7",
    "outputId": "83d30fc9-7a2e-4db9-b36f-fafa126c633d"
   },
   "outputs": [
    {
     "name": "stdout",
     "output_type": "stream",
     "text": [
      "         cla\n",
      "0          0\n",
      "1          0\n",
      "2          0\n",
      "3          0\n",
      "4          0\n",
      "...      ...\n",
      "1241127    4\n",
      "1241128    4\n",
      "1241129    4\n",
      "1241130    4\n",
      "1241131    4\n",
      "\n",
      "[1241132 rows x 1 columns]\n"
     ]
    }
   ],
   "source": [
    "lclass_train = pd.read_csv(\"/content/drive/MyDrive/PCD/training/lclass_train_xyzpocn.csv\",index_col = False)\n",
    "lclass_train = lclass_train.replace({14:1})\n",
    "print(lclass_train)"
   ]
  },
  {
   "cell_type": "code",
   "execution_count": 61,
   "metadata": {
    "colab": {
     "base_uri": "https://localhost:8080/"
    },
    "id": "vafb2LAypU_8",
    "outputId": "a7c578c5-ea98-468d-ef47-594d0383f9e3"
   },
   "outputs": [
    {
     "name": "stdout",
     "output_type": "stream",
     "text": [
      "cla\n",
      "0      229206\n",
      "4      173727\n",
      "1      152563\n",
      "3       57049\n",
      "5       12315\n",
      "2        2721\n",
      "dtype: int64\n"
     ]
    }
   ],
   "source": [
    "lclass_test = pd.read_csv(\"/content/drive/MyDrive/PCD/training/lclass_test_xyzpocn.csv\",index_col = False)\n",
    "print(lclass_test.value_counts())"
   ]
  },
  {
   "cell_type": "code",
   "execution_count": null,
   "metadata": {
    "id": "wOHAa2Ku_ci8"
   },
   "outputs": [],
   "source": [
    "lxyz = pd.read_csv('./data/training/labelledLocalCRS/DEBY_LOD2_4959323/DEBY_LOD2_4959323.xyz', sep=\" \", header=0)\n",
    "lxyz.columns = [\"x\", \"y\", \"z\", \"cla\"]\n",
    "print(lxyz.cla.value_counts())\n",
    "\n",
    "lxyz_test = pd.read_csv('./data/test/labelledLocalCRS/DEBY_LOD2_4959459/DEBY_LOD2_4959459.xyz', sep=\" \", header=0)\n",
    "lxyz_test.columns = [\"x\", \"y\", \"z\", \"cla\"]\n",
    "print(lxyz_test.cla.value_counts())"
   ]
  },
  {
   "cell_type": "code",
   "execution_count": null,
   "metadata": {
    "id": "ojCF6ScDpU_8"
   },
   "outputs": [],
   "source": [
    "# lxyz = pd.read_csv('./data/training/labelledLocalCRS/DEBY_LOD2_4959322/DEBY_LOD2_4959322.xyz', sep=\" \", header=0)\n",
    "# lxyz.columns = [\"x\", \"y\", \"z\", \"cla\"]\n",
    "lxyz_1 = pd.read_csv('./data/training/labelledLocalCRS/DEBY_LOD2_4906981/DEBY_LOD2_4906981.xyz', sep=\" \", header=0)\n",
    "lxyz_1.columns = [\"x\", \"y\", \"z\", \"cla\"]\n",
    "lxyz_2 = pd.read_csv('./data/training/labelledLocalCRS/DEBY_LOD2_4959322/DEBY_LOD2_4959322.xyz', sep=\" \", header=0)\n",
    "lxyz_2.columns = [\"x\", \"y\", \"z\", \"cla\"]\n",
    "lxyz_3 = pd.read_csv('./data/training/labelledLocalCRS/DEBY_LOD2_4959460/DEBY_LOD2_4959460.xyz', sep=\" \", header=0)\n",
    "lxyz_3.columns = [\"x\", \"y\", \"z\", \"cla\"]\n",
    "lxyz_4 = pd.read_csv('./data/training/labelledLocalCRS/DEBY_LOD2_4959462/DEBY_LOD2_4959462.xyz', sep=\" \", header=0)\n",
    "lxyz_4.columns = [\"x\", \"y\", \"z\", \"cla\"]\n",
    "lxyz = pd.concat([lxyz_1, lxyz_2, lxyz_3, lxyz_4], axis = 0)\n",
    "print(lxyz.cla.value_counts())\n",
    "\n",
    "lxyz_test = pd.read_csv('./data/training/labelledLocalCRS/DEBY_LOD2_4959323/DEBY_LOD2_4959323.xyz', sep=\" \", header=0)\n",
    "lxyz_test.columns = [\"x\", \"y\", \"z\", \"cla\"]\n",
    "print(lxyz_test.cla.value_counts())"
   ]
  },
  {
   "cell_type": "markdown",
   "metadata": {
    "id": "3lxlRashh0OB",
    "tags": []
   },
   "source": [
    "# Sample Points & Merge class"
   ]
  },
  {
   "cell_type": "code",
   "execution_count": null,
   "metadata": {
    "colab": {
     "base_uri": "https://localhost:8080/"
    },
    "id": "S1cMVZu8h0OB",
    "outputId": "17449910-5105-4102-bc95-dff57e655242"
   },
   "outputs": [
    {
     "name": "stdout",
     "output_type": "stream",
     "text": [
      "1     19125652\n",
      "5      7069941\n",
      "2      3690730\n",
      "13     3682513\n",
      "11     1979855\n",
      "3       288073\n",
      "Name: cla, dtype: int64\n",
      "1     419034\n",
      "2     276623\n",
      "13    243566\n",
      "5      93060\n",
      "11     14055\n",
      "3       4101\n",
      "Name: cla, dtype: int64\n"
     ]
    }
   ],
   "source": [
    "lclass = lxyz['cla'].replace({6:5,9:1,15:1,10:1,12:11,17:13,16:13,14:2})\n",
    "print(lclass.value_counts())\n",
    "\n",
    "lclass_test = lxyz_test['cla'].replace({6:5,9:1,15:1,10:1,12:11,17:13,16:13,14:2,4:1})\n",
    "print(lclass_test.value_counts())"
   ]
  },
  {
   "cell_type": "code",
   "execution_count": null,
   "metadata": {
    "colab": {
     "base_uri": "https://localhost:8080/"
    },
    "id": "GKxmADxeh0OC",
    "outputId": "d3761787-b386-4d47-d986-7a23a7afdd54"
   },
   "outputs": [
    {
     "name": "stdout",
     "output_type": "stream",
     "text": [
      "1    19125652\n",
      "4     7069941\n",
      "2     3690730\n",
      "5     3682513\n",
      "6     1979855\n",
      "3      288073\n",
      "Name: cla, dtype: int64\n",
      "1    419034\n",
      "2    276623\n",
      "5    243566\n",
      "4     93060\n",
      "6     14055\n",
      "3      4101\n",
      "Name: cla, dtype: int64\n"
     ]
    }
   ],
   "source": [
    "lclass = lclass.replace({5:4,13:5,11:6})\n",
    "print(lclass.value_counts())\n",
    "# 1: wall\n",
    "# 2: window\n",
    "# 3: door\n",
    "# 4: molding\n",
    "# 5: other\n",
    "# 6: terrian\n",
    "# 7: column\n",
    "# 8: arch\n",
    "\n",
    "lclass_test = lclass_test.replace({5:4,13:5,11:6})\n",
    "print(lclass_test.value_counts())"
   ]
  },
  {
   "cell_type": "code",
   "execution_count": null,
   "metadata": {
    "colab": {
     "base_uri": "https://localhost:8080/"
    },
    "id": "5r6IIothh0OC",
    "outputId": "9a33a1cb-93a9-4516-baf3-2c56f08013c1"
   },
   "outputs": [
    {
     "name": "stdout",
     "output_type": "stream",
     "text": [
      "0    19125652\n",
      "3     7069941\n",
      "1     3690730\n",
      "4     3682513\n",
      "5     1979855\n",
      "2      288073\n",
      "Name: cla, dtype: int64\n",
      "0    419034\n",
      "1    276623\n",
      "4    243566\n",
      "3     93060\n",
      "5     14055\n",
      "2      4101\n",
      "Name: cla, dtype: int64\n"
     ]
    }
   ],
   "source": [
    "lclass = lclass.replace({1:0,2:1,3:2,4:3,5:4,6:5,7:6,8:7})\n",
    "print(lclass.value_counts())\n",
    "# 0: wall\n",
    "# 1: window\n",
    "# 2: door\n",
    "# 3: molding\n",
    "# 4: other\n",
    "# 5: terrian\n",
    "# 6: column\n",
    "# 7: arch\n",
    "\n",
    "lclass_test = lclass_test.replace({1:0,2:1,3:2,4:3,5:4,6:5,7:6,8:7})\n",
    "print(lclass_test.value_counts())"
   ]
  },
  {
   "cell_type": "code",
   "execution_count": null,
   "metadata": {
    "id": "dctxSgLvh0OC"
   },
   "outputs": [],
   "source": [
    "lxyz = lxyz.drop('cla',axis = 1) \n",
    "lxyz_test = lxyz_test.drop('cla',axis = 1) \n",
    "\n",
    "lxyz = lxyz.to_numpy().reshape(-1,3)\n",
    "lxyz_test = lxyz_test.to_numpy().reshape(-1,3)"
   ]
  },
  {
   "cell_type": "code",
   "execution_count": null,
   "metadata": {
    "id": "poQjG-u-h0OD"
   },
   "outputs": [],
   "source": [
    "import open3d as o3d"
   ]
  },
  {
   "cell_type": "code",
   "execution_count": null,
   "metadata": {
    "id": "235PU0dyh0OD"
   },
   "outputs": [],
   "source": [
    "######################### using open3d for point processing ################\n",
    "device = o3d.core.Device(\"CPU:0\")\n",
    "dtype = o3d.core.float32\n",
    "pcd = o3d.t.geometry.PointCloud(device)\n",
    "pcd.point.positions = o3d.core.Tensor(lxyz, dtype, device)\n",
    "pcd.point.labels = o3d.core.Tensor(lclass.to_numpy().reshape(-1,1), o3d.core.int32, device)\n",
    "# o3d.visualization.draw([pcd])\n",
    "downpcd = pcd.voxel_down_sample(voxel_size = 0.05)\n",
    "\n",
    "lxyz_train = downpcd.point.positions.numpy()\n",
    "lclass_train = downpcd.point.labels.numpy()\n",
    "\n",
    "pcd_train = o3d.geometry.PointCloud()\n",
    "pcd_train.points = o3d.utility.Vector3dVector(lxyz_train)\n",
    "\n",
    "# 颜色\n",
    "colors = plt.get_cmap(\"tab20\")(np.array(lclass_train).reshape(-1) / 17.0)\n",
    "colors = colors[:,0:3]\n",
    "pcd_train.colors=o3d.utility.Vector3dVector(colors)\n",
    "o3d.visualization.draw_geometries([pcd_train], window_name='test the color',width=800,height=600)"
   ]
  },
  {
   "cell_type": "code",
   "execution_count": null,
   "metadata": {
    "id": "LfuxjHvDh0OD"
   },
   "outputs": [],
   "source": [
    "pcd_test = o3d.t.geometry.PointCloud(device)\n",
    "pcd_test.point.positions = o3d.core.Tensor(lxyz_test, dtype, device)\n",
    "pcd_test.point.labels = o3d.core.Tensor(lclass_test.to_numpy().reshape(-1,1), o3d.core.int32, device)\n",
    "# o3d.visualization.draw([pcd])\n",
    "downpcd_test = pcd_test.voxel_down_sample(voxel_size = 0.05)\n",
    "\n",
    "lxyz_test = downpcd_test.point.positions.numpy()\n",
    "lclass_test = downpcd_test.point.labels.numpy()\n",
    "\n",
    "pcd_test = o3d.geometry.PointCloud()\n",
    "pcd_test.points = o3d.utility.Vector3dVector(lxyz_test)\n",
    "\n",
    "# 颜色\n",
    "colors = plt.get_cmap(\"tab20\")(np.array(lclass_test).reshape(-1) / 17.0)\n",
    "colors = colors[:,0:3]\n",
    "pcd_test.colors=o3d.utility.Vector3dVector(colors)\n",
    "o3d.visualization.draw_geometries([pcd_test], window_name='test the color',width=800,height=600)"
   ]
  },
  {
   "cell_type": "markdown",
   "metadata": {
    "id": "Zpai1NpBh0OE",
    "tags": []
   },
   "source": [
    "# Add Features （ IF NOT KEEP AS X Y Z）"
   ]
  },
  {
   "cell_type": "code",
   "execution_count": null,
   "metadata": {
    "id": "wqaBj5I8pU_-"
   },
   "outputs": [],
   "source": [
    "def PCA(data, correlation=False, sort=True):\n",
    "    average_data = np.mean(data,axis=0)       # calulating the centroid\n",
    "    decentration_matrix = data - average_data   # move the origin to the centroid\n",
    "    H = np.dot(decentration_matrix.T,decentration_matrix)  # calculating decentration_matrix H\n",
    "    eigenvectors,eigenvalues,eigenvectors_T = np.linalg.svd(H)    # SVD - eigenvalue,eigenvector\n",
    "\n",
    "\n",
    "    if sort:\n",
    "        sort = eigenvalues.argsort()[::-1]      # sorting as main component\n",
    "        eigenvalues = eigenvalues[sort]         \n",
    "        eigenvectors = eigenvectors[:, sort]\n",
    "\n",
    "    return eigenvalues, eigenvectors\n",
    "\n",
    "def collFeatures(pcd,length,size = 0.8):\n",
    "    pcd_tree = o3d.geometry.KDTreeFlann(pcd)  #set a kd tree for tha point cloud, make searching faster\n",
    "    normals = []\n",
    "    llambda = []\n",
    "    lp = []\n",
    "    lo = []\n",
    "    lc = []\n",
    "    non_idx = []\n",
    "    # print(point_cloud_o3d)  #geometry::PointCloud with 10000 points.\n",
    "    print(length) #10000\n",
    "    for i in range(length):\n",
    "        # search_knn_vector_3d， input[point，x]      returns [int, open3d.utility.IntVector, open3d.utility.DoubleVector]\n",
    "        [_, idx, _] = pcd_tree.search_radius_vector_3d(pcd.points[i], size)  \n",
    "        # asarray is the same as array  but asarray will save the memeory\n",
    "        k_nearest_point = np.asarray(pcd.points)[idx, :]  #find the surrounding points for each point, set them as a curve and use PCA to find the normal\n",
    "        lamb, v = PCA(k_nearest_point)\n",
    "        if len(k_nearest_point) == 1:\n",
    "            non_idx.append(i)  # record the index that has no knn point\n",
    "            p = 0\n",
    "            o = 0\n",
    "            c = 0\n",
    "        else:\n",
    "            p = (lamb[1]-lamb[2])/lamb[0] # calculate features based on eigenvalues\n",
    "            o = pow(lamb[0]*lamb[1]*lamb[2],1.0/3.0)\n",
    "            c = lamb[2]/sum(lamb)\n",
    "        normals.append(v[:, 1])\n",
    "        llambda.append(lamb)\n",
    "        lp.append(p)\n",
    "        lo.append(o)\n",
    "        lc.append(c)\n",
    "    return np.array(normals),np.array(llambda),np.array(lp).reshape(length,-1),np.array(lo).reshape(length,-1),np.array(lc).reshape(length,-1), np.array(non_idx)"
   ]
  },
  {
   "cell_type": "code",
   "execution_count": null,
   "metadata": {
    "id": "BTvLZlk4pU__",
    "outputId": "9b50ffed-e5dc-4e3c-9a98-f280972ab0f0"
   },
   "outputs": [
    {
     "name": "stdout",
     "output_type": "stream",
     "text": [
      "1241136\n"
     ]
    }
   ],
   "source": [
    "# add features, normals, lambda, p, o, c, radius is 0.8m\n",
    "normals,llambda,lp,lo,lc,non_index = collFeatures(pcd_train,downpcd.point.positions.shape[0])\n",
    "lxyz_train = np.hstack((lxyz_train,lp,lo,lc,normals,llambda))\n",
    "lxyz_train = pd.DataFrame(lxyz_train)\n",
    "lxyz_train.columns = [\"x\", \"y\", \"z\", \"p\",\"o\",\"c\",\"n1\",\"n2\",\"n3\",\"l1\",\"l2\",\"l3\"]\n",
    "lxyz_train = lxyz_train.drop(lxyz_train.index[non_index])\n",
    "lclass_train = np.delete(lclass_train, non_index, axis=0)  "
   ]
  },
  {
   "cell_type": "code",
   "execution_count": null,
   "metadata": {
    "id": "os8M5p3LpU__",
    "outputId": "9c637b3a-96e7-47b8-d04e-a8747529a2ac"
   },
   "outputs": [
    {
     "name": "stdout",
     "output_type": "stream",
     "text": [
      "627590\n"
     ]
    }
   ],
   "source": [
    "normals_t,llambda_t,lp_t,lo_t,lc_t,non_index_t = collFeatures(pcd_test,downpcd_test.point.positions.shape[0])\n",
    "lxyz_test = np.hstack((lxyz_test,lp_t,lo_t,lc_t,normals_t,llambda_t))\n",
    "lxyz_test = pd.DataFrame(lxyz_test)\n",
    "lxyz_test.columns = [\"x\", \"y\", \"z\", \"p\",\"o\",\"c\",\"n1\",\"n2\",\"n3\",\"l1\",\"l2\",\"l3\"]\n",
    "lxyz_test = lxyz_test.drop(lxyz_test.index[non_index_t])\n",
    "lclass_test = np.delete(lclass_test, non_index_t, axis=0)"
   ]
  },
  {
   "cell_type": "code",
   "execution_count": null,
   "metadata": {
    "id": "egetMYRipU__"
   },
   "outputs": [],
   "source": [
    "lxyz_train = lxyz_train.reset_index()\n",
    "lxyz_test = lxyz_test.reset_index()"
   ]
  },
  {
   "cell_type": "code",
   "execution_count": null,
   "metadata": {
    "id": "oFFE2uHcpU__"
   },
   "outputs": [],
   "source": [
    "lxyz_train = lxyz_train.drop('index',axis = 1)\n",
    "lxyz_test = lxyz_test.drop('index',axis = 1)"
   ]
  },
  {
   "cell_type": "code",
   "execution_count": null,
   "metadata": {
    "id": "iF7ZRdeBpU__"
   },
   "outputs": [],
   "source": [
    "lclass_train = pd.DataFrame(lclass_train, columns = ['cla'], dtype = int)\n",
    "lclass_test = pd.DataFrame(lclass_test, columns = ['cla'], dtype = int)"
   ]
  },
  {
   "cell_type": "code",
   "execution_count": 62,
   "metadata": {
    "id": "h4CjUSmfzG0E"
   },
   "outputs": [],
   "source": [
    "lxyz_train = lxyz_train.drop(['o','n1','n3'],axis = 1)\n",
    "lxyz_test = lxyz_test.drop(['o','n1','n3'],axis = 1)"
   ]
  },
  {
   "cell_type": "code",
   "execution_count": 65,
   "metadata": {
    "colab": {
     "base_uri": "https://localhost:8080/"
    },
    "id": "Dcm1vcZdh0OF",
    "outputId": "e887c288-397c-421f-a3d9-90c2693a46d2"
   },
   "outputs": [
    {
     "name": "stdout",
     "output_type": "stream",
     "text": [
      "         cla\n",
      "0          0\n",
      "1          0\n",
      "2          0\n",
      "3          0\n",
      "4          0\n",
      "...      ...\n",
      "1241127    4\n",
      "1241128    4\n",
      "1241129    4\n",
      "1241130    4\n",
      "1241131    4\n",
      "\n",
      "[1241132 rows x 1 columns]\n"
     ]
    }
   ],
   "source": [
    "print(lclass_train)"
   ]
  },
  {
   "cell_type": "code",
   "execution_count": 64,
   "metadata": {
    "colab": {
     "base_uri": "https://localhost:8080/"
    },
    "id": "lAq8-jwvh0OF",
    "outputId": "916c5cfb-bdd9-4886-b8e4-80ce281266ef"
   },
   "outputs": [
    {
     "name": "stdout",
     "output_type": "stream",
     "text": [
      "        cla\n",
      "0         4\n",
      "1         4\n",
      "2         4\n",
      "3         4\n",
      "4         4\n",
      "...     ...\n",
      "627576    4\n",
      "627577    4\n",
      "627578    4\n",
      "627579    4\n",
      "627580    4\n",
      "\n",
      "[627581 rows x 1 columns]\n"
     ]
    }
   ],
   "source": [
    "print(lclass_test)"
   ]
  },
  {
   "cell_type": "code",
   "execution_count": 63,
   "metadata": {
    "colab": {
     "base_uri": "https://localhost:8080/"
    },
    "id": "BmeeYspTh0OG",
    "outputId": "58d666b8-7882-4afd-ea57-76f180abe3a9"
   },
   "outputs": [
    {
     "name": "stdout",
     "output_type": "stream",
     "text": [
      "                x      y      z         p         c        n2          l1  \\\n",
      "0        4.400000   5.60  11.00  0.889916  0.034776 -0.266723  342.159866   \n",
      "1        4.400000   5.65   9.80  0.862543  0.040476  0.312998  409.218574   \n",
      "2        4.400000   5.95   2.25  0.720397  0.084192 -0.639324  699.386299   \n",
      "3        4.400000   6.00   1.65  0.325332  0.142658 -0.637798  526.388947   \n",
      "4        4.400000   5.80   2.90  0.760750  0.078349 -0.641620  656.421599   \n",
      "...           ...    ...    ...       ...       ...       ...         ...   \n",
      "1241127  1.550000   6.95   7.25  0.265804  0.112716 -0.724285  463.428975   \n",
      "1241128  1.550000   7.00   7.60  0.432654  0.088374  0.413231  538.944969   \n",
      "1241129  1.550000   6.90   7.25  0.294161  0.110785 -0.764079  482.548745   \n",
      "1241130 -9.150001  11.45   7.10  0.322439  0.084484  0.505537  243.620677   \n",
      "1241131 -9.350000  11.30   5.30  0.403567  0.076126 -0.833320  363.542946   \n",
      "\n",
      "                 l2          l3  \n",
      "0        328.662887   24.169234  \n",
      "1        386.535977   33.567316  \n",
      "2        625.648929  121.813411  \n",
      "3        310.506976  139.255898  \n",
      "4        606.753640  107.381139  \n",
      "...             ...         ...  \n",
      "1241127  208.545498   85.364229  \n",
      "1241128  316.062362   82.885732  \n",
      "1241129  230.824172   88.877351  \n",
      "1241130  111.305622   32.752817  \n",
      "1241131  192.534146   45.820140  \n",
      "\n",
      "[1241132 rows x 9 columns]\n"
     ]
    }
   ],
   "source": [
    "print(lxyz_train)"
   ]
  },
  {
   "cell_type": "code",
   "execution_count": 66,
   "metadata": {
    "colab": {
     "base_uri": "https://localhost:8080/"
    },
    "id": "8hM_jo9nh0OG",
    "outputId": "80015cff-42a3-40fd-9743-46e4c05067e1"
   },
   "outputs": [
    {
     "name": "stdout",
     "output_type": "stream",
     "text": [
      "            x          y          z         p         c        n2          l1  \\\n",
      "0       14.25  12.950000   7.150000  0.117071  0.023735 -0.053219    0.597247   \n",
      "1       14.20  12.850000  19.150000  0.074767  0.175874 -0.336146   37.389544   \n",
      "2       14.20  12.800000  19.150000  0.080304  0.159482 -0.321293   45.428023   \n",
      "3       14.20  12.950000  19.200001  0.054315  0.239675  0.410512   19.643622   \n",
      "4       14.20  12.650001  19.600000  0.124446  0.095084 -0.325949   77.393937   \n",
      "...       ...        ...        ...       ...       ...       ...         ...   \n",
      "627576 -13.80 -12.100000   1.600000  0.162190  0.073496 -0.452860  135.986943   \n",
      "627577 -13.80 -12.150001   1.600000  0.157458  0.084224 -0.484578  147.155325   \n",
      "627578 -13.80 -11.950000   1.550000  0.274379  0.031064 -0.297292   67.232417   \n",
      "627579 -13.85 -12.050000   1.600000  0.167637  0.058562 -0.437825  111.238593   \n",
      "627580 -13.85 -11.750000   1.600000  0.333941  0.008600 -0.000719   34.163937   \n",
      "\n",
      "               l2         l3  \n",
      "0        0.086545   0.016625  \n",
      "1       13.697890  10.902380  \n",
      "2       15.140520  11.492457  \n",
      "3       10.600784   9.533844  \n",
      "4       19.849186  10.217811  \n",
      "...           ...        ...  \n",
      "627576  35.672947  13.617187  \n",
      "627577  40.422470  17.251619  \n",
      "627578  21.285030   2.837838  \n",
      "627579  27.263077   8.615416  \n",
      "627580  11.807541   0.398784  \n",
      "\n",
      "[627581 rows x 9 columns]\n"
     ]
    }
   ],
   "source": [
    "print(lxyz_test)"
   ]
  },
  {
   "cell_type": "markdown",
   "metadata": {
    "id": "tqn-6y-qh0OG",
    "tags": []
   },
   "source": [
    "# Data Spilt"
   ]
  },
  {
   "cell_type": "code",
   "execution_count": 67,
   "metadata": {
    "id": "4tNsFTC3h0OH"
   },
   "outputs": [],
   "source": [
    "lxyz_train = pd.concat([lxyz_train, lclass_train], axis = 1)\n",
    "lxyz_test = pd.concat([lxyz_test, lclass_test], axis = 1)\n",
    "# print(lxyz_test.cla.value_counts())"
   ]
  },
  {
   "cell_type": "code",
   "execution_count": 69,
   "metadata": {
    "colab": {
     "base_uri": "https://localhost:8080/"
    },
    "id": "uSTLEgQph0OH",
    "outputId": "fff873cc-3792-4fb7-8b13-1c8f5ebe932d"
   },
   "outputs": [
    {
     "name": "stdout",
     "output_type": "stream",
     "text": [
      "                x      y      z         p         c        n2          l1  \\\n",
      "0        4.400000   5.60  11.00  0.889916  0.034776 -0.266723  342.159866   \n",
      "1        4.400000   5.65   9.80  0.862543  0.040476  0.312998  409.218574   \n",
      "2        4.400000   5.95   2.25  0.720397  0.084192 -0.639324  699.386299   \n",
      "3        4.400000   6.00   1.65  0.325332  0.142658 -0.637798  526.388947   \n",
      "4        4.400000   5.80   2.90  0.760750  0.078349 -0.641620  656.421599   \n",
      "...           ...    ...    ...       ...       ...       ...         ...   \n",
      "1241127  1.550000   6.95   7.25  0.265804  0.112716 -0.724285  463.428975   \n",
      "1241128  1.550000   7.00   7.60  0.432654  0.088374  0.413231  538.944969   \n",
      "1241129  1.550000   6.90   7.25  0.294161  0.110785 -0.764079  482.548745   \n",
      "1241130 -9.150001  11.45   7.10  0.322439  0.084484  0.505537  243.620677   \n",
      "1241131 -9.350000  11.30   5.30  0.403567  0.076126 -0.833320  363.542946   \n",
      "\n",
      "                 l2          l3  cla  \n",
      "0        328.662887   24.169234    0  \n",
      "1        386.535977   33.567316    0  \n",
      "2        625.648929  121.813411    0  \n",
      "3        310.506976  139.255898    0  \n",
      "4        606.753640  107.381139    0  \n",
      "...             ...         ...  ...  \n",
      "1241127  208.545498   85.364229    4  \n",
      "1241128  316.062362   82.885732    4  \n",
      "1241129  230.824172   88.877351    4  \n",
      "1241130  111.305622   32.752817    4  \n",
      "1241131  192.534146   45.820140    4  \n",
      "\n",
      "[1241132 rows x 10 columns]\n",
      "            x          y          z         p         c        n2          l1  \\\n",
      "0       14.25  12.950000   7.150000  0.117071  0.023735 -0.053219    0.597247   \n",
      "1       14.20  12.850000  19.150000  0.074767  0.175874 -0.336146   37.389544   \n",
      "2       14.20  12.800000  19.150000  0.080304  0.159482 -0.321293   45.428023   \n",
      "3       14.20  12.950000  19.200001  0.054315  0.239675  0.410512   19.643622   \n",
      "4       14.20  12.650001  19.600000  0.124446  0.095084 -0.325949   77.393937   \n",
      "...       ...        ...        ...       ...       ...       ...         ...   \n",
      "627576 -13.80 -12.100000   1.600000  0.162190  0.073496 -0.452860  135.986943   \n",
      "627577 -13.80 -12.150001   1.600000  0.157458  0.084224 -0.484578  147.155325   \n",
      "627578 -13.80 -11.950000   1.550000  0.274379  0.031064 -0.297292   67.232417   \n",
      "627579 -13.85 -12.050000   1.600000  0.167637  0.058562 -0.437825  111.238593   \n",
      "627580 -13.85 -11.750000   1.600000  0.333941  0.008600 -0.000719   34.163937   \n",
      "\n",
      "               l2         l3  cla  \n",
      "0        0.086545   0.016625    4  \n",
      "1       13.697890  10.902380    4  \n",
      "2       15.140520  11.492457    4  \n",
      "3       10.600784   9.533844    4  \n",
      "4       19.849186  10.217811    4  \n",
      "...           ...        ...  ...  \n",
      "627576  35.672947  13.617187    4  \n",
      "627577  40.422470  17.251619    4  \n",
      "627578  21.285030   2.837838    4  \n",
      "627579  27.263077   8.615416    4  \n",
      "627580  11.807541   0.398784    4  \n",
      "\n",
      "[627581 rows x 10 columns]\n"
     ]
    }
   ],
   "source": [
    "print(lxyz_train)\n",
    "print(lxyz_test)"
   ]
  },
  {
   "cell_type": "code",
   "execution_count": 70,
   "metadata": {
    "colab": {
     "base_uri": "https://localhost:8080/"
    },
    "id": "ey4Eh_U10ET5",
    "outputId": "50bbc04a-d1ed-4f3b-cf15-b7a269522cba"
   },
   "outputs": [
    {
     "name": "stdout",
     "output_type": "stream",
     "text": [
      "492\n",
      "132\n",
      "102\n",
      "283\n",
      "186\n",
      "14\n",
      "0    503808\n",
      "4    289792\n",
      "1    190464\n",
      "3    135168\n",
      "5    104448\n",
      "2     14336\n",
      "Name: cla, dtype: int64\n",
      "---------\n",
      "169\n",
      "148\n",
      "223\n",
      "55\n",
      "2\n",
      "12\n"
     ]
    }
   ],
   "source": [
    "def spilt_data(lxyz):\n",
    "  class_uniques = lxyz['cla'].unique() #把一列所有取值提出来成为一个Array \n",
    "  re = []\n",
    "  for column in class_uniques:\n",
    "    temp_data = lxyz[lxyz['cla'].isin([column])] #按照列的某个值取一个dataframe\n",
    "    batch_num = int(len(temp_data)/1024)\n",
    "    print(batch_num)\n",
    "    temp_data = temp_data[0:batch_num*1024]\n",
    "    re.append(temp_data)\n",
    "  re = pd.concat(re)\n",
    "  return re\n",
    "\n",
    "lxyz_train = spilt_data(lxyz_train)\n",
    "print(lxyz_train.cla.value_counts())\n",
    "print('---------')\n",
    "lxyz_test = spilt_data(lxyz_test)"
   ]
  },
  {
   "cell_type": "code",
   "execution_count": 71,
   "metadata": {
    "colab": {
     "base_uri": "https://localhost:8080/"
    },
    "id": "jrAWSdJkh0OI",
    "outputId": "660951ee-3efc-4ef4-b50e-3f225926c86d"
   },
   "outputs": [
    {
     "name": "stdout",
     "output_type": "stream",
     "text": [
      "            x     y      z         p         c        n2          l1  \\\n",
      "0         4.4  5.60  11.00  0.889916  0.034776 -0.266723  342.159866   \n",
      "1         4.4  5.65   9.80  0.862543  0.040476  0.312998  409.218574   \n",
      "2         4.4  5.95   2.25  0.720397  0.084192 -0.639324  699.386299   \n",
      "3         4.4  6.00   1.65  0.325332  0.142658 -0.637798  526.388947   \n",
      "4         4.4  5.80   2.90  0.760750  0.078349 -0.641620  656.421599   \n",
      "...       ...   ...    ...       ...       ...       ...         ...   \n",
      "1151087  11.5  2.45   4.55  0.798601  0.068831 -0.215826  596.338666   \n",
      "1151088  11.5  2.40   5.20  0.678733  0.079641 -0.311444  547.080619   \n",
      "1151089  11.5  2.40   5.00  0.785096  0.071152 -0.283920  551.845218   \n",
      "1151090  11.5  2.55   4.30  0.752454  0.066457 -0.021658  673.109075   \n",
      "1151091  11.5  2.35   4.05  0.756954  0.076652  0.780843  512.283560   \n",
      "\n",
      "                 l2          l3  cla  \n",
      "0        328.662887   24.169234    0  \n",
      "1        386.535977   33.567316    0  \n",
      "2        625.648929  121.813411    0  \n",
      "3        310.506976  139.255898    0  \n",
      "4        606.753640  107.381139    0  \n",
      "...             ...         ...  ...  \n",
      "1151087  561.848995   85.612561    2  \n",
      "1151088  458.321528   86.999842    2  \n",
      "1151089  514.972739   81.721398    2  \n",
      "1151090  596.892890   90.409336    2  \n",
      "1151091  469.257705   81.482467    2  \n",
      "\n",
      "[1238016 rows x 10 columns]\n",
      "                x          y          z         p         c        n2  \\\n",
      "0       14.250000  12.950000   7.150000  0.117071  0.023735 -0.053219   \n",
      "1       14.200000  12.850000  19.150000  0.074767  0.175874 -0.336146   \n",
      "2       14.200000  12.800000  19.150000  0.080304  0.159482 -0.321293   \n",
      "3       14.200000  12.950000  19.200001  0.054315  0.239675  0.410512   \n",
      "4       14.200000  12.650001  19.600000  0.124446  0.095084 -0.325949   \n",
      "...           ...        ...        ...       ...       ...       ...   \n",
      "612141 -13.600000 -11.900001   1.600000  0.352827  0.028754 -0.243327   \n",
      "612142 -13.650001 -11.650001   1.550000  0.340780  0.008289  0.014614   \n",
      "612143 -13.650001 -11.400001   1.600000  0.329023  0.005207 -0.259251   \n",
      "612144 -13.650001 -11.550000   1.550000  0.337919  0.007157  0.097124   \n",
      "612145 -13.650001 -11.550000   1.650000  0.337019  0.007423  0.094246   \n",
      "\n",
      "               l1         l2         l3  cla  \n",
      "0        0.597247   0.086545   0.016625    4  \n",
      "1       37.389544  13.697890  10.902380    4  \n",
      "2       45.428023  15.140520  11.492457    4  \n",
      "3       19.643622  10.600784   9.533844    4  \n",
      "4       77.393937  19.849186  10.217811    4  \n",
      "...           ...        ...        ...  ...  \n",
      "612141  89.751260  35.370910   3.704254    5  \n",
      "612142  55.218155  19.441260   0.624004    5  \n",
      "612143  47.571085  15.984656   0.332688    5  \n",
      "612144  54.154265  18.825894   0.526119    5  \n",
      "612145  54.373224  18.872593   0.547777    5  \n",
      "\n",
      "[623616 rows x 10 columns]\n"
     ]
    }
   ],
   "source": [
    "print(lxyz_train)\n",
    "print(lxyz_test)"
   ]
  },
  {
   "cell_type": "markdown",
   "metadata": {
    "id": "sSRH6VAGf7Xw",
    "tags": []
   },
   "source": [
    "# Dataset Preparation\n"
   ]
  },
  {
   "cell_type": "code",
   "execution_count": 72,
   "metadata": {
    "id": "n23Bk90QSKqq"
   },
   "outputs": [],
   "source": [
    "class ToTensor(object):\n",
    "    def __call__(self, pointcloud):\n",
    "        assert len(pointcloud.shape)==2\n",
    "        pointcloud = pointcloud.to_numpy()\n",
    "        return torch.from_numpy(pointcloud)"
   ]
  },
  {
   "cell_type": "code",
   "execution_count": 73,
   "metadata": {
    "id": "ePIirOyBh0OJ"
   },
   "outputs": [],
   "source": [
    "class Normalize(object):\n",
    "    def __call__(self, pointcloud):\n",
    "        assert len(pointcloud.shape)==2\n",
    "        \n",
    "        pointcloud = pointcloud.to_numpy()\n",
    "        \n",
    "        norm_pointcloud = pointcloud - np.mean(pointcloud, axis=1) \n",
    "        norm_pointcloud /= np.max(np.linalg.norm(norm_pointcloud, axis=0))\n",
    "        norm_pointcloud[:,12] = pointcloud[:,12]\n",
    "\n",
    "        return  norm_pointcloud"
   ]
  },
  {
   "cell_type": "code",
   "execution_count": 74,
   "metadata": {
    "id": "JYsFkTHqfLRp"
   },
   "outputs": [],
   "source": [
    "def default_transforms():\n",
    "    return transforms.Compose([\n",
    "                                # Normalize(),\n",
    "                                ToTensor()\n",
    "                              ])"
   ]
  },
  {
   "cell_type": "code",
   "execution_count": 75,
   "metadata": {
    "colab": {
     "base_uri": "https://localhost:8080/"
    },
    "id": "Z-Ur3QdPfLX1",
    "outputId": "40b0a2c9-1e9c-4b6c-fdd1-a9126d19706c"
   },
   "outputs": [
    {
     "name": "stdout",
     "output_type": "stream",
     "text": [
      "1238016\n",
      "623616\n",
      "609\n",
      "1209\n",
      "609\n",
      "type of :  torch.Size([1024, 10])\n",
      "tensor([[1.2000e+01, 1.5350e+01, 1.9900e+01,  ..., 1.0401e+00, 4.8924e-01,\n",
      "         4.0000e+00],\n",
      "        [1.2000e+01, 1.3100e+01, 9.1500e+00,  ..., 2.7729e+00, 6.1714e-02,\n",
      "         4.0000e+00],\n",
      "        [1.2000e+01, 1.4950e+01, 1.2550e+01,  ..., 3.3502e+01, 6.5416e+00,\n",
      "         4.0000e+00],\n",
      "        ...,\n",
      "        [1.1450e+01, 1.3950e+01, 1.6450e+01,  ..., 1.5466e+02, 8.1289e+01,\n",
      "         4.0000e+00],\n",
      "        [1.1450e+01, 1.3950e+01, 1.6800e+01,  ..., 1.5215e+02, 7.8337e+01,\n",
      "         4.0000e+00],\n",
      "        [1.1450e+01, 1.3750e+01, 1.6250e+01,  ..., 1.3917e+02, 1.0502e+02,\n",
      "         4.0000e+00]], dtype=torch.float64)\n"
     ]
    }
   ],
   "source": [
    "train_transforms = default_transforms()\n",
    "batch_num_test = int(len(lxyz_test)/1024)\n",
    "batch_num_train = int(len(lxyz_train)/1024)\n",
    "_train = lxyz_train[0:(1024*batch_num_train)]\n",
    "_test = lxyz_test[0:(1024*batch_num_test)]\n",
    "print(len(_train))\n",
    "print(len(_test))\n",
    "print(batch_num_test)\n",
    "print(batch_num_train)\n",
    "\n",
    "data_test_temp = np.split(_test,batch_num_test)\n",
    "data_train_temp = np.split(_train,batch_num_train)\n",
    "\n",
    "data_test = [ train_transforms(test) for test in data_test_temp]\n",
    "data_train = [ train_transforms(train) for train in data_train_temp]\n",
    "\n",
    "print(len(data_test))\n",
    "print('type of : ', data_test[2].size())\n",
    "print(data_test[2])"
   ]
  },
  {
   "cell_type": "code",
   "execution_count": 76,
   "metadata": {
    "colab": {
     "base_uri": "https://localhost:8080/"
    },
    "id": "vG5BNUfDh0OK",
    "outputId": "6fc11b16-0442-4152-b03d-b3c5d4c2b898"
   },
   "outputs": [
    {
     "name": "stdout",
     "output_type": "stream",
     "text": [
      "1209\n",
      "906\n",
      "303\n"
     ]
    }
   ],
   "source": [
    "len_total = len(data_train)\n",
    "print(len_total)\n",
    "train_size = int(len_total*0.75)\n",
    "test_size = len_total - train_size\n",
    "print(train_size)\n",
    "print(test_size)"
   ]
  },
  {
   "cell_type": "code",
   "execution_count": 77,
   "metadata": {
    "colab": {
     "base_uri": "https://localhost:8080/"
    },
    "id": "BKTGihA0h0OK",
    "outputId": "d4798cf6-a86b-454f-f83e-6d08fb10459a"
   },
   "outputs": [
    {
     "name": "stdout",
     "output_type": "stream",
     "text": [
      "303\n",
      "type of :  torch.Size([1024, 10])\n",
      "tensor([[  3.4500,  -9.2000,  19.9000,  ...,  96.3676,   7.6747,   0.0000],\n",
      "        [  3.4500,   6.0000,   7.5000,  ..., 685.8929, 128.3579,   0.0000],\n",
      "        [  3.4500,   6.3500,  15.5500,  ...,  48.0885,  24.5952,   0.0000],\n",
      "        ...,\n",
      "        [  3.4000,   6.0500,  10.2500,  ..., 369.8559,  64.6776,   0.0000],\n",
      "        [  3.4000,   6.4000,  13.0500,  ..., 154.0680,  34.2851,   0.0000],\n",
      "        [  3.4000,   6.0500,  10.9000,  ..., 357.3467,  57.0422,   0.0000]],\n",
      "       dtype=torch.float64)\n"
     ]
    }
   ],
   "source": [
    "data_train, data_valid = torch.utils.data.random_split(data_train, [train_size, test_size])\n",
    "print(len(data_valid))\n",
    "print('type of : ', data_valid[2].size())\n",
    "print(data_valid[2])"
   ]
  },
  {
   "cell_type": "code",
   "execution_count": 78,
   "metadata": {
    "id": "hNZb5f-K1lrh"
   },
   "outputs": [],
   "source": [
    "train_loader = DataLoader(dataset=data_train, batch_size= 8, shuffle=True)\n",
    "valid_loader = DataLoader(dataset=data_valid, batch_size= 8, shuffle=True)\n",
    "test_loader = DataLoader(dataset=data_test, batch_size = 4)"
   ]
  },
  {
   "cell_type": "markdown",
   "metadata": {
    "id": "N0FRlJOh2EuO",
    "tags": []
   },
   "source": [
    "# Model Description"
   ]
  },
  {
   "cell_type": "code",
   "execution_count": 79,
   "metadata": {
    "id": "6nOaPzlVh0OL"
   },
   "outputs": [],
   "source": [
    "import torch\n",
    "import torch.nn as nn\n",
    "import torch.nn.functional as F\n",
    "from time import time\n",
    "import numpy as np"
   ]
  },
  {
   "cell_type": "code",
   "execution_count": 80,
   "metadata": {
    "id": "6W2cc5CQh0OM"
   },
   "outputs": [],
   "source": [
    "def timeit(tag, t):\n",
    "    print(\"{}: {}s\".format(tag, time() - t))\n",
    "    return time()\n",
    "\n",
    "def pc_normalize(pc):\n",
    "    l = pc.shape[0]\n",
    "    centroid = np.mean(pc, axis=0)\n",
    "    pc = pc - centroid\n",
    "    m = np.max(np.sqrt(np.sum(pc**2, axis=1)))\n",
    "    pc = pc / m\n",
    "    return pc\n",
    "\n",
    "def square_distance(src, dst):\n",
    "    \"\"\"\n",
    "    Calculate Euclid distance between each two points.\n",
    "\n",
    "    src^T * dst = xn * xm + yn * ym + zn * zm；\n",
    "    sum(src^2, dim=-1) = xn*xn + yn*yn + zn*zn;\n",
    "    sum(dst^2, dim=-1) = xm*xm + ym*ym + zm*zm;\n",
    "    dist = (xn - xm)^2 + (yn - ym)^2 + (zn - zm)^2\n",
    "         = sum(src**2,dim=-1)+sum(dst**2,dim=-1)-2*src^T*dst\n",
    "\n",
    "    Input:\n",
    "        src: source points, [B, N, C]\n",
    "        dst: target points, [B, M, C]\n",
    "    Output:\n",
    "        dist: per-point square distance, [B, N, M]\n",
    "    \"\"\"\n",
    "    B, N, _ = src.shape\n",
    "    _, M, _ = dst.shape\n",
    "    dist = -2 * torch.matmul(src, dst.permute(0, 2, 1))\n",
    "    dist += torch.sum(src ** 2, -1).view(B, N, 1)\n",
    "    dist += torch.sum(dst ** 2, -1).view(B, 1, M)\n",
    "    return dist\n",
    "\n",
    "\n",
    "def index_points(points, idx):\n",
    "    \"\"\"\n",
    "\n",
    "    Input:\n",
    "        points: input points data, [B, N, C]\n",
    "        idx: sample index data, [B, S]\n",
    "    Return:\n",
    "        new_points:, indexed points data, [B, S, C]\n",
    "    \"\"\"\n",
    "    device = points.device\n",
    "    B = points.shape[0]\n",
    "    view_shape = list(idx.shape)\n",
    "    view_shape[1:] = [1] * (len(view_shape) - 1)\n",
    "    repeat_shape = list(idx.shape)\n",
    "    repeat_shape[0] = 1\n",
    "    batch_indices = torch.arange(B, dtype=torch.long).to(device).view(view_shape).repeat(repeat_shape)\n",
    "    new_points = points[batch_indices, idx, :]\n",
    "    return new_points\n",
    "\n",
    "\n",
    "def farthest_point_sample(xyz, npoint):\n",
    "    \"\"\"\n",
    "    Input:\n",
    "        xyz: pointcloud data, [B, N, 3]\n",
    "        npoint: number of samples\n",
    "    Return:\n",
    "        centroids: sampled pointcloud index, [B, npoint]\n",
    "    \"\"\"\n",
    "    device = xyz.device\n",
    "    B, N, C = xyz.shape\n",
    "    centroids = torch.zeros(B, npoint, dtype=torch.long).to(device)\n",
    "    distance = torch.ones(B, N).to(device) * 1e10\n",
    "    farthest = torch.randint(0, N, (B,), dtype=torch.long).to(device)\n",
    "    batch_indices = torch.arange(B, dtype=torch.long).to(device)\n",
    "    for i in range(npoint):\n",
    "        centroids[:, i] = farthest\n",
    "        centroid = xyz[batch_indices, farthest, :].view(B, 1, 3)\n",
    "        dist = torch.sum((xyz - centroid) ** 2, -1)\n",
    "        mask = dist < distance\n",
    "        distance[mask] = dist[mask]\n",
    "        farthest = torch.max(distance, -1)[1]\n",
    "    return centroids\n",
    "\n",
    "\n",
    "def query_ball_point(radius, nsample, xyz, new_xyz):\n",
    "    \"\"\"\n",
    "    Input:\n",
    "        radius: local region radius\n",
    "        nsample: max sample number in local region\n",
    "        xyz: all points, [B, N, 3]\n",
    "        new_xyz: query points, [B, S, 3]\n",
    "    Return:\n",
    "        group_idx: grouped points index, [B, S, nsample]\n",
    "    \"\"\"\n",
    "    device = xyz.device\n",
    "    B, N, C = xyz.shape\n",
    "    _, S, _ = new_xyz.shape\n",
    "    group_idx = torch.arange(N, dtype=torch.long).to(device).view(1, 1, N).repeat([B, S, 1])\n",
    "    sqrdists = square_distance(new_xyz, xyz)\n",
    "    group_idx[sqrdists > radius ** 2] = N\n",
    "    group_idx = group_idx.sort(dim=-1)[0][:, :, :nsample]\n",
    "    group_first = group_idx[:, :, 0].view(B, S, 1).repeat([1, 1, nsample])\n",
    "    mask = group_idx == N\n",
    "    group_idx[mask] = group_first[mask]\n",
    "    return group_idx\n",
    "\n",
    "\n",
    "def sample_and_group(npoint, radius, nsample, xyz, points, returnfps=False):\n",
    "    \"\"\"\n",
    "    Input:\n",
    "        npoint:\n",
    "        radius:\n",
    "        nsample:\n",
    "        xyz: input points position data, [B, N, 3]\n",
    "        points: input points data, [B, N, D]\n",
    "    Return:\n",
    "        new_xyz: sampled points position data, [B, npoint, nsample, 3]\n",
    "        new_points: sampled points data, [B, npoint, nsample, 3+D]\n",
    "    \"\"\"\n",
    "    B, N, C = xyz.shape\n",
    "    S = npoint\n",
    "    fps_idx = farthest_point_sample(xyz, npoint) # [B, npoint, C]\n",
    "    new_xyz = index_points(xyz, fps_idx)\n",
    "    idx = query_ball_point(radius, nsample, xyz, new_xyz)\n",
    "    grouped_xyz = index_points(xyz, idx) # [B, npoint, nsample, C]\n",
    "    grouped_xyz_norm = grouped_xyz - new_xyz.view(B, S, 1, C)\n",
    "\n",
    "    if points is not None:\n",
    "        grouped_points = index_points(points, idx)\n",
    "        new_points = torch.cat([grouped_xyz_norm, grouped_points], dim=-1) # [B, npoint, nsample, C+D]\n",
    "    else:\n",
    "        new_points = grouped_xyz_norm\n",
    "    if returnfps:\n",
    "        return new_xyz, new_points, grouped_xyz, fps_idx\n",
    "    else:\n",
    "        return new_xyz, new_points\n",
    "\n",
    "\n",
    "def sample_and_group_all(xyz, points):\n",
    "    \"\"\"\n",
    "    Input:\n",
    "        xyz: input points position data, [B, N, 3]\n",
    "        points: input points data, [B, N, D]\n",
    "    Return:\n",
    "        new_xyz: sampled points position data, [B, 1, 3]\n",
    "        new_points: sampled points data, [B, 1, N, 3+D]\n",
    "    \"\"\"\n",
    "    device = xyz.device\n",
    "    B, N, C = xyz.shape\n",
    "    new_xyz = torch.zeros(B, 1, C).to(device)\n",
    "    grouped_xyz = xyz.view(B, 1, N, C)\n",
    "    if points is not None:\n",
    "        new_points = torch.cat([grouped_xyz, points.view(B, 1, N, -1)], dim=-1)\n",
    "    else:\n",
    "        new_points = grouped_xyz\n",
    "    return new_xyz, new_points\n",
    "\n",
    "\n",
    "class PointNetSetAbstraction(nn.Module):\n",
    "    def __init__(self, npoint, radius, nsample, in_channel, mlp, group_all):\n",
    "        super(PointNetSetAbstraction, self).__init__()\n",
    "        self.npoint = npoint\n",
    "        self.radius = radius\n",
    "        self.nsample = nsample\n",
    "        self.mlp_convs = nn.ModuleList()\n",
    "        self.mlp_bns = nn.ModuleList()\n",
    "        last_channel = in_channel\n",
    "        for out_channel in mlp:\n",
    "            self.mlp_convs.append(nn.Conv2d(last_channel, out_channel, 1))\n",
    "            self.mlp_bns.append(nn.BatchNorm2d(out_channel))\n",
    "            last_channel = out_channel\n",
    "        self.group_all = group_all\n",
    "\n",
    "    def forward(self, xyz, points):\n",
    "        \"\"\"\n",
    "        Input:\n",
    "            xyz: input points position data, [B, C, N]\n",
    "            points: input points data, [B, D, N]\n",
    "        Return:\n",
    "            new_xyz: sampled points position data, [B, C, S]\n",
    "            new_points_concat: sample points feature data, [B, D', S]\n",
    "        \"\"\"\n",
    "        xyz = xyz.permute(0, 2, 1)\n",
    "        if points is not None:\n",
    "            points = points.permute(0, 2, 1)\n",
    "\n",
    "        if self.group_all:\n",
    "            new_xyz, new_points = sample_and_group_all(xyz, points)\n",
    "        else:\n",
    "            new_xyz, new_points = sample_and_group(self.npoint, self.radius, self.nsample, xyz, points)\n",
    "        # new_xyz: sampled points position data, [B, npoint, C]\n",
    "        # new_points: sampled points data, [B, npoint, nsample, C+D]\n",
    "        new_points = new_points.permute(0, 3, 2, 1) # [B, C+D, nsample,npoint]\n",
    "        for i, conv in enumerate(self.mlp_convs):\n",
    "            bn = self.mlp_bns[i]\n",
    "            new_points =  F.relu(bn(conv(new_points)))\n",
    "\n",
    "        new_points = torch.max(new_points, 2)[0]\n",
    "        new_xyz = new_xyz.permute(0, 2, 1)\n",
    "        return new_xyz, new_points\n",
    "\n",
    "\n",
    "class PointNetSetAbstractionMsg(nn.Module):\n",
    "    def __init__(self, npoint, radius_list, nsample_list, in_channel, mlp_list):\n",
    "        super(PointNetSetAbstractionMsg, self).__init__()\n",
    "        self.npoint = npoint\n",
    "        self.radius_list = radius_list\n",
    "        self.nsample_list = nsample_list\n",
    "        self.conv_blocks = nn.ModuleList()\n",
    "        self.bn_blocks = nn.ModuleList()\n",
    "        for i in range(len(mlp_list)):\n",
    "            convs = nn.ModuleList()\n",
    "            bns = nn.ModuleList()\n",
    "            last_channel = in_channel + 3\n",
    "            for out_channel in mlp_list[i]:\n",
    "                convs.append(nn.Conv2d(last_channel, out_channel, 1))\n",
    "                bns.append(nn.BatchNorm2d(out_channel))\n",
    "                last_channel = out_channel\n",
    "            self.conv_blocks.append(convs)\n",
    "            self.bn_blocks.append(bns)\n",
    "\n",
    "    def forward(self, xyz, points):\n",
    "        \"\"\"\n",
    "        Input:\n",
    "            xyz: input points position data, [B, C, N]\n",
    "            points: input points data, [B, D, N]\n",
    "        Return:\n",
    "            new_xyz: sampled points position data, [B, C, S]\n",
    "            new_points_concat: sample points feature data, [B, D', S]\n",
    "        \"\"\"\n",
    "        xyz = xyz.permute(0, 2, 1)\n",
    "        if points is not None:\n",
    "            points = points.permute(0, 2, 1)\n",
    "\n",
    "        B, N, C = xyz.shape\n",
    "        S = self.npoint\n",
    "        new_xyz = index_points(xyz, farthest_point_sample(xyz, S))\n",
    "        new_points_list = []\n",
    "        for i, radius in enumerate(self.radius_list):\n",
    "            K = self.nsample_list[i]\n",
    "            group_idx = query_ball_point(radius, K, xyz, new_xyz)\n",
    "            grouped_xyz = index_points(xyz, group_idx)\n",
    "            grouped_xyz -= new_xyz.view(B, S, 1, C)\n",
    "            if points is not None:\n",
    "                grouped_points = index_points(points, group_idx)\n",
    "                grouped_points = torch.cat([grouped_points, grouped_xyz], dim=-1)\n",
    "            else:\n",
    "                grouped_points = grouped_xyz\n",
    "\n",
    "            grouped_points = grouped_points.permute(0, 3, 2, 1)  # [B, D, K, S]\n",
    "            for j in range(len(self.conv_blocks[i])):\n",
    "                conv = self.conv_blocks[i][j]\n",
    "                bn = self.bn_blocks[i][j]\n",
    "                grouped_points =  F.relu(bn(conv(grouped_points)))\n",
    "            new_points = torch.max(grouped_points, 2)[0]  # [B, D', S]\n",
    "            new_points_list.append(new_points)\n",
    "\n",
    "        new_xyz = new_xyz.permute(0, 2, 1)\n",
    "        new_points_concat = torch.cat(new_points_list, dim=1)\n",
    "        return new_xyz, new_points_concat\n",
    "\n",
    "\n",
    "class PointNetFeaturePropagation(nn.Module):\n",
    "    def __init__(self, in_channel, mlp):\n",
    "        super(PointNetFeaturePropagation, self).__init__()\n",
    "        self.mlp_convs = nn.ModuleList()\n",
    "        self.mlp_bns = nn.ModuleList()\n",
    "        last_channel = in_channel\n",
    "        for out_channel in mlp:\n",
    "            self.mlp_convs.append(nn.Conv1d(last_channel, out_channel, 1))\n",
    "            self.mlp_bns.append(nn.BatchNorm1d(out_channel))\n",
    "            last_channel = out_channel\n",
    "\n",
    "    def forward(self, xyz1, xyz2, points1, points2):\n",
    "        \"\"\"\n",
    "        Input:\n",
    "            xyz1: input points position data, [B, C, N]\n",
    "            xyz2: sampled input points position data, [B, C, S]\n",
    "            points1: input points data, [B, D, N]\n",
    "            points2: input points data, [B, D, S]\n",
    "        Return:\n",
    "            new_points: upsampled points data, [B, D', N]\n",
    "        \"\"\"\n",
    "        xyz1 = xyz1.permute(0, 2, 1)\n",
    "        xyz2 = xyz2.permute(0, 2, 1)\n",
    "\n",
    "        points2 = points2.permute(0, 2, 1)\n",
    "        B, N, C = xyz1.shape\n",
    "        _, S, _ = xyz2.shape\n",
    "\n",
    "        if S == 1:\n",
    "            interpolated_points = points2.repeat(1, N, 1)\n",
    "        else:\n",
    "            dists = square_distance(xyz1, xyz2)\n",
    "            dists, idx = dists.sort(dim=-1)\n",
    "            dists, idx = dists[:, :, :3], idx[:, :, :3]  # [B, N, 3]\n",
    "\n",
    "            dist_recip = 1.0 / (dists + 1e-8)\n",
    "            norm = torch.sum(dist_recip, dim=2, keepdim=True)\n",
    "            weight = dist_recip / norm\n",
    "            interpolated_points = torch.sum(index_points(points2, idx) * weight.view(B, N, 3, 1), dim=2)\n",
    "\n",
    "        if points1 is not None:\n",
    "            points1 = points1.permute(0, 2, 1)\n",
    "            new_points = torch.cat([points1, interpolated_points], dim=-1)\n",
    "        else:\n",
    "            new_points = interpolated_points\n",
    "\n",
    "        new_points = new_points.permute(0, 2, 1)\n",
    "        for i, conv in enumerate(self.mlp_convs):\n",
    "            bn = self.mlp_bns[i]\n",
    "            new_points = F.relu(bn(conv(new_points)))\n",
    "        return new_points\n",
    "\n"
   ]
  },
  {
   "cell_type": "code",
   "execution_count": 81,
   "metadata": {
    "id": "6A7mwh0Y2MxG"
   },
   "outputs": [],
   "source": [
    "class get_model(nn.Module):\n",
    "    def __init__(self,num_class,normal_channel=True):\n",
    "        super(get_model, self).__init__()\n",
    "        in_channel = 6 if normal_channel else 0\n",
    "        self.normal_channel = normal_channel\n",
    "        self.sa1 = PointNetSetAbstractionMsg(512, [0.1, 0.2, 0.4], [16, 32, 128], in_channel,[[32, 32, 64], [64, 64, 128], [64, 96, 128]])\n",
    "        self.sa2 = PointNetSetAbstractionMsg(128, [0.2, 0.4, 0.8], [32, 64, 128], 320,[[64, 64, 128], [128, 128, 256], [128, 128, 256]])\n",
    "        self.sa3 = PointNetSetAbstraction(None, None, None, 640 + 3, [256, 512, 1024], True)\n",
    "        self.fc1 = nn.Linear(1024, 512)\n",
    "        self.bn1 = nn.BatchNorm1d(512)\n",
    "        self.drop1 = nn.Dropout(0.4)\n",
    "        self.fc2 = nn.Linear(512, 256)\n",
    "        self.bn2 = nn.BatchNorm1d(256)\n",
    "        self.drop2 = nn.Dropout(0.5)\n",
    "        self.fc3 = nn.Linear(256, num_class)\n",
    "\n",
    "    def forward(self, xyz):\n",
    "        B, _, _ = xyz.shape\n",
    "        if self.normal_channel:\n",
    "            norm = xyz[:, 3:, :]\n",
    "            xyz = xyz[:, :3, :]\n",
    "        else:\n",
    "            norm = None\n",
    "        l1_xyz, l1_points = self.sa1(xyz, norm)\n",
    "        l2_xyz, l2_points = self.sa2(l1_xyz, l1_points)\n",
    "        l3_xyz, l3_points = self.sa3(l2_xyz, l2_points)\n",
    "        x = l3_points.view(B, 1024)\n",
    "        x = self.drop1(F.relu(self.bn1(self.fc1(x))))\n",
    "        x = self.drop2(F.relu(self.bn2(self.fc2(x))))\n",
    "        x = self.fc3(x)\n",
    "        x = F.log_softmax(x, -1)\n",
    "\n",
    "\n",
    "        return x,l3_points\n",
    "\n",
    "\n",
    "class get_loss(nn.Module):\n",
    "    def __init__(self):\n",
    "        super(get_loss, self).__init__()\n",
    "\n",
    "    def forward(self, pred, target, trans_feat):\n",
    "        total_loss = F.nll_loss(pred, target)\n",
    "\n",
    "        return total_loss"
   ]
  },
  {
   "cell_type": "code",
   "execution_count": 82,
   "metadata": {
    "id": "uW53X8zKh0OO"
   },
   "outputs": [],
   "source": [
    "CUDA_LAUNCH_BLOCKING=\"1\""
   ]
  },
  {
   "cell_type": "markdown",
   "metadata": {
    "id": "GnM8yu2G2XVF"
   },
   "source": [
    "# Training\n"
   ]
  },
  {
   "cell_type": "code",
   "execution_count": 83,
   "metadata": {
    "id": "51ClucN-h0OP"
   },
   "outputs": [],
   "source": [
    "torch.cuda.empty_cache()"
   ]
  },
  {
   "cell_type": "code",
   "execution_count": 84,
   "metadata": {
    "colab": {
     "base_uri": "https://localhost:8080/"
    },
    "id": "v2_wk24U2cc-",
    "outputId": "279df9ef-0714-424a-b312-f6cda6b5b2b7"
   },
   "outputs": [
    {
     "name": "stdout",
     "output_type": "stream",
     "text": [
      "cuda:0\n"
     ]
    }
   ],
   "source": [
    "device = torch.device(\"cuda:0\" if torch.cuda.is_available() else \"cpu\")\n",
    "print(device)"
   ]
  },
  {
   "cell_type": "code",
   "execution_count": null,
   "metadata": {
    "id": "Rs6WpQ1Wh0OQ",
    "outputId": "e69d350f-0a35-474b-da79-9d23e63a6832"
   },
   "outputs": [
    {
     "name": "stdout",
     "output_type": "stream",
     "text": [
      "cpu\n"
     ]
    }
   ],
   "source": [
    "device = torch.device('cpu')\n",
    "print(device)"
   ]
  },
  {
   "cell_type": "code",
   "execution_count": 52,
   "metadata": {
    "id": "WF9261kCh0OQ"
   },
   "outputs": [],
   "source": [
    "def inplace_relu(m):\n",
    "    classname = m.__class__.__name__\n",
    "    if classname.find('ReLU') != -1:\n",
    "        m.inplace=True"
   ]
  },
  {
   "cell_type": "code",
   "execution_count": 85,
   "metadata": {
    "id": "_n0_24ALh0OQ"
   },
   "outputs": [],
   "source": [
    "classifier = get_model(6, normal_channel=True)\n",
    "criterion = get_loss()\n",
    "classifier.apply(inplace_relu)\n",
    "\n",
    "classifier = classifier.to(device)\n",
    "criterion = criterion.to(device)\n",
    "\n",
    "optimizer = torch.optim.Adam(classifier.parameters(), lr=0.001)\n",
    "\n",
    "scheduler = torch.optim.lr_scheduler.StepLR(optimizer, step_size=20, gamma=0.7)"
   ]
  },
  {
   "cell_type": "code",
   "execution_count": 86,
   "metadata": {
    "id": "FUlXrz0kh0OQ"
   },
   "outputs": [],
   "source": [
    "from tqdm import tqdm"
   ]
  },
  {
   "cell_type": "code",
   "execution_count": 87,
   "metadata": {
    "id": "O1pMmbURh0OQ"
   },
   "outputs": [],
   "source": [
    "def test(model, loader, num_class=6):\n",
    "    mean_correct = []\n",
    "    class_acc = np.zeros((num_class, 6))\n",
    "    classifier = model.eval()\n",
    "\n",
    "    for j, data in tqdm(enumerate(loader), total=len(loader)):\n",
    "\n",
    "        target = data[:,1,9]\n",
    "        target = target.type(torch.LongTensor) \n",
    "        points, target = data[:,:,0:9].to(device).float(), target.to(device)\n",
    "\n",
    "        points = points.transpose(2, 1)\n",
    "        pred, _ = classifier(points)\n",
    "        pred_choice = pred.data.max(1)[1]\n",
    "\n",
    "        for cat in np.unique(target.cpu()):\n",
    "            classacc = pred_choice[target == cat].eq(target[target == cat].long().data).cpu().sum()\n",
    "            class_acc[cat, 0] += classacc.item() / float(points[target == cat].size()[0])\n",
    "            class_acc[cat, 1] += 1\n",
    "\n",
    "        correct = pred_choice.eq(target.long().data).cpu().sum()\n",
    "        mean_correct.append(correct.item() / float(points.size()[0]))\n",
    "\n",
    "    class_acc[:, 2] = class_acc[:, 0] / class_acc[:, 1]\n",
    "    class_acc = np.mean(class_acc[:, 2])\n",
    "    instance_acc = np.mean(mean_correct)\n",
    "\n",
    "    return instance_acc, class_acc"
   ]
  },
  {
   "cell_type": "code",
   "execution_count": 88,
   "metadata": {
    "id": "XLE6uDz2VfGd"
   },
   "outputs": [],
   "source": [
    "def train(classifier, criterion, train_loader, optimizer, scheduler, val_loader=None, start_epoch = 0, epochs=15, save=True):\n",
    "    \n",
    "    global_epoch = 0\n",
    "    global_step = 0\n",
    "    best_instance_acc = 0.0\n",
    "    best_class_acc = 0.0\n",
    "    \n",
    "    for epoch in range(start_epoch, epochs):\n",
    "        print('Epoch %d (%d/%s):' % (global_epoch + 1, epoch + 1, epochs))\n",
    "        mean_correct = []\n",
    "        classifier = classifier.train()\n",
    "\n",
    "        scheduler.step()\n",
    "        for batch_id, data in tqdm(enumerate(train_loader, 0), total=len(train_loader), smoothing=0.9):\n",
    "            optimizer.zero_grad()\n",
    "            \n",
    "            target = data[:,1,9]\n",
    "            target = target.type(torch.LongTensor) \n",
    "            points, target = data[:,:,0:9].to(device).float(), target.to(device)\n",
    "            points = points.transpose(2, 1)\n",
    "\n",
    "            pred, trans_feat = classifier(points)\n",
    "            loss = criterion(pred, target.long(), trans_feat)\n",
    "            pred_choice = pred.data.max(1)[1]\n",
    "\n",
    "            correct = pred_choice.eq(target.long().data).cpu().sum()\n",
    "            mean_correct.append(correct.item() / float(points.size()[0]))\n",
    "            loss.backward()\n",
    "            optimizer.step()\n",
    "            global_step += 1\n",
    "\n",
    "        train_instance_acc = np.mean(mean_correct)\n",
    "        print('Train Instance Accuracy: %f' % train_instance_acc)\n",
    "\n",
    "        with torch.no_grad():\n",
    "            instance_acc, class_acc = test(classifier.eval(), val_loader, num_class=6)\n",
    "\n",
    "            if (instance_acc >= best_instance_acc):\n",
    "                best_instance_acc = instance_acc\n",
    "                best_epoch = epoch + 1\n",
    "\n",
    "            if (class_acc >= best_class_acc):\n",
    "                best_class_acc = class_acc\n",
    "            print('Test Instance Accuracy: %f, Class Accuracy: %f' % (instance_acc, class_acc))\n",
    "            print('Best Instance Accuracy: %f, Class Accuracy: %f' % (best_instance_acc, best_class_acc))\n",
    "\n",
    "            if (instance_acc >= best_instance_acc):\n",
    "                print('Save model...')\n",
    "                savepath = 'best_model_p2_xyzgf_sd.pth'\n",
    "                print('Saving at %s' % savepath)\n",
    "                state = {\n",
    "                    'epoch': best_epoch,\n",
    "                    'instance_acc': instance_acc,\n",
    "                    'class_acc': class_acc,\n",
    "                    'model_state_dict': classifier.state_dict(),\n",
    "                    'optimizer_state_dict': optimizer.state_dict(),\n",
    "                }\n",
    "                torch.save(state, savepath)\n",
    "            global_epoch += 1"
   ]
  },
  {
   "cell_type": "code",
   "execution_count": 89,
   "metadata": {
    "colab": {
     "base_uri": "https://localhost:8080/",
     "height": 1000
    },
    "id": "EOYHr6IW2Qsh",
    "outputId": "9ceed89a-c4a2-4486-95b9-16db4a07e49e"
   },
   "outputs": [
    {
     "name": "stderr",
     "output_type": "stream",
     "text": [
      "/usr/local/lib/python3.9/dist-packages/torch/optim/lr_scheduler.py:138: UserWarning: Detected call of `lr_scheduler.step()` before `optimizer.step()`. In PyTorch 1.1.0 and later, you should call them in the opposite order: `optimizer.step()` before `lr_scheduler.step()`.  Failure to do this will result in PyTorch skipping the first value of the learning rate schedule. See more details at https://pytorch.org/docs/stable/optim.html#how-to-adjust-learning-rate\n",
      "  warnings.warn(\"Detected call of `lr_scheduler.step()` before `optimizer.step()`. \"\n"
     ]
    },
    {
     "name": "stdout",
     "output_type": "stream",
     "text": [
      "Epoch 1 (1/15):\n"
     ]
    },
    {
     "name": "stderr",
     "output_type": "stream",
     "text": [
      "100%|██████████| 114/114 [00:43<00:00,  2.60it/s]\n"
     ]
    },
    {
     "name": "stdout",
     "output_type": "stream",
     "text": [
      "Train Instance Accuracy: 0.746711\n"
     ]
    },
    {
     "name": "stderr",
     "output_type": "stream",
     "text": [
      "100%|██████████| 38/38 [00:09<00:00,  4.03it/s]\n"
     ]
    },
    {
     "name": "stdout",
     "output_type": "stream",
     "text": [
      "Test Instance Accuracy: 0.917293, Class Accuracy: 0.785345\n",
      "Best Instance Accuracy: 0.917293, Class Accuracy: 0.785345\n",
      "Save model...\n",
      "Saving at best_model_p2_xyzgf_sd.pth\n",
      "Epoch 2 (2/15):\n"
     ]
    },
    {
     "name": "stderr",
     "output_type": "stream",
     "text": [
      "100%|██████████| 114/114 [00:43<00:00,  2.62it/s]\n"
     ]
    },
    {
     "name": "stdout",
     "output_type": "stream",
     "text": [
      "Train Instance Accuracy: 0.821272\n"
     ]
    },
    {
     "name": "stderr",
     "output_type": "stream",
     "text": [
      "100%|██████████| 38/38 [00:09<00:00,  3.98it/s]\n"
     ]
    },
    {
     "name": "stdout",
     "output_type": "stream",
     "text": [
      "Test Instance Accuracy: 0.858083, Class Accuracy: 0.770555\n",
      "Best Instance Accuracy: 0.917293, Class Accuracy: 0.785345\n",
      "Epoch 3 (3/15):\n"
     ]
    },
    {
     "name": "stderr",
     "output_type": "stream",
     "text": [
      "100%|██████████| 114/114 [00:43<00:00,  2.61it/s]\n"
     ]
    },
    {
     "name": "stdout",
     "output_type": "stream",
     "text": [
      "Train Instance Accuracy: 0.825658\n"
     ]
    },
    {
     "name": "stderr",
     "output_type": "stream",
     "text": [
      "100%|██████████| 38/38 [00:09<00:00,  4.03it/s]\n"
     ]
    },
    {
     "name": "stdout",
     "output_type": "stream",
     "text": [
      "Test Instance Accuracy: 0.907895, Class Accuracy: 0.734203\n",
      "Best Instance Accuracy: 0.917293, Class Accuracy: 0.785345\n",
      "Epoch 4 (4/15):\n"
     ]
    },
    {
     "name": "stderr",
     "output_type": "stream",
     "text": [
      "100%|██████████| 114/114 [00:44<00:00,  2.58it/s]\n"
     ]
    },
    {
     "name": "stdout",
     "output_type": "stream",
     "text": [
      "Train Instance Accuracy: 0.843202\n"
     ]
    },
    {
     "name": "stderr",
     "output_type": "stream",
     "text": [
      "100%|██████████| 38/38 [00:09<00:00,  4.01it/s]\n"
     ]
    },
    {
     "name": "stdout",
     "output_type": "stream",
     "text": [
      "Test Instance Accuracy: 0.953947, Class Accuracy: 0.809832\n",
      "Best Instance Accuracy: 0.953947, Class Accuracy: 0.809832\n",
      "Save model...\n",
      "Saving at best_model_p2_xyzgf_sd.pth\n",
      "Epoch 5 (5/15):\n"
     ]
    },
    {
     "name": "stderr",
     "output_type": "stream",
     "text": [
      "100%|██████████| 114/114 [00:44<00:00,  2.59it/s]\n"
     ]
    },
    {
     "name": "stdout",
     "output_type": "stream",
     "text": [
      "Train Instance Accuracy: 0.902412\n"
     ]
    },
    {
     "name": "stderr",
     "output_type": "stream",
     "text": [
      "100%|██████████| 38/38 [00:09<00:00,  4.00it/s]\n"
     ]
    },
    {
     "name": "stdout",
     "output_type": "stream",
     "text": [
      "Test Instance Accuracy: 0.940320, Class Accuracy: 0.785613\n",
      "Best Instance Accuracy: 0.953947, Class Accuracy: 0.809832\n",
      "Epoch 6 (6/15):\n"
     ]
    },
    {
     "name": "stderr",
     "output_type": "stream",
     "text": [
      "100%|██████████| 114/114 [00:44<00:00,  2.56it/s]\n"
     ]
    },
    {
     "name": "stdout",
     "output_type": "stream",
     "text": [
      "Train Instance Accuracy: 0.883772\n"
     ]
    },
    {
     "name": "stderr",
     "output_type": "stream",
     "text": [
      "100%|██████████| 38/38 [00:09<00:00,  3.96it/s]\n"
     ]
    },
    {
     "name": "stdout",
     "output_type": "stream",
     "text": [
      "Test Instance Accuracy: 0.921053, Class Accuracy: 0.776328\n",
      "Best Instance Accuracy: 0.953947, Class Accuracy: 0.809832\n",
      "Epoch 7 (7/15):\n"
     ]
    },
    {
     "name": "stderr",
     "output_type": "stream",
     "text": [
      "100%|██████████| 114/114 [00:44<00:00,  2.56it/s]\n"
     ]
    },
    {
     "name": "stdout",
     "output_type": "stream",
     "text": [
      "Train Instance Accuracy: 0.896930\n"
     ]
    },
    {
     "name": "stderr",
     "output_type": "stream",
     "text": [
      "100%|██████████| 38/38 [00:10<00:00,  3.79it/s]\n"
     ]
    },
    {
     "name": "stdout",
     "output_type": "stream",
     "text": [
      "Test Instance Accuracy: 0.963816, Class Accuracy: 0.808899\n",
      "Best Instance Accuracy: 0.963816, Class Accuracy: 0.809832\n",
      "Save model...\n",
      "Saving at best_model_p2_xyzgf_sd.pth\n",
      "Epoch 8 (8/15):\n"
     ]
    },
    {
     "name": "stderr",
     "output_type": "stream",
     "text": [
      " 26%|██▋       | 30/114 [00:12<00:34,  2.42it/s]\n"
     ]
    },
    {
     "ename": "KeyboardInterrupt",
     "evalue": "ignored",
     "output_type": "error",
     "traceback": [
      "\u001b[0;31m---------------------------------------------------------------------------\u001b[0m",
      "\u001b[0;31mKeyboardInterrupt\u001b[0m                         Traceback (most recent call last)",
      "\u001b[0;32m<ipython-input-89-b0c8fea95e99>\u001b[0m in \u001b[0;36m<module>\u001b[0;34m\u001b[0m\n\u001b[0;32m----> 1\u001b[0;31m \u001b[0mtrain\u001b[0m\u001b[0;34m(\u001b[0m\u001b[0mclassifier\u001b[0m\u001b[0;34m,\u001b[0m \u001b[0mcriterion\u001b[0m\u001b[0;34m,\u001b[0m \u001b[0mtrain_loader\u001b[0m\u001b[0;34m,\u001b[0m \u001b[0moptimizer\u001b[0m\u001b[0;34m,\u001b[0m \u001b[0mscheduler\u001b[0m\u001b[0;34m,\u001b[0m \u001b[0mvalid_loader\u001b[0m\u001b[0;34m,\u001b[0m  \u001b[0msave\u001b[0m\u001b[0;34m=\u001b[0m\u001b[0;32mFalse\u001b[0m\u001b[0;34m)\u001b[0m\u001b[0;34m\u001b[0m\u001b[0;34m\u001b[0m\u001b[0m\n\u001b[0m",
      "\u001b[0;32m<ipython-input-88-f633160f1505>\u001b[0m in \u001b[0;36mtrain\u001b[0;34m(classifier, criterion, train_loader, optimizer, scheduler, val_loader, start_epoch, epochs, save)\u001b[0m\n\u001b[1;32m     20\u001b[0m             \u001b[0mpoints\u001b[0m \u001b[0;34m=\u001b[0m \u001b[0mpoints\u001b[0m\u001b[0;34m.\u001b[0m\u001b[0mtranspose\u001b[0m\u001b[0;34m(\u001b[0m\u001b[0;36m2\u001b[0m\u001b[0;34m,\u001b[0m \u001b[0;36m1\u001b[0m\u001b[0;34m)\u001b[0m\u001b[0;34m\u001b[0m\u001b[0;34m\u001b[0m\u001b[0m\n\u001b[1;32m     21\u001b[0m \u001b[0;34m\u001b[0m\u001b[0m\n\u001b[0;32m---> 22\u001b[0;31m             \u001b[0mpred\u001b[0m\u001b[0;34m,\u001b[0m \u001b[0mtrans_feat\u001b[0m \u001b[0;34m=\u001b[0m \u001b[0mclassifier\u001b[0m\u001b[0;34m(\u001b[0m\u001b[0mpoints\u001b[0m\u001b[0;34m)\u001b[0m\u001b[0;34m\u001b[0m\u001b[0;34m\u001b[0m\u001b[0m\n\u001b[0m\u001b[1;32m     23\u001b[0m             \u001b[0mloss\u001b[0m \u001b[0;34m=\u001b[0m \u001b[0mcriterion\u001b[0m\u001b[0;34m(\u001b[0m\u001b[0mpred\u001b[0m\u001b[0;34m,\u001b[0m \u001b[0mtarget\u001b[0m\u001b[0;34m.\u001b[0m\u001b[0mlong\u001b[0m\u001b[0;34m(\u001b[0m\u001b[0;34m)\u001b[0m\u001b[0;34m,\u001b[0m \u001b[0mtrans_feat\u001b[0m\u001b[0;34m)\u001b[0m\u001b[0;34m\u001b[0m\u001b[0;34m\u001b[0m\u001b[0m\n\u001b[1;32m     24\u001b[0m             \u001b[0mpred_choice\u001b[0m \u001b[0;34m=\u001b[0m \u001b[0mpred\u001b[0m\u001b[0;34m.\u001b[0m\u001b[0mdata\u001b[0m\u001b[0;34m.\u001b[0m\u001b[0mmax\u001b[0m\u001b[0;34m(\u001b[0m\u001b[0;36m1\u001b[0m\u001b[0;34m)\u001b[0m\u001b[0;34m[\u001b[0m\u001b[0;36m1\u001b[0m\u001b[0;34m]\u001b[0m\u001b[0;34m\u001b[0m\u001b[0;34m\u001b[0m\u001b[0m\n",
      "\u001b[0;32m/usr/local/lib/python3.9/dist-packages/torch/nn/modules/module.py\u001b[0m in \u001b[0;36m_call_impl\u001b[0;34m(self, *input, **kwargs)\u001b[0m\n\u001b[1;32m   1192\u001b[0m         if not (self._backward_hooks or self._forward_hooks or self._forward_pre_hooks or _global_backward_hooks\n\u001b[1;32m   1193\u001b[0m                 or _global_forward_hooks or _global_forward_pre_hooks):\n\u001b[0;32m-> 1194\u001b[0;31m             \u001b[0;32mreturn\u001b[0m \u001b[0mforward_call\u001b[0m\u001b[0;34m(\u001b[0m\u001b[0;34m*\u001b[0m\u001b[0minput\u001b[0m\u001b[0;34m,\u001b[0m \u001b[0;34m**\u001b[0m\u001b[0mkwargs\u001b[0m\u001b[0;34m)\u001b[0m\u001b[0;34m\u001b[0m\u001b[0;34m\u001b[0m\u001b[0m\n\u001b[0m\u001b[1;32m   1195\u001b[0m         \u001b[0;31m# Do not call functions when jit is used\u001b[0m\u001b[0;34m\u001b[0m\u001b[0;34m\u001b[0m\u001b[0m\n\u001b[1;32m   1196\u001b[0m         \u001b[0mfull_backward_hooks\u001b[0m\u001b[0;34m,\u001b[0m \u001b[0mnon_full_backward_hooks\u001b[0m \u001b[0;34m=\u001b[0m \u001b[0;34m[\u001b[0m\u001b[0;34m]\u001b[0m\u001b[0;34m,\u001b[0m \u001b[0;34m[\u001b[0m\u001b[0;34m]\u001b[0m\u001b[0;34m\u001b[0m\u001b[0;34m\u001b[0m\u001b[0m\n",
      "\u001b[0;32m<ipython-input-81-d3e75d924a54>\u001b[0m in \u001b[0;36mforward\u001b[0;34m(self, xyz)\u001b[0m\n\u001b[1;32m     22\u001b[0m         \u001b[0;32melse\u001b[0m\u001b[0;34m:\u001b[0m\u001b[0;34m\u001b[0m\u001b[0;34m\u001b[0m\u001b[0m\n\u001b[1;32m     23\u001b[0m             \u001b[0mnorm\u001b[0m \u001b[0;34m=\u001b[0m \u001b[0;32mNone\u001b[0m\u001b[0;34m\u001b[0m\u001b[0;34m\u001b[0m\u001b[0m\n\u001b[0;32m---> 24\u001b[0;31m         \u001b[0ml1_xyz\u001b[0m\u001b[0;34m,\u001b[0m \u001b[0ml1_points\u001b[0m \u001b[0;34m=\u001b[0m \u001b[0mself\u001b[0m\u001b[0;34m.\u001b[0m\u001b[0msa1\u001b[0m\u001b[0;34m(\u001b[0m\u001b[0mxyz\u001b[0m\u001b[0;34m,\u001b[0m \u001b[0mnorm\u001b[0m\u001b[0;34m)\u001b[0m\u001b[0;34m\u001b[0m\u001b[0;34m\u001b[0m\u001b[0m\n\u001b[0m\u001b[1;32m     25\u001b[0m         \u001b[0ml2_xyz\u001b[0m\u001b[0;34m,\u001b[0m \u001b[0ml2_points\u001b[0m \u001b[0;34m=\u001b[0m \u001b[0mself\u001b[0m\u001b[0;34m.\u001b[0m\u001b[0msa2\u001b[0m\u001b[0;34m(\u001b[0m\u001b[0ml1_xyz\u001b[0m\u001b[0;34m,\u001b[0m \u001b[0ml1_points\u001b[0m\u001b[0;34m)\u001b[0m\u001b[0;34m\u001b[0m\u001b[0;34m\u001b[0m\u001b[0m\n\u001b[1;32m     26\u001b[0m         \u001b[0ml3_xyz\u001b[0m\u001b[0;34m,\u001b[0m \u001b[0ml3_points\u001b[0m \u001b[0;34m=\u001b[0m \u001b[0mself\u001b[0m\u001b[0;34m.\u001b[0m\u001b[0msa3\u001b[0m\u001b[0;34m(\u001b[0m\u001b[0ml2_xyz\u001b[0m\u001b[0;34m,\u001b[0m \u001b[0ml2_points\u001b[0m\u001b[0;34m)\u001b[0m\u001b[0;34m\u001b[0m\u001b[0;34m\u001b[0m\u001b[0m\n",
      "\u001b[0;32m/usr/local/lib/python3.9/dist-packages/torch/nn/modules/module.py\u001b[0m in \u001b[0;36m_call_impl\u001b[0;34m(self, *input, **kwargs)\u001b[0m\n\u001b[1;32m   1192\u001b[0m         if not (self._backward_hooks or self._forward_hooks or self._forward_pre_hooks or _global_backward_hooks\n\u001b[1;32m   1193\u001b[0m                 or _global_forward_hooks or _global_forward_pre_hooks):\n\u001b[0;32m-> 1194\u001b[0;31m             \u001b[0;32mreturn\u001b[0m \u001b[0mforward_call\u001b[0m\u001b[0;34m(\u001b[0m\u001b[0;34m*\u001b[0m\u001b[0minput\u001b[0m\u001b[0;34m,\u001b[0m \u001b[0;34m**\u001b[0m\u001b[0mkwargs\u001b[0m\u001b[0;34m)\u001b[0m\u001b[0;34m\u001b[0m\u001b[0;34m\u001b[0m\u001b[0m\n\u001b[0m\u001b[1;32m   1195\u001b[0m         \u001b[0;31m# Do not call functions when jit is used\u001b[0m\u001b[0;34m\u001b[0m\u001b[0;34m\u001b[0m\u001b[0m\n\u001b[1;32m   1196\u001b[0m         \u001b[0mfull_backward_hooks\u001b[0m\u001b[0;34m,\u001b[0m \u001b[0mnon_full_backward_hooks\u001b[0m \u001b[0;34m=\u001b[0m \u001b[0;34m[\u001b[0m\u001b[0;34m]\u001b[0m\u001b[0;34m,\u001b[0m \u001b[0;34m[\u001b[0m\u001b[0;34m]\u001b[0m\u001b[0;34m\u001b[0m\u001b[0;34m\u001b[0m\u001b[0m\n",
      "\u001b[0;32m<ipython-input-80-e25b1789e593>\u001b[0m in \u001b[0;36mforward\u001b[0;34m(self, xyz, points)\u001b[0m\n\u001b[1;32m    231\u001b[0m         \u001b[0mB\u001b[0m\u001b[0;34m,\u001b[0m \u001b[0mN\u001b[0m\u001b[0;34m,\u001b[0m \u001b[0mC\u001b[0m \u001b[0;34m=\u001b[0m \u001b[0mxyz\u001b[0m\u001b[0;34m.\u001b[0m\u001b[0mshape\u001b[0m\u001b[0;34m\u001b[0m\u001b[0;34m\u001b[0m\u001b[0m\n\u001b[1;32m    232\u001b[0m         \u001b[0mS\u001b[0m \u001b[0;34m=\u001b[0m \u001b[0mself\u001b[0m\u001b[0;34m.\u001b[0m\u001b[0mnpoint\u001b[0m\u001b[0;34m\u001b[0m\u001b[0;34m\u001b[0m\u001b[0m\n\u001b[0;32m--> 233\u001b[0;31m         \u001b[0mnew_xyz\u001b[0m \u001b[0;34m=\u001b[0m \u001b[0mindex_points\u001b[0m\u001b[0;34m(\u001b[0m\u001b[0mxyz\u001b[0m\u001b[0;34m,\u001b[0m \u001b[0mfarthest_point_sample\u001b[0m\u001b[0;34m(\u001b[0m\u001b[0mxyz\u001b[0m\u001b[0;34m,\u001b[0m \u001b[0mS\u001b[0m\u001b[0;34m)\u001b[0m\u001b[0;34m)\u001b[0m\u001b[0;34m\u001b[0m\u001b[0;34m\u001b[0m\u001b[0m\n\u001b[0m\u001b[1;32m    234\u001b[0m         \u001b[0mnew_points_list\u001b[0m \u001b[0;34m=\u001b[0m \u001b[0;34m[\u001b[0m\u001b[0;34m]\u001b[0m\u001b[0;34m\u001b[0m\u001b[0;34m\u001b[0m\u001b[0m\n\u001b[1;32m    235\u001b[0m         \u001b[0;32mfor\u001b[0m \u001b[0mi\u001b[0m\u001b[0;34m,\u001b[0m \u001b[0mradius\u001b[0m \u001b[0;32min\u001b[0m \u001b[0menumerate\u001b[0m\u001b[0;34m(\u001b[0m\u001b[0mself\u001b[0m\u001b[0;34m.\u001b[0m\u001b[0mradius_list\u001b[0m\u001b[0;34m)\u001b[0m\u001b[0;34m:\u001b[0m\u001b[0;34m\u001b[0m\u001b[0;34m\u001b[0m\u001b[0m\n",
      "\u001b[0;32m<ipython-input-80-e25b1789e593>\u001b[0m in \u001b[0;36mfarthest_point_sample\u001b[0;34m(xyz, npoint)\u001b[0m\n\u001b[1;32m     72\u001b[0m         \u001b[0mcentroids\u001b[0m\u001b[0;34m[\u001b[0m\u001b[0;34m:\u001b[0m\u001b[0;34m,\u001b[0m \u001b[0mi\u001b[0m\u001b[0;34m]\u001b[0m \u001b[0;34m=\u001b[0m \u001b[0mfarthest\u001b[0m\u001b[0;34m\u001b[0m\u001b[0;34m\u001b[0m\u001b[0m\n\u001b[1;32m     73\u001b[0m         \u001b[0mcentroid\u001b[0m \u001b[0;34m=\u001b[0m \u001b[0mxyz\u001b[0m\u001b[0;34m[\u001b[0m\u001b[0mbatch_indices\u001b[0m\u001b[0;34m,\u001b[0m \u001b[0mfarthest\u001b[0m\u001b[0;34m,\u001b[0m \u001b[0;34m:\u001b[0m\u001b[0;34m]\u001b[0m\u001b[0;34m.\u001b[0m\u001b[0mview\u001b[0m\u001b[0;34m(\u001b[0m\u001b[0mB\u001b[0m\u001b[0;34m,\u001b[0m \u001b[0;36m1\u001b[0m\u001b[0;34m,\u001b[0m \u001b[0;36m3\u001b[0m\u001b[0;34m)\u001b[0m\u001b[0;34m\u001b[0m\u001b[0;34m\u001b[0m\u001b[0m\n\u001b[0;32m---> 74\u001b[0;31m         \u001b[0mdist\u001b[0m \u001b[0;34m=\u001b[0m \u001b[0mtorch\u001b[0m\u001b[0;34m.\u001b[0m\u001b[0msum\u001b[0m\u001b[0;34m(\u001b[0m\u001b[0;34m(\u001b[0m\u001b[0mxyz\u001b[0m \u001b[0;34m-\u001b[0m \u001b[0mcentroid\u001b[0m\u001b[0;34m)\u001b[0m \u001b[0;34m**\u001b[0m \u001b[0;36m2\u001b[0m\u001b[0;34m,\u001b[0m \u001b[0;34m-\u001b[0m\u001b[0;36m1\u001b[0m\u001b[0;34m)\u001b[0m\u001b[0;34m\u001b[0m\u001b[0;34m\u001b[0m\u001b[0m\n\u001b[0m\u001b[1;32m     75\u001b[0m         \u001b[0mmask\u001b[0m \u001b[0;34m=\u001b[0m \u001b[0mdist\u001b[0m \u001b[0;34m<\u001b[0m \u001b[0mdistance\u001b[0m\u001b[0;34m\u001b[0m\u001b[0;34m\u001b[0m\u001b[0m\n\u001b[1;32m     76\u001b[0m         \u001b[0mdistance\u001b[0m\u001b[0;34m[\u001b[0m\u001b[0mmask\u001b[0m\u001b[0;34m]\u001b[0m \u001b[0;34m=\u001b[0m \u001b[0mdist\u001b[0m\u001b[0;34m[\u001b[0m\u001b[0mmask\u001b[0m\u001b[0;34m]\u001b[0m\u001b[0;34m\u001b[0m\u001b[0;34m\u001b[0m\u001b[0m\n",
      "\u001b[0;31mKeyboardInterrupt\u001b[0m: "
     ]
    }
   ],
   "source": [
    "train(classifier, criterion, train_loader, optimizer, scheduler, valid_loader,  save=False)"
   ]
  },
  {
   "cell_type": "markdown",
   "metadata": {
    "id": "rdIlrnXh2UX9"
   },
   "source": [
    "# Test"
   ]
  },
  {
   "cell_type": "code",
   "execution_count": 90,
   "metadata": {
    "id": "mNefMkzH2Wvw"
   },
   "outputs": [],
   "source": [
    "from sklearn.metrics import confusion_matrix"
   ]
  },
  {
   "cell_type": "code",
   "execution_count": 91,
   "metadata": {
    "colab": {
     "base_uri": "https://localhost:8080/"
    },
    "id": "h2u-0bwC2X_Y",
    "outputId": "0c9aac0e-c2a2-4974-c8cd-decba531a240"
   },
   "outputs": [
    {
     "data": {
      "text/plain": [
       "<All keys matched successfully>"
      ]
     },
     "execution_count": 91,
     "metadata": {},
     "output_type": "execute_result"
    }
   ],
   "source": [
    "checkpoint = torch.load('best_model_p2_xyzgf_sd.pth')\n",
    "classifier.load_state_dict(checkpoint['model_state_dict'])"
   ]
  },
  {
   "cell_type": "code",
   "execution_count": 92,
   "metadata": {
    "id": "c3kRzcSwh0OS"
   },
   "outputs": [],
   "source": [
    "def test(model, test_loader, num_class=6, vote_num=1):\n",
    "    mean_correct = []\n",
    "    classifier = model.eval()\n",
    "    class_acc = np.zeros((num_class, 3))\n",
    "\n",
    "    all_preds = []\n",
    "    all_labels = []\n",
    "    for j, data in tqdm(enumerate(test_loader), total=len(test_loader)):\n",
    "        \n",
    "        target = data[:,1,9]\n",
    "        target = target.type(torch.LongTensor) \n",
    "        points, target = data[:,:,0:9].to(device).float(), target.to(device)\n",
    "\n",
    "        points = points.transpose(2, 1)\n",
    "        vote_pool = torch.zeros(target.size()[0], num_class).to(device)\n",
    "\n",
    "        for _ in range(vote_num):\n",
    "            pred, _ = classifier(points)\n",
    "            vote_pool += pred\n",
    "        pred = vote_pool / vote_num\n",
    "        pred_choice = pred.data.max(1)[1]\n",
    "        all_preds += list(pred_choice.cpu().numpy())\n",
    "        all_labels += list(target.cpu().numpy())\n",
    "\n",
    "        for cat in np.unique(target.cpu()):\n",
    "            classacc = pred_choice[target == cat].eq(target[target == cat].long().data).cpu().sum()\n",
    "            class_acc[cat, 0] += classacc.item() / float(points[target == cat].size()[0])\n",
    "            class_acc[cat, 1] += 1\n",
    "        correct = pred_choice.eq(target.long().data).cpu().sum()\n",
    "        mean_correct.append(correct.item() / float(points.size()[0]))\n",
    "\n",
    "    for i in range(num_class):\n",
    "        if class_acc[i,1]>0:\n",
    "            class_acc[i, 2] = class_acc[i, 0] / class_acc[i, 1]\n",
    "    class_acc = np.mean(class_acc[:, 2])\n",
    "    instance_acc = np.mean(mean_correct)\n",
    "    return instance_acc, class_acc, all_labels, all_preds"
   ]
  },
  {
   "cell_type": "code",
   "execution_count": 93,
   "metadata": {
    "colab": {
     "base_uri": "https://localhost:8080/"
    },
    "id": "WJ52hYOpmRTv",
    "outputId": "aecdf455-49a3-4dae-8cba-8a7c589d9fdd"
   },
   "outputs": [
    {
     "name": "stderr",
     "output_type": "stream",
     "text": [
      "100%|██████████| 153/153 [00:33<00:00,  4.53it/s]\n"
     ]
    }
   ],
   "source": [
    "ins_acc, cla_acc, all_labels, all_preds  = test(classifier.eval(), test_loader)"
   ]
  },
  {
   "cell_type": "code",
   "execution_count": 94,
   "metadata": {
    "colab": {
     "base_uri": "https://localhost:8080/"
    },
    "id": "SYeSzIKhqYXA",
    "outputId": "b3a26d2f-7e8c-4ae2-ea83-2b63de0149c1"
   },
   "outputs": [
    {
     "name": "stdout",
     "output_type": "stream",
     "text": [
      "0.4072757596510656\n",
      "0.5441176470588235\n"
     ]
    }
   ],
   "source": [
    "print(cla_acc)\n",
    "print(ins_acc)"
   ]
  },
  {
   "cell_type": "code",
   "execution_count": 95,
   "metadata": {
    "colab": {
     "base_uri": "https://localhost:8080/"
    },
    "id": "LvqVmt0i2ds3",
    "outputId": "d92fb915-9e91-4e27-9a19-be8b13af6131"
   },
   "outputs": [
    {
     "name": "stdout",
     "output_type": "stream",
     "text": [
      "[223 148   2  55 169  12]\n",
      "[230 123   0  76 126  54]\n",
      "[[160  18   0  34   6   5]\n",
      " [ 55  43   0   7   8  35]\n",
      " [  0   0   0   0   0   2]\n",
      " [  8  28   0  16   0   3]\n",
      " [  7  34   0  19 107   2]\n",
      " [  0   0   0   0   5   7]]\n",
      "0.5467980295566502\n"
     ]
    }
   ],
   "source": [
    "cm = confusion_matrix(all_labels, all_preds);\n",
    "cm\n",
    "print(np.bincount(all_labels))\n",
    "print(np.bincount(all_preds))\n",
    "print(cm)\n",
    "\n",
    "correct_rate = np.diagonal(cm).sum()/cm.sum()\n",
    "print(correct_rate)"
   ]
  },
  {
   "cell_type": "code",
   "execution_count": 96,
   "metadata": {
    "colab": {
     "base_uri": "https://localhost:8080/"
    },
    "id": "jQryCKH4R1FW",
    "outputId": "b81cfe03-c50c-4cce-dcdc-c1d0024d862d"
   },
   "outputs": [
    {
     "data": {
      "text/plain": [
       "{'wall & balcony & ..': 0,\n",
       " 'window & blinds': 1,\n",
       " 'door': 2,\n",
       " 'molding & decoration': 3,\n",
       " 'ground surface & terrian': 4,\n",
       " 'roof & others': 5}"
      ]
     },
     "execution_count": 96,
     "metadata": {},
     "output_type": "execute_result"
    }
   ],
   "source": [
    "classes = {'wall & balcony & ..': 0,\n",
    "           'window & blinds': 1,\n",
    "           'door': 2,\n",
    "           'molding & decoration': 3,\n",
    "           'ground surface & terrian': 4,\n",
    "           'roof & others': 5}\n",
    "classes\n",
    "cla_test = {'wall & balcony & ..': 0,\n",
    "            'window & blinds': 1,\n",
    "            'door': 2,\n",
    "            'molding & decoration': 3,\n",
    "            'ground surface & terrian': 4,\n",
    "            'roof & others': 5}\n",
    "cla_test"
   ]
  },
  {
   "cell_type": "code",
   "execution_count": 97,
   "metadata": {
    "id": "MvIkJrRI2g8L"
   },
   "outputs": [],
   "source": [
    "import itertools\n",
    "import numpy as np\n",
    "import matplotlib.pyplot as plt\n",
    "\n",
    "# function from https://deeplizard.com/learn/video/0LhiS6yu2qQ\n",
    "def plot_confusion_matrix(cm, classes, normalize=False, title='Confusion matrix', cmap=plt.cm.Blues):\n",
    "    if normalize:\n",
    "        cm = cm.astype('float') / cm.sum(axis=1)[:, np.newaxis]\n",
    "        print(\"Normalized confusion matrix\")\n",
    "    else:\n",
    "        print('Confusion matrix, without normalization')\n",
    "\n",
    "    plt.imshow(cm, interpolation='nearest', cmap=cmap)\n",
    "    plt.title(title)\n",
    "    plt.colorbar()\n",
    "    tick_marks = np.arange(len(classes))\n",
    "    plt.xticks(tick_marks, classes, rotation=45)\n",
    "    plt.yticks(tick_marks, classes)\n",
    "\n",
    "    fmt = '.2f' if normalize else 'd'\n",
    "    thresh = cm.max() / 2.\n",
    "    for i, j in itertools.product(range(cm.shape[0]), range(cm.shape[1])):\n",
    "        plt.text(j, i, format(cm[i, j], fmt), horizontalalignment=\"center\", color=\"white\" if cm[i, j] > thresh else \"black\")\n",
    "\n",
    "    plt.tight_layout()\n",
    "    plt.ylabel('True label')\n",
    "    plt.xlabel('Predicted label')"
   ]
  },
  {
   "cell_type": "code",
   "execution_count": 98,
   "metadata": {
    "colab": {
     "base_uri": "https://localhost:8080/",
     "height": 581
    },
    "id": "YJeGeH212i6h",
    "outputId": "8eb18892-6428-4724-c5b4-b584140f1e94"
   },
   "outputs": [
    {
     "name": "stdout",
     "output_type": "stream",
     "text": [
      "Normalized confusion matrix\n"
     ]
    },
    {
     "data": {
      "image/png": "[encoded data removed]",
      "text/plain": [
       "<Figure size 576x576 with 2 Axes>"
      ]
     },
     "metadata": {
      "needs_background": "light"
     },
     "output_type": "display_data"
    }
   ],
   "source": [
    "plt.figure(figsize=(8,8))\n",
    "plot_confusion_matrix(cm, list(cla_test.keys()), normalize=True)"
   ]
  },
  {
   "cell_type": "code",
   "execution_count": 99,
   "metadata": {
    "colab": {
     "base_uri": "https://localhost:8080/",
     "height": 581
    },
    "id": "9FeHmyzh2mZq",
    "outputId": "5c14b3c7-63bb-47bf-bf9d-6f8d0b80ad59"
   },
   "outputs": [
    {
     "name": "stdout",
     "output_type": "stream",
     "text": [
      "Confusion matrix, without normalization\n"
     ]
    },
    {
     "data": {
      "image/png": "[encoded data removed]",
      "text/plain": [
       "<Figure size 576x576 with 2 Axes>"
      ]
     },
     "metadata": {
      "needs_background": "light"
     },
     "output_type": "display_data"
    }
   ],
   "source": [
    "plt.figure(figsize=(8,8))\n",
    "plot_confusion_matrix(cm, list(cla_test.keys()), normalize=False)"
   ]
  },
  {
   "cell_type": "code",
   "execution_count": null,
   "metadata": {
    "id": "BKffZDqApVAM"
   },
   "outputs": [],
   "source": []
  }
 ],
 "metadata": {
  "accelerator": "GPU",
  "colab": {
   "provenance": []
  },
  "gpuClass": "standard",
  "kernelspec": {
   "display_name": "Python 3 (ipykernel)",
   "language": "python",
   "name": "python3"
  },
  "language_info": {
   "codemirror_mode": {
    "name": "ipython",
    "version": 3
   },
   "file_extension": ".py",
   "mimetype": "text/x-python",
   "name": "python",
   "nbconvert_exporter": "python",
   "pygments_lexer": "ipython3",
   "version": "3.9.13"
  }
 },
 "nbformat": 4,
 "nbformat_minor": 4
}
