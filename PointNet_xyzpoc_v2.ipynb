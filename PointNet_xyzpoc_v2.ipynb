{
 "cells": [
  {
   "cell_type": "markdown",
   "metadata": {
    "id": "be8RFvYTsfYE",
    "tags": []
   },
   "source": [
    "# Data Load\n"
   ]
  },
  {
   "cell_type": "code",
   "execution_count": 3,
   "metadata": {
    "executionInfo": {
     "elapsed": 15376,
     "status": "ok",
     "timestamp": 1674079742236,
     "user": {
      "displayName": "SUKIDA Tan",
      "userId": "04234593673225449814"
     },
     "user_tz": -60
    },
    "id": "0J4zJlrCqSb4"
   },
   "outputs": [],
   "source": [
    "import numpy as np\n",
    "import math\n",
    "import random\n",
    "import os\n",
    "import torch\n",
    "import scipy.spatial.distance\n",
    "from torch.utils.data import Dataset, DataLoader\n",
    "from torchvision import transforms, utils\n",
    "\n",
    "import plotly.graph_objects as go\n",
    "import plotly.express as px\n",
    "\n",
    "import matplotlib.pylab as plt\n",
    "from mpl_toolkits.mplot3d import Axes3D\n",
    "import pandas as pd\n",
    "from sklearn.model_selection import train_test_split\n",
    "from sklearn.ensemble import RandomForestClassifier\n",
    "# from google.colab import drive\n",
    "import tensorflow as tf\n",
    "import torch.nn as nn\n",
    "import torch.nn.functional as F\n",
    "import torch.optim as optim\n"
   ]
  },
  {
   "cell_type": "code",
   "execution_count": 4,
   "metadata": {},
   "outputs": [],
   "source": [
    "torch.cuda.empty_cache()"
   ]
  },
  {
   "cell_type": "code",
   "execution_count": 5,
   "metadata": {},
   "outputs": [
    {
     "name": "stdout",
     "output_type": "stream",
     "text": [
      "                x      y      z         p           o         c        n1  \\\n",
      "0        4.400000   5.60  11.00  0.889916  139.555687  0.034776  0.831919   \n",
      "1        4.400000   5.65   9.80  0.862543  174.456555  0.040476 -0.937781   \n",
      "2        4.400000   5.95   2.25  0.720397  376.340517  0.084192  0.758971   \n",
      "3        4.400000   6.00   1.65  0.325332  283.398300  0.142658 -0.455799   \n",
      "4        4.400000   5.80   2.90  0.760750  349.709760  0.078349  0.629671   \n",
      "...           ...    ...    ...       ...         ...       ...       ...   \n",
      "1241127  1.550000   6.95   7.25  0.265804  202.062927  0.112716  0.379005   \n",
      "1241128  1.550000   7.00   7.60  0.432654  241.693884  0.088374 -0.496047   \n",
      "1241129  1.550000   6.90   7.25  0.294161  214.719354  0.110785  0.317526   \n",
      "1241130 -9.150001  11.45   7.10  0.322439   96.122849  0.084484 -0.711721   \n",
      "1241131 -9.350000  11.30   5.30  0.403567  147.471003  0.076126  0.551258   \n",
      "\n",
      "               n2        n3          l1          l2          l3  \n",
      "0       -0.266723 -0.486590  342.159866  328.662887   24.169234  \n",
      "1        0.312998  0.150328  409.218574  386.535977   33.567316  \n",
      "2       -0.639324  0.123401  699.386299  625.648929  121.813411  \n",
      "3       -0.637798  0.620855  526.388947  310.506976  139.255898  \n",
      "4       -0.641620  0.437994  656.421599  606.753640  107.381139  \n",
      "...           ...       ...         ...         ...         ...  \n",
      "1241127 -0.724285 -0.575992  463.428975  208.545498   85.364229  \n",
      "1241128  0.413231  0.763661  538.944969  316.062362   82.885732  \n",
      "1241129 -0.764079 -0.561570  482.548745  230.824172   88.877351  \n",
      "1241130  0.505537  0.487736  243.620677  111.305622   32.752817  \n",
      "1241131 -0.833320  0.041142  363.542946  192.534146   45.820140  \n",
      "\n",
      "[1241132 rows x 12 columns]\n"
     ]
    }
   ],
   "source": [
    "lxyz_train = pd.read_csv('./data/outputs/lxyz_train_xyzpocn.csv',index_col = False)\n",
    "print(lxyz_train)"
   ]
  },
  {
   "cell_type": "code",
   "execution_count": 6,
   "metadata": {},
   "outputs": [
    {
     "name": "stdout",
     "output_type": "stream",
     "text": [
      "            x          y          z         p          o         c        n1  \\\n",
      "0       14.25  12.950000   7.150000  0.117071   0.095071  0.023735  0.596763   \n",
      "1       14.20  12.850000  19.150000  0.074767  17.740876  0.175874  0.938729   \n",
      "2       14.20  12.800000  19.150000  0.080304  19.920146  0.159482  0.945373   \n",
      "3       14.20  12.950000  19.200001  0.054315  12.568280  0.239675 -0.905330   \n",
      "4       14.20  12.650001  19.600000  0.124446  25.038166  0.095084  0.944082   \n",
      "...       ...        ...        ...       ...        ...       ...       ...   \n",
      "627576 -13.80 -12.100000   1.600000  0.162190  40.424178  0.073496  0.882015   \n",
      "627577 -13.80 -12.150001   1.600000  0.157458  46.817645  0.084224  0.860524   \n",
      "627578 -13.80 -11.950000   1.550000  0.274379  15.954391  0.031064  0.954728   \n",
      "627579 -13.85 -12.050000   1.600000  0.167637  29.673507  0.058562  0.896538   \n",
      "627580 -13.85 -11.750000   1.600000  0.333941   5.438617  0.008600  0.999530   \n",
      "\n",
      "              n2        n3          l1         l2         l3  \n",
      "0      -0.053219  0.800651    0.597247   0.086545   0.016625  \n",
      "1      -0.336146  0.076119   37.389544  13.697890  10.902380  \n",
      "2      -0.321293  0.055145   45.428023  15.140520  11.492457  \n",
      "3       0.410512 -0.108895   19.643622  10.600784   9.533844  \n",
      "4      -0.325949  0.049672   77.393937  19.849186  10.217811  \n",
      "...          ...       ...         ...        ...        ...  \n",
      "627576 -0.452860  0.130261  135.986943  35.672947  13.617187  \n",
      "627577 -0.484578  0.157110  147.155325  40.422470  17.251619  \n",
      "627578 -0.297292  0.010576   67.232417  21.285030   2.837838  \n",
      "627579 -0.437825  0.067294  111.238593  27.263077   8.615416  \n",
      "627580 -0.000719  0.030649   34.163937  11.807541   0.398784  \n",
      "\n",
      "[627581 rows x 12 columns]\n"
     ]
    }
   ],
   "source": [
    "lxyz_test = pd.read_csv('./data/outputs/lxyz_test_xyzpocn.csv',index_col = False)\n",
    "print(lxyz_test)"
   ]
  },
  {
   "cell_type": "code",
   "execution_count": 7,
   "metadata": {},
   "outputs": [
    {
     "name": "stdout",
     "output_type": "stream",
     "text": [
      "cla\n",
      "0      504407\n",
      "4      290500\n",
      "1      190930\n",
      "3      135591\n",
      "5      105041\n",
      "2       14663\n",
      "dtype: int64\n"
     ]
    }
   ],
   "source": [
    "lclass_train = pd.read_csv(\"./data/outputs/lclass_train_xyzpocn.csv\",index_col = False)\n",
    "lclass_train = lclass_train.replace({14:1})\n",
    "print(lclass_train.value_counts())"
   ]
  },
  {
   "cell_type": "code",
   "execution_count": 8,
   "metadata": {},
   "outputs": [
    {
     "name": "stdout",
     "output_type": "stream",
     "text": [
      "cla\n",
      "0      229206\n",
      "4      173727\n",
      "1      152563\n",
      "3       57049\n",
      "5       12315\n",
      "2        2721\n",
      "dtype: int64\n"
     ]
    }
   ],
   "source": [
    "lclass_test = pd.read_csv(\"./data/outputs/lclass_test_xyzpocn.csv\",index_col = False)\n",
    "print(lclass_test.value_counts())"
   ]
  },
  {
   "cell_type": "code",
   "execution_count": 12,
   "metadata": {},
   "outputs": [
    {
     "name": "stdout",
     "output_type": "stream",
     "text": [
      "1     2869200\n",
      "2      826645\n",
      "5      746775\n",
      "12     378061\n",
      "16     366536\n",
      "17     209118\n",
      "3      111354\n",
      "15      35457\n",
      "11      22421\n",
      "9        7342\n",
      "13       1932\n",
      "6        1319\n",
      "14        731\n",
      "Name: cla, dtype: int64\n",
      "1     417280\n",
      "2     276623\n",
      "16    177257\n",
      "5      93060\n",
      "13     41630\n",
      "17     24679\n",
      "12     14055\n",
      "3       4101\n",
      "4       1072\n",
      "9        682\n",
      "Name: cla, dtype: int64\n"
     ]
    }
   ],
   "source": [
    "######################### using pandas for point reading ################\n",
    "lxyz = pd.read_csv('./data/training/labelledLocalCRS/DEBY_LOD2_4959322/DEBY_LOD2_4959322.xyz', sep=\" \", header=0)\n",
    "lxyz.columns = [\"x\", \"y\", \"z\", \"cla\"]\n",
    "print(lxyz.cla.value_counts())\n",
    "\n",
    "lxyz_test = pd.read_csv('./data/test/labelledLocalCRS/DEBY_LOD2_4959459/DEBY_LOD2_4959459.xyz', sep=\" \", header=0)\n",
    "lxyz_test.columns = [\"x\", \"y\", \"z\", \"cla\"]\n",
    "print(lxyz_test.cla.value_counts())"
   ]
  },
  {
   "cell_type": "markdown",
   "metadata": {
    "tags": []
   },
   "source": [
    "# Sample Points & Merge class"
   ]
  },
  {
   "cell_type": "code",
   "execution_count": 5,
   "metadata": {},
   "outputs": [
    {
     "name": "stdout",
     "output_type": "stream",
     "text": [
      "1     2911999\n",
      "2      827376\n",
      "5      748094\n",
      "13     577586\n",
      "11     400482\n",
      "3      111354\n",
      "Name: cla, dtype: int64\n",
      "1     419034\n",
      "2     276623\n",
      "13    243566\n",
      "5      93060\n",
      "11     14055\n",
      "3       4101\n",
      "Name: cla, dtype: int64\n"
     ]
    }
   ],
   "source": [
    "lclass = lxyz['cla'].replace({6:5,9:1,15:1,10:1,12:11,17:13,16:13,14:2})\n",
    "print(lclass.value_counts())\n",
    "\n",
    "lclass_test = lxyz_test['cla'].replace({6:5,9:1,15:1,10:1,12:11,17:13,16:13,14:2, 4:1})\n",
    "print(lclass_test.value_counts())"
   ]
  },
  {
   "cell_type": "code",
   "execution_count": 6,
   "metadata": {},
   "outputs": [
    {
     "name": "stdout",
     "output_type": "stream",
     "text": [
      "1    2911999\n",
      "2     827376\n",
      "4     748094\n",
      "5     577586\n",
      "6     400482\n",
      "3     111354\n",
      "Name: cla, dtype: int64\n",
      "1    419034\n",
      "2    276623\n",
      "5    243566\n",
      "4     93060\n",
      "6     14055\n",
      "3      4101\n",
      "Name: cla, dtype: int64\n"
     ]
    }
   ],
   "source": [
    "lclass = lclass.replace({5:4,13:5,11:6})\n",
    "print(lclass.value_counts())\n",
    "# 1: wall\n",
    "# 2: window\n",
    "# 3: door\n",
    "# 4: molding\n",
    "# 5: other\n",
    "# 6: terrian\n",
    "\n",
    "lclass_test = lclass_test.replace({5:4,13:5,11:6})\n",
    "print(lclass_test.value_counts())"
   ]
  },
  {
   "cell_type": "code",
   "execution_count": 7,
   "metadata": {},
   "outputs": [
    {
     "name": "stdout",
     "output_type": "stream",
     "text": [
      "0    2911999\n",
      "1     827376\n",
      "3     748094\n",
      "4     577586\n",
      "5     400482\n",
      "2     111354\n",
      "Name: cla, dtype: int64\n",
      "0    419034\n",
      "1    276623\n",
      "4    243566\n",
      "3     93060\n",
      "5     14055\n",
      "2      4101\n",
      "Name: cla, dtype: int64\n"
     ]
    }
   ],
   "source": [
    "lclass = lclass.replace({1:0,2:1,3:2,4:3,5:4,6:5})\n",
    "print(lclass.value_counts())\n",
    "# 0: wall\n",
    "# 1: window\n",
    "# 2: door\n",
    "# 3: molding\n",
    "# 4: other\n",
    "# 5: terrian\n",
    "\n",
    "lclass_test = lclass_test.replace({1:0,2:1,3:2,4:3,5:4,6:5})\n",
    "print(lclass_test.value_counts())"
   ]
  },
  {
   "cell_type": "code",
   "execution_count": 8,
   "metadata": {},
   "outputs": [],
   "source": [
    "lxyz = lxyz.drop('cla',axis = 1) \n",
    "lxyz_test = lxyz_test.drop('cla',axis = 1) \n",
    "\n",
    "lxyz = lxyz.to_numpy().reshape(-1,3)\n",
    "lxyz_test = lxyz_test.to_numpy().reshape(-1,3)"
   ]
  },
  {
   "cell_type": "code",
   "execution_count": 9,
   "metadata": {},
   "outputs": [
    {
     "name": "stdout",
     "output_type": "stream",
     "text": [
      "Jupyter environment detected. Enabling Open3D WebVisualizer.\n",
      "[Open3D INFO] WebRTC GUI backend enabled.\n",
      "[Open3D INFO] WebRTCWindowSystem: HTTP handshake server disabled.\n"
     ]
    }
   ],
   "source": [
    "import open3d as o3d"
   ]
  },
  {
   "cell_type": "code",
   "execution_count": 10,
   "metadata": {},
   "outputs": [],
   "source": [
    "######################### using open3d for point processing ################\n",
    "device = o3d.core.Device(\"CPU:0\")\n",
    "dtype = o3d.core.float32\n",
    "pcd = o3d.t.geometry.PointCloud(device)\n",
    "pcd.point.positions = o3d.core.Tensor(lxyz, dtype, device)\n",
    "pcd.point.labels = o3d.core.Tensor(lclass.to_numpy().reshape(-1,1), o3d.core.int32, device)\n",
    "# o3d.visualization.draw([pcd])\n",
    "downpcd = pcd.voxel_down_sample(voxel_size = 0.05)\n",
    "\n",
    "lxyz_train = downpcd.point.positions.numpy()\n",
    "lclass_train = downpcd.point.labels.numpy()\n",
    "\n",
    "pcd_train = o3d.geometry.PointCloud()\n",
    "pcd_train.points = o3d.utility.Vector3dVector(lxyz_train)\n",
    "\n",
    "# 颜色\n",
    "colors = plt.get_cmap(\"tab20\")(np.array(lclass_train).reshape(-1) / 17.0)\n",
    "colors = colors[:,0:3]\n",
    "pcd_train.colors=o3d.utility.Vector3dVector(colors)\n",
    "o3d.visualization.draw_geometries([pcd_train], window_name='test the color',width=800,height=600)"
   ]
  },
  {
   "cell_type": "code",
   "execution_count": 11,
   "metadata": {},
   "outputs": [],
   "source": [
    "pcd_test = o3d.t.geometry.PointCloud(device)\n",
    "pcd_test.point.positions = o3d.core.Tensor(lxyz_test, dtype, device)\n",
    "pcd_test.point.labels = o3d.core.Tensor(lclass_test.to_numpy().reshape(-1,1), o3d.core.int32, device)\n",
    "# o3d.visualization.draw([pcd])\n",
    "downpcd_test = pcd_test.voxel_down_sample(voxel_size = 0.05)\n",
    "\n",
    "lxyz_test = downpcd_test.point.positions.numpy()\n",
    "lclass_test = downpcd_test.point.labels.numpy()\n",
    "\n",
    "pcd_test = o3d.geometry.PointCloud()\n",
    "pcd_test.points = o3d.utility.Vector3dVector(lxyz_test)\n",
    "\n",
    "# 颜色\n",
    "colors = plt.get_cmap(\"tab20\")(np.array(lclass_test).reshape(-1) / 17.0)\n",
    "colors = colors[:,0:3]\n",
    "pcd_test.colors=o3d.utility.Vector3dVector(colors)\n",
    "o3d.visualization.draw_geometries([pcd_test], window_name='test the color',width=800,height=600)"
   ]
  },
  {
   "cell_type": "markdown",
   "metadata": {
    "tags": []
   },
   "source": [
    "# Add Features"
   ]
  },
  {
   "cell_type": "code",
   "execution_count": 12,
   "metadata": {},
   "outputs": [],
   "source": [
    "def PCA(data, correlation=False, sort=True):\n",
    "    average_data = np.mean(data,axis=0)       # calulating the centroid\n",
    "    decentration_matrix = data - average_data   # move the origin to the centroid\n",
    "    H = np.dot(decentration_matrix.T,decentration_matrix)  # calculating decentration_matrix H\n",
    "    eigenvectors,eigenvalues,eigenvectors_T = np.linalg.svd(H)    # SVD - eigenvalue,eigenvector\n",
    "\n",
    "\n",
    "    if sort:\n",
    "        sort = eigenvalues.argsort()[::-1]      # sorting as main component\n",
    "        eigenvalues = eigenvalues[sort]         \n",
    "        eigenvectors = eigenvectors[:, sort]\n",
    "\n",
    "    return eigenvalues, eigenvectors\n",
    "\n",
    "def collFeatures(pcd,length,size = 0.8):\n",
    "    pcd_tree = o3d.geometry.KDTreeFlann(pcd)  #set a kd tree for tha point cloud, make searching faster\n",
    "    normals = []\n",
    "    llambda = []\n",
    "    lp = []\n",
    "    lo = []\n",
    "    lc = []\n",
    "    non_idx = []\n",
    "    # print(point_cloud_o3d)  #geometry::PointCloud with 10000 points.\n",
    "    print(length) #10000\n",
    "    for i in range(length):\n",
    "        # search_knn_vector_3d， input[point，x]      returns [int, open3d.utility.IntVector, open3d.utility.DoubleVector]\n",
    "        [_, idx, _] = pcd_tree.search_radius_vector_3d(pcd.points[i], size)  \n",
    "        # asarray is the same as array  but asarray will save the memeory\n",
    "        k_nearest_point = np.asarray(pcd.points)[idx, :]  #find the surrounding points for each point, set them as a curve and use PCA to find the normal\n",
    "        lamb, v = PCA(k_nearest_point)\n",
    "        if len(k_nearest_point) == 1:\n",
    "            non_idx.append(i)  # record the index that has no knn point\n",
    "            p = 0\n",
    "            o = 0\n",
    "            c = 0\n",
    "        else:\n",
    "            p = (lamb[1]-lamb[2])/lamb[0] # calculate features based on eigenvalues\n",
    "            o = pow(lamb[0]*lamb[1]*lamb[2],1.0/3.0)\n",
    "            c = lamb[2]/sum(lamb)\n",
    "        normals.append(v[:, 1])\n",
    "        llambda.append(lamb)\n",
    "        lp.append(p)\n",
    "        lo.append(o)\n",
    "        lc.append(c)\n",
    "    return np.array(normals),np.array(llambda),np.array(lp).reshape(length,-1),np.array(lo).reshape(length,-1),np.array(lc).reshape(length,-1), np.array(non_idx)"
   ]
  },
  {
   "cell_type": "code",
   "execution_count": 13,
   "metadata": {},
   "outputs": [
    {
     "name": "stdout",
     "output_type": "stream",
     "text": [
      "1241136\n"
     ]
    }
   ],
   "source": [
    "# add features, normals, lambda, p, o, c, radius is 0.8m\n",
    "normals,llambda,lp,lo,lc,non_index = collFeatures(pcd_train,downpcd.point.positions.shape[0])\n",
    "lxyz_train = np.hstack((lxyz_train,lp,lo,lc))\n",
    "lxyz_train = pd.DataFrame(lxyz_train)\n",
    "lxyz_train.columns = [\"x\", \"y\", \"z\", \"p\",\"o\",\"c\"]\n",
    "lxyz_train = lxyz_train.drop(lxyz_train.index[non_index])\n",
    "lclass_train = np.delete(lclass_train, non_index, axis=0)"
   ]
  },
  {
   "cell_type": "code",
   "execution_count": 14,
   "metadata": {},
   "outputs": [
    {
     "name": "stdout",
     "output_type": "stream",
     "text": [
      "627590\n"
     ]
    }
   ],
   "source": [
    "normals_t,llambda_t,lp_t,lo_t,lc_t,non_index_t = collFeatures(pcd_test,downpcd_test.point.positions.shape[0])\n",
    "lxyz_test = np.hstack((lxyz_test,lp_t,lo_t,lc_t))\n",
    "lxyz_test = pd.DataFrame(lxyz_test)\n",
    "lxyz_test.columns = [\"x\", \"y\", \"z\", \"p\",\"o\",\"c\"]\n",
    "lxyz_test = lxyz_test.drop(lxyz_test.index[non_index_t])\n",
    "lclass_test = np.delete(lclass_test, non_index_t, axis=0)"
   ]
  },
  {
   "cell_type": "code",
   "execution_count": null,
   "metadata": {},
   "outputs": [],
   "source": [
    "lxyz_train = lxyz_train.reset_index()\n",
    "lxyz_test = lxyz_test.reset_index()"
   ]
  },
  {
   "cell_type": "code",
   "execution_count": 9,
   "metadata": {},
   "outputs": [
    {
     "ename": "KeyError",
     "evalue": "\"['index'] not found in axis\"",
     "output_type": "error",
     "traceback": [
      "\u001b[1;31m---------------------------------------------------------------------------\u001b[0m",
      "\u001b[1;31mKeyError\u001b[0m                                  Traceback (most recent call last)",
      "\u001b[1;32m~\\AppData\\Local\\Temp\\ipykernel_6872\\3589236851.py\u001b[0m in \u001b[0;36m<module>\u001b[1;34m\u001b[0m\n\u001b[1;32m----> 1\u001b[1;33m \u001b[0mlxyz_train\u001b[0m \u001b[1;33m=\u001b[0m \u001b[0mlxyz_train\u001b[0m\u001b[1;33m.\u001b[0m\u001b[0mdrop\u001b[0m\u001b[1;33m(\u001b[0m\u001b[1;34m'index'\u001b[0m\u001b[1;33m,\u001b[0m\u001b[0maxis\u001b[0m \u001b[1;33m=\u001b[0m \u001b[1;36m1\u001b[0m\u001b[1;33m)\u001b[0m\u001b[1;33m\u001b[0m\u001b[1;33m\u001b[0m\u001b[0m\n\u001b[0m\u001b[0;32m      2\u001b[0m \u001b[0mlxyz_test\u001b[0m \u001b[1;33m=\u001b[0m \u001b[0mlxyz_test\u001b[0m\u001b[1;33m.\u001b[0m\u001b[0mdrop\u001b[0m\u001b[1;33m(\u001b[0m\u001b[1;34m'index'\u001b[0m\u001b[1;33m,\u001b[0m\u001b[0maxis\u001b[0m \u001b[1;33m=\u001b[0m \u001b[1;36m1\u001b[0m\u001b[1;33m)\u001b[0m\u001b[1;33m\u001b[0m\u001b[1;33m\u001b[0m\u001b[0m\n",
      "\u001b[1;32mD:\\Anaconda\\Anaconda_py3.9\\lib\\site-packages\\pandas\\util\\_decorators.py\u001b[0m in \u001b[0;36mwrapper\u001b[1;34m(*args, **kwargs)\u001b[0m\n\u001b[0;32m    309\u001b[0m                     \u001b[0mstacklevel\u001b[0m\u001b[1;33m=\u001b[0m\u001b[0mstacklevel\u001b[0m\u001b[1;33m,\u001b[0m\u001b[1;33m\u001b[0m\u001b[1;33m\u001b[0m\u001b[0m\n\u001b[0;32m    310\u001b[0m                 )\n\u001b[1;32m--> 311\u001b[1;33m             \u001b[1;32mreturn\u001b[0m \u001b[0mfunc\u001b[0m\u001b[1;33m(\u001b[0m\u001b[1;33m*\u001b[0m\u001b[0margs\u001b[0m\u001b[1;33m,\u001b[0m \u001b[1;33m**\u001b[0m\u001b[0mkwargs\u001b[0m\u001b[1;33m)\u001b[0m\u001b[1;33m\u001b[0m\u001b[1;33m\u001b[0m\u001b[0m\n\u001b[0m\u001b[0;32m    312\u001b[0m \u001b[1;33m\u001b[0m\u001b[0m\n\u001b[0;32m    313\u001b[0m         \u001b[1;32mreturn\u001b[0m \u001b[0mwrapper\u001b[0m\u001b[1;33m\u001b[0m\u001b[1;33m\u001b[0m\u001b[0m\n",
      "\u001b[1;32mD:\\Anaconda\\Anaconda_py3.9\\lib\\site-packages\\pandas\\core\\frame.py\u001b[0m in \u001b[0;36mdrop\u001b[1;34m(self, labels, axis, index, columns, level, inplace, errors)\u001b[0m\n\u001b[0;32m   4955\u001b[0m                 \u001b[0mweight\u001b[0m  \u001b[1;36m1.0\u001b[0m     \u001b[1;36m0.8\u001b[0m\u001b[1;33m\u001b[0m\u001b[1;33m\u001b[0m\u001b[0m\n\u001b[0;32m   4956\u001b[0m         \"\"\"\n\u001b[1;32m-> 4957\u001b[1;33m         return super().drop(\n\u001b[0m\u001b[0;32m   4958\u001b[0m             \u001b[0mlabels\u001b[0m\u001b[1;33m=\u001b[0m\u001b[0mlabels\u001b[0m\u001b[1;33m,\u001b[0m\u001b[1;33m\u001b[0m\u001b[1;33m\u001b[0m\u001b[0m\n\u001b[0;32m   4959\u001b[0m             \u001b[0maxis\u001b[0m\u001b[1;33m=\u001b[0m\u001b[0maxis\u001b[0m\u001b[1;33m,\u001b[0m\u001b[1;33m\u001b[0m\u001b[1;33m\u001b[0m\u001b[0m\n",
      "\u001b[1;32mD:\\Anaconda\\Anaconda_py3.9\\lib\\site-packages\\pandas\\core\\generic.py\u001b[0m in \u001b[0;36mdrop\u001b[1;34m(self, labels, axis, index, columns, level, inplace, errors)\u001b[0m\n\u001b[0;32m   4265\u001b[0m         \u001b[1;32mfor\u001b[0m \u001b[0maxis\u001b[0m\u001b[1;33m,\u001b[0m \u001b[0mlabels\u001b[0m \u001b[1;32min\u001b[0m \u001b[0maxes\u001b[0m\u001b[1;33m.\u001b[0m\u001b[0mitems\u001b[0m\u001b[1;33m(\u001b[0m\u001b[1;33m)\u001b[0m\u001b[1;33m:\u001b[0m\u001b[1;33m\u001b[0m\u001b[1;33m\u001b[0m\u001b[0m\n\u001b[0;32m   4266\u001b[0m             \u001b[1;32mif\u001b[0m \u001b[0mlabels\u001b[0m \u001b[1;32mis\u001b[0m \u001b[1;32mnot\u001b[0m \u001b[1;32mNone\u001b[0m\u001b[1;33m:\u001b[0m\u001b[1;33m\u001b[0m\u001b[1;33m\u001b[0m\u001b[0m\n\u001b[1;32m-> 4267\u001b[1;33m                 \u001b[0mobj\u001b[0m \u001b[1;33m=\u001b[0m \u001b[0mobj\u001b[0m\u001b[1;33m.\u001b[0m\u001b[0m_drop_axis\u001b[0m\u001b[1;33m(\u001b[0m\u001b[0mlabels\u001b[0m\u001b[1;33m,\u001b[0m \u001b[0maxis\u001b[0m\u001b[1;33m,\u001b[0m \u001b[0mlevel\u001b[0m\u001b[1;33m=\u001b[0m\u001b[0mlevel\u001b[0m\u001b[1;33m,\u001b[0m \u001b[0merrors\u001b[0m\u001b[1;33m=\u001b[0m\u001b[0merrors\u001b[0m\u001b[1;33m)\u001b[0m\u001b[1;33m\u001b[0m\u001b[1;33m\u001b[0m\u001b[0m\n\u001b[0m\u001b[0;32m   4268\u001b[0m \u001b[1;33m\u001b[0m\u001b[0m\n\u001b[0;32m   4269\u001b[0m         \u001b[1;32mif\u001b[0m \u001b[0minplace\u001b[0m\u001b[1;33m:\u001b[0m\u001b[1;33m\u001b[0m\u001b[1;33m\u001b[0m\u001b[0m\n",
      "\u001b[1;32mD:\\Anaconda\\Anaconda_py3.9\\lib\\site-packages\\pandas\\core\\generic.py\u001b[0m in \u001b[0;36m_drop_axis\u001b[1;34m(self, labels, axis, level, errors, consolidate, only_slice)\u001b[0m\n\u001b[0;32m   4309\u001b[0m                 \u001b[0mnew_axis\u001b[0m \u001b[1;33m=\u001b[0m \u001b[0maxis\u001b[0m\u001b[1;33m.\u001b[0m\u001b[0mdrop\u001b[0m\u001b[1;33m(\u001b[0m\u001b[0mlabels\u001b[0m\u001b[1;33m,\u001b[0m \u001b[0mlevel\u001b[0m\u001b[1;33m=\u001b[0m\u001b[0mlevel\u001b[0m\u001b[1;33m,\u001b[0m \u001b[0merrors\u001b[0m\u001b[1;33m=\u001b[0m\u001b[0merrors\u001b[0m\u001b[1;33m)\u001b[0m\u001b[1;33m\u001b[0m\u001b[1;33m\u001b[0m\u001b[0m\n\u001b[0;32m   4310\u001b[0m             \u001b[1;32melse\u001b[0m\u001b[1;33m:\u001b[0m\u001b[1;33m\u001b[0m\u001b[1;33m\u001b[0m\u001b[0m\n\u001b[1;32m-> 4311\u001b[1;33m                 \u001b[0mnew_axis\u001b[0m \u001b[1;33m=\u001b[0m \u001b[0maxis\u001b[0m\u001b[1;33m.\u001b[0m\u001b[0mdrop\u001b[0m\u001b[1;33m(\u001b[0m\u001b[0mlabels\u001b[0m\u001b[1;33m,\u001b[0m \u001b[0merrors\u001b[0m\u001b[1;33m=\u001b[0m\u001b[0merrors\u001b[0m\u001b[1;33m)\u001b[0m\u001b[1;33m\u001b[0m\u001b[1;33m\u001b[0m\u001b[0m\n\u001b[0m\u001b[0;32m   4312\u001b[0m             \u001b[0mindexer\u001b[0m \u001b[1;33m=\u001b[0m \u001b[0maxis\u001b[0m\u001b[1;33m.\u001b[0m\u001b[0mget_indexer\u001b[0m\u001b[1;33m(\u001b[0m\u001b[0mnew_axis\u001b[0m\u001b[1;33m)\u001b[0m\u001b[1;33m\u001b[0m\u001b[1;33m\u001b[0m\u001b[0m\n\u001b[0;32m   4313\u001b[0m \u001b[1;33m\u001b[0m\u001b[0m\n",
      "\u001b[1;32mD:\\Anaconda\\Anaconda_py3.9\\lib\\site-packages\\pandas\\core\\indexes\\base.py\u001b[0m in \u001b[0;36mdrop\u001b[1;34m(self, labels, errors)\u001b[0m\n\u001b[0;32m   6659\u001b[0m         \u001b[1;32mif\u001b[0m \u001b[0mmask\u001b[0m\u001b[1;33m.\u001b[0m\u001b[0many\u001b[0m\u001b[1;33m(\u001b[0m\u001b[1;33m)\u001b[0m\u001b[1;33m:\u001b[0m\u001b[1;33m\u001b[0m\u001b[1;33m\u001b[0m\u001b[0m\n\u001b[0;32m   6660\u001b[0m             \u001b[1;32mif\u001b[0m \u001b[0merrors\u001b[0m \u001b[1;33m!=\u001b[0m \u001b[1;34m\"ignore\"\u001b[0m\u001b[1;33m:\u001b[0m\u001b[1;33m\u001b[0m\u001b[1;33m\u001b[0m\u001b[0m\n\u001b[1;32m-> 6661\u001b[1;33m                 \u001b[1;32mraise\u001b[0m \u001b[0mKeyError\u001b[0m\u001b[1;33m(\u001b[0m\u001b[1;34mf\"{list(labels[mask])} not found in axis\"\u001b[0m\u001b[1;33m)\u001b[0m\u001b[1;33m\u001b[0m\u001b[1;33m\u001b[0m\u001b[0m\n\u001b[0m\u001b[0;32m   6662\u001b[0m             \u001b[0mindexer\u001b[0m \u001b[1;33m=\u001b[0m \u001b[0mindexer\u001b[0m\u001b[1;33m[\u001b[0m\u001b[1;33m~\u001b[0m\u001b[0mmask\u001b[0m\u001b[1;33m]\u001b[0m\u001b[1;33m\u001b[0m\u001b[1;33m\u001b[0m\u001b[0m\n\u001b[0;32m   6663\u001b[0m         \u001b[1;32mreturn\u001b[0m \u001b[0mself\u001b[0m\u001b[1;33m.\u001b[0m\u001b[0mdelete\u001b[0m\u001b[1;33m(\u001b[0m\u001b[0mindexer\u001b[0m\u001b[1;33m)\u001b[0m\u001b[1;33m\u001b[0m\u001b[1;33m\u001b[0m\u001b[0m\n",
      "\u001b[1;31mKeyError\u001b[0m: \"['index'] not found in axis\""
     ]
    }
   ],
   "source": [
    "lxyz_train = lxyz_train.drop('index',axis = 1)\n",
    "lxyz_test = lxyz_test.drop('index',axis = 1)"
   ]
  },
  {
   "cell_type": "code",
   "execution_count": 10,
   "metadata": {
    "id": "h4CjUSmfzG0E"
   },
   "outputs": [],
   "source": [
    "lxyz_train = lxyz_train.drop(['o','n1','n3'],axis = 1)\n",
    "lxyz_test = lxyz_test.drop(['o','n1','n3'],axis = 1)"
   ]
  },
  {
   "cell_type": "code",
   "execution_count": 11,
   "metadata": {},
   "outputs": [],
   "source": [
    "lclass_train = pd.DataFrame(lclass_train, columns = ['cla'], dtype = int)\n",
    "lclass_test = pd.DataFrame(lclass_test, columns = ['cla'], dtype = int)"
   ]
  },
  {
   "cell_type": "code",
   "execution_count": 12,
   "metadata": {},
   "outputs": [
    {
     "name": "stdout",
     "output_type": "stream",
     "text": [
      "cla\n",
      "0      229206\n",
      "4      173727\n",
      "1      152563\n",
      "3       57049\n",
      "5       12315\n",
      "2        2721\n",
      "dtype: int64\n"
     ]
    }
   ],
   "source": [
    "print(lclass_test.value_counts())"
   ]
  },
  {
   "cell_type": "code",
   "execution_count": 13,
   "metadata": {},
   "outputs": [
    {
     "name": "stdout",
     "output_type": "stream",
     "text": [
      "         cla\n",
      "0          0\n",
      "1          0\n",
      "2          0\n",
      "3          0\n",
      "4          0\n",
      "...      ...\n",
      "1241127    4\n",
      "1241128    4\n",
      "1241129    4\n",
      "1241130    4\n",
      "1241131    4\n",
      "\n",
      "[1241132 rows x 1 columns]\n"
     ]
    }
   ],
   "source": [
    "print(lclass_train)"
   ]
  },
  {
   "cell_type": "code",
   "execution_count": 14,
   "metadata": {},
   "outputs": [
    {
     "name": "stdout",
     "output_type": "stream",
     "text": [
      "        cla\n",
      "0         4\n",
      "1         4\n",
      "2         4\n",
      "3         4\n",
      "4         4\n",
      "...     ...\n",
      "627576    4\n",
      "627577    4\n",
      "627578    4\n",
      "627579    4\n",
      "627580    4\n",
      "\n",
      "[627581 rows x 1 columns]\n"
     ]
    }
   ],
   "source": [
    "print(lclass_test)"
   ]
  },
  {
   "cell_type": "code",
   "execution_count": 15,
   "metadata": {},
   "outputs": [
    {
     "name": "stdout",
     "output_type": "stream",
     "text": [
      "                x      y      z         p         c        n2          l1  \\\n",
      "0        4.400000   5.60  11.00  0.889916  0.034776 -0.266723  342.159866   \n",
      "1        4.400000   5.65   9.80  0.862543  0.040476  0.312998  409.218574   \n",
      "2        4.400000   5.95   2.25  0.720397  0.084192 -0.639324  699.386299   \n",
      "3        4.400000   6.00   1.65  0.325332  0.142658 -0.637798  526.388947   \n",
      "4        4.400000   5.80   2.90  0.760750  0.078349 -0.641620  656.421599   \n",
      "...           ...    ...    ...       ...       ...       ...         ...   \n",
      "1241127  1.550000   6.95   7.25  0.265804  0.112716 -0.724285  463.428975   \n",
      "1241128  1.550000   7.00   7.60  0.432654  0.088374  0.413231  538.944969   \n",
      "1241129  1.550000   6.90   7.25  0.294161  0.110785 -0.764079  482.548745   \n",
      "1241130 -9.150001  11.45   7.10  0.322439  0.084484  0.505537  243.620677   \n",
      "1241131 -9.350000  11.30   5.30  0.403567  0.076126 -0.833320  363.542946   \n",
      "\n",
      "                 l2          l3  \n",
      "0        328.662887   24.169234  \n",
      "1        386.535977   33.567316  \n",
      "2        625.648929  121.813411  \n",
      "3        310.506976  139.255898  \n",
      "4        606.753640  107.381139  \n",
      "...             ...         ...  \n",
      "1241127  208.545498   85.364229  \n",
      "1241128  316.062362   82.885732  \n",
      "1241129  230.824172   88.877351  \n",
      "1241130  111.305622   32.752817  \n",
      "1241131  192.534146   45.820140  \n",
      "\n",
      "[1241132 rows x 9 columns]\n"
     ]
    }
   ],
   "source": [
    "print(lxyz_train)"
   ]
  },
  {
   "cell_type": "code",
   "execution_count": 16,
   "metadata": {},
   "outputs": [
    {
     "name": "stdout",
     "output_type": "stream",
     "text": [
      "            x          y          z         p         c        n2          l1  \\\n",
      "0       14.25  12.950000   7.150000  0.117071  0.023735 -0.053219    0.597247   \n",
      "1       14.20  12.850000  19.150000  0.074767  0.175874 -0.336146   37.389544   \n",
      "2       14.20  12.800000  19.150000  0.080304  0.159482 -0.321293   45.428023   \n",
      "3       14.20  12.950000  19.200001  0.054315  0.239675  0.410512   19.643622   \n",
      "4       14.20  12.650001  19.600000  0.124446  0.095084 -0.325949   77.393937   \n",
      "...       ...        ...        ...       ...       ...       ...         ...   \n",
      "627576 -13.80 -12.100000   1.600000  0.162190  0.073496 -0.452860  135.986943   \n",
      "627577 -13.80 -12.150001   1.600000  0.157458  0.084224 -0.484578  147.155325   \n",
      "627578 -13.80 -11.950000   1.550000  0.274379  0.031064 -0.297292   67.232417   \n",
      "627579 -13.85 -12.050000   1.600000  0.167637  0.058562 -0.437825  111.238593   \n",
      "627580 -13.85 -11.750000   1.600000  0.333941  0.008600 -0.000719   34.163937   \n",
      "\n",
      "               l2         l3  \n",
      "0        0.086545   0.016625  \n",
      "1       13.697890  10.902380  \n",
      "2       15.140520  11.492457  \n",
      "3       10.600784   9.533844  \n",
      "4       19.849186  10.217811  \n",
      "...           ...        ...  \n",
      "627576  35.672947  13.617187  \n",
      "627577  40.422470  17.251619  \n",
      "627578  21.285030   2.837838  \n",
      "627579  27.263077   8.615416  \n",
      "627580  11.807541   0.398784  \n",
      "\n",
      "[627581 rows x 9 columns]\n"
     ]
    }
   ],
   "source": [
    "print(lxyz_test)"
   ]
  },
  {
   "cell_type": "code",
   "execution_count": 17,
   "metadata": {},
   "outputs": [],
   "source": [
    "train_temp = lxyz_train\n",
    "test_temp = lxyz_test"
   ]
  },
  {
   "cell_type": "markdown",
   "metadata": {
    "tags": []
   },
   "source": [
    "# Data Spilt"
   ]
  },
  {
   "cell_type": "code",
   "execution_count": 18,
   "metadata": {},
   "outputs": [],
   "source": [
    "lxyz_train = pd.concat([lxyz_train, lclass_train], axis = 1)\n",
    "lxyz_test = pd.concat([lxyz_test, lclass_test], axis = 1)\n",
    "# print(lxyz_test.cla.value_counts())"
   ]
  },
  {
   "cell_type": "code",
   "execution_count": 19,
   "metadata": {},
   "outputs": [
    {
     "name": "stdout",
     "output_type": "stream",
     "text": [
      "                x      y      z         p         c        n2          l1  \\\n",
      "0        4.400000   5.60  11.00  0.889916  0.034776 -0.266723  342.159866   \n",
      "1        4.400000   5.65   9.80  0.862543  0.040476  0.312998  409.218574   \n",
      "2        4.400000   5.95   2.25  0.720397  0.084192 -0.639324  699.386299   \n",
      "3        4.400000   6.00   1.65  0.325332  0.142658 -0.637798  526.388947   \n",
      "4        4.400000   5.80   2.90  0.760750  0.078349 -0.641620  656.421599   \n",
      "...           ...    ...    ...       ...       ...       ...         ...   \n",
      "1241127  1.550000   6.95   7.25  0.265804  0.112716 -0.724285  463.428975   \n",
      "1241128  1.550000   7.00   7.60  0.432654  0.088374  0.413231  538.944969   \n",
      "1241129  1.550000   6.90   7.25  0.294161  0.110785 -0.764079  482.548745   \n",
      "1241130 -9.150001  11.45   7.10  0.322439  0.084484  0.505537  243.620677   \n",
      "1241131 -9.350000  11.30   5.30  0.403567  0.076126 -0.833320  363.542946   \n",
      "\n",
      "                 l2          l3  cla  \n",
      "0        328.662887   24.169234    0  \n",
      "1        386.535977   33.567316    0  \n",
      "2        625.648929  121.813411    0  \n",
      "3        310.506976  139.255898    0  \n",
      "4        606.753640  107.381139    0  \n",
      "...             ...         ...  ...  \n",
      "1241127  208.545498   85.364229    4  \n",
      "1241128  316.062362   82.885732    4  \n",
      "1241129  230.824172   88.877351    4  \n",
      "1241130  111.305622   32.752817    4  \n",
      "1241131  192.534146   45.820140    4  \n",
      "\n",
      "[1241132 rows x 10 columns]\n",
      "            x          y          z         p         c        n2          l1  \\\n",
      "0       14.25  12.950000   7.150000  0.117071  0.023735 -0.053219    0.597247   \n",
      "1       14.20  12.850000  19.150000  0.074767  0.175874 -0.336146   37.389544   \n",
      "2       14.20  12.800000  19.150000  0.080304  0.159482 -0.321293   45.428023   \n",
      "3       14.20  12.950000  19.200001  0.054315  0.239675  0.410512   19.643622   \n",
      "4       14.20  12.650001  19.600000  0.124446  0.095084 -0.325949   77.393937   \n",
      "...       ...        ...        ...       ...       ...       ...         ...   \n",
      "627576 -13.80 -12.100000   1.600000  0.162190  0.073496 -0.452860  135.986943   \n",
      "627577 -13.80 -12.150001   1.600000  0.157458  0.084224 -0.484578  147.155325   \n",
      "627578 -13.80 -11.950000   1.550000  0.274379  0.031064 -0.297292   67.232417   \n",
      "627579 -13.85 -12.050000   1.600000  0.167637  0.058562 -0.437825  111.238593   \n",
      "627580 -13.85 -11.750000   1.600000  0.333941  0.008600 -0.000719   34.163937   \n",
      "\n",
      "               l2         l3  cla  \n",
      "0        0.086545   0.016625    4  \n",
      "1       13.697890  10.902380    4  \n",
      "2       15.140520  11.492457    4  \n",
      "3       10.600784   9.533844    4  \n",
      "4       19.849186  10.217811    4  \n",
      "...           ...        ...  ...  \n",
      "627576  35.672947  13.617187    4  \n",
      "627577  40.422470  17.251619    4  \n",
      "627578  21.285030   2.837838    4  \n",
      "627579  27.263077   8.615416    4  \n",
      "627580  11.807541   0.398784    4  \n",
      "\n",
      "[627581 rows x 10 columns]\n"
     ]
    }
   ],
   "source": [
    "print(lxyz_train)\n",
    "print(lxyz_test)"
   ]
  },
  {
   "cell_type": "code",
   "execution_count": 20,
   "metadata": {
    "colab": {
     "base_uri": "https://localhost:8080/"
    },
    "executionInfo": {
     "elapsed": 2139,
     "status": "ok",
     "timestamp": 1674079754823,
     "user": {
      "displayName": "SUKIDA Tan",
      "userId": "04234593673225449814"
     },
     "user_tz": -60
    },
    "id": "ey4Eh_U10ET5",
    "outputId": "d4aedcb5-0aef-465c-b3ce-f0fd69af7890"
   },
   "outputs": [
    {
     "name": "stdout",
     "output_type": "stream",
     "text": [
      "492\n",
      "132\n",
      "102\n",
      "283\n",
      "186\n",
      "14\n",
      "0    503808\n",
      "4    289792\n",
      "1    190464\n",
      "3    135168\n",
      "5    104448\n",
      "2     14336\n",
      "Name: cla, dtype: int64\n",
      "---------\n",
      "169\n",
      "148\n",
      "223\n",
      "55\n",
      "2\n",
      "12\n"
     ]
    }
   ],
   "source": [
    "def spilt_data(lxyz):\n",
    "  class_uniques = lxyz['cla'].unique() #把一列所有取值提出来成为一个Array \n",
    "  re = []\n",
    "  for column in class_uniques:\n",
    "    temp_data = lxyz[lxyz['cla'].isin([column])] #按照列的某个值取一个dataframe\n",
    "    batch_num = int(len(temp_data)/1024)\n",
    "    print(batch_num)\n",
    "    temp_data = temp_data[0:batch_num*1024]\n",
    "    re.append(temp_data)\n",
    "  re = pd.concat(re)\n",
    "  return re\n",
    "\n",
    "lxyz_train = spilt_data(lxyz_train)\n",
    "print(lxyz_train.cla.value_counts())\n",
    "print('---------')\n",
    "lxyz_test = spilt_data(lxyz_test)"
   ]
  },
  {
   "cell_type": "code",
   "execution_count": 21,
   "metadata": {},
   "outputs": [
    {
     "name": "stdout",
     "output_type": "stream",
     "text": [
      "            x     y      z         p         c        n2          l1  \\\n",
      "0         4.4  5.60  11.00  0.889916  0.034776 -0.266723  342.159866   \n",
      "1         4.4  5.65   9.80  0.862543  0.040476  0.312998  409.218574   \n",
      "2         4.4  5.95   2.25  0.720397  0.084192 -0.639324  699.386299   \n",
      "3         4.4  6.00   1.65  0.325332  0.142658 -0.637798  526.388947   \n",
      "4         4.4  5.80   2.90  0.760750  0.078349 -0.641620  656.421599   \n",
      "...       ...   ...    ...       ...       ...       ...         ...   \n",
      "1151087  11.5  2.45   4.55  0.798601  0.068831 -0.215826  596.338666   \n",
      "1151088  11.5  2.40   5.20  0.678733  0.079641 -0.311444  547.080619   \n",
      "1151089  11.5  2.40   5.00  0.785096  0.071152 -0.283920  551.845218   \n",
      "1151090  11.5  2.55   4.30  0.752454  0.066457 -0.021658  673.109075   \n",
      "1151091  11.5  2.35   4.05  0.756954  0.076652  0.780843  512.283560   \n",
      "\n",
      "                 l2          l3  cla  \n",
      "0        328.662887   24.169234    0  \n",
      "1        386.535977   33.567316    0  \n",
      "2        625.648929  121.813411    0  \n",
      "3        310.506976  139.255898    0  \n",
      "4        606.753640  107.381139    0  \n",
      "...             ...         ...  ...  \n",
      "1151087  561.848995   85.612561    2  \n",
      "1151088  458.321528   86.999842    2  \n",
      "1151089  514.972739   81.721398    2  \n",
      "1151090  596.892890   90.409336    2  \n",
      "1151091  469.257705   81.482467    2  \n",
      "\n",
      "[1238016 rows x 10 columns]\n",
      "                x          y          z         p         c        n2  \\\n",
      "0       14.250000  12.950000   7.150000  0.117071  0.023735 -0.053219   \n",
      "1       14.200000  12.850000  19.150000  0.074767  0.175874 -0.336146   \n",
      "2       14.200000  12.800000  19.150000  0.080304  0.159482 -0.321293   \n",
      "3       14.200000  12.950000  19.200001  0.054315  0.239675  0.410512   \n",
      "4       14.200000  12.650001  19.600000  0.124446  0.095084 -0.325949   \n",
      "...           ...        ...        ...       ...       ...       ...   \n",
      "612141 -13.600000 -11.900001   1.600000  0.352827  0.028754 -0.243327   \n",
      "612142 -13.650001 -11.650001   1.550000  0.340780  0.008289  0.014614   \n",
      "612143 -13.650001 -11.400001   1.600000  0.329023  0.005207 -0.259251   \n",
      "612144 -13.650001 -11.550000   1.550000  0.337919  0.007157  0.097124   \n",
      "612145 -13.650001 -11.550000   1.650000  0.337019  0.007423  0.094246   \n",
      "\n",
      "               l1         l2         l3  cla  \n",
      "0        0.597247   0.086545   0.016625    4  \n",
      "1       37.389544  13.697890  10.902380    4  \n",
      "2       45.428023  15.140520  11.492457    4  \n",
      "3       19.643622  10.600784   9.533844    4  \n",
      "4       77.393937  19.849186  10.217811    4  \n",
      "...           ...        ...        ...  ...  \n",
      "612141  89.751260  35.370910   3.704254    5  \n",
      "612142  55.218155  19.441260   0.624004    5  \n",
      "612143  47.571085  15.984656   0.332688    5  \n",
      "612144  54.154265  18.825894   0.526119    5  \n",
      "612145  54.373224  18.872593   0.547777    5  \n",
      "\n",
      "[623616 rows x 10 columns]\n"
     ]
    }
   ],
   "source": [
    "print(lxyz_train)\n",
    "print(lxyz_test)"
   ]
  },
  {
   "cell_type": "markdown",
   "metadata": {
    "id": "sSRH6VAGf7Xw",
    "tags": []
   },
   "source": [
    "# Dataset Preparation\n"
   ]
  },
  {
   "cell_type": "code",
   "execution_count": 24,
   "metadata": {
    "executionInfo": {
     "elapsed": 77,
     "status": "ok",
     "timestamp": 1674079787517,
     "user": {
      "displayName": "SUKIDA Tan",
      "userId": "04234593673225449814"
     },
     "user_tz": -60
    },
    "id": "n23Bk90QSKqq"
   },
   "outputs": [],
   "source": [
    "class ToTensor(object):\n",
    "    def __call__(self, pointcloud):\n",
    "        assert len(pointcloud.shape)==2\n",
    "        pointcloud = pointcloud.to_numpy()\n",
    "        return torch.from_numpy(pointcloud)"
   ]
  },
  {
   "cell_type": "code",
   "execution_count": 23,
   "metadata": {},
   "outputs": [],
   "source": [
    "class Normalize(object):\n",
    "    def __call__(self, pointcloud):\n",
    "        assert len(pointcloud.shape)==2\n",
    "        \n",
    "        pointcloud = pointcloud.to_numpy()\n",
    "        \n",
    "        norm_pointcloud = pointcloud - np.mean(pointcloud, axis=0) \n",
    "        norm_pointcloud /= np.max(np.linalg.norm(norm_pointcloud, axis=1))\n",
    "        norm_pointcloud[:,6] = pointcloud[:,6]\n",
    "\n",
    "        return  norm_pointcloud"
   ]
  },
  {
   "cell_type": "code",
   "execution_count": 25,
   "metadata": {
    "executionInfo": {
     "elapsed": 77,
     "status": "ok",
     "timestamp": 1674079787518,
     "user": {
      "displayName": "SUKIDA Tan",
      "userId": "04234593673225449814"
     },
     "user_tz": -60
    },
    "id": "JYsFkTHqfLRp"
   },
   "outputs": [],
   "source": [
    "def default_transforms():\n",
    "    return transforms.Compose([\n",
    "#                                Normalize(),\n",
    "                                ToTensor()\n",
    "                              ])"
   ]
  },
  {
   "cell_type": "code",
   "execution_count": 26,
   "metadata": {
    "colab": {
     "base_uri": "https://localhost:8080/"
    },
    "executionInfo": {
     "elapsed": 885,
     "status": "ok",
     "timestamp": 1674079788327,
     "user": {
      "displayName": "SUKIDA Tan",
      "userId": "04234593673225449814"
     },
     "user_tz": -60
    },
    "id": "Z-Ur3QdPfLX1",
    "outputId": "a7977d44-a242-4069-d2be-eb22720ec8bd"
   },
   "outputs": [
    {
     "name": "stdout",
     "output_type": "stream",
     "text": [
      "1238016\n",
      "623616\n",
      "609\n",
      "1209\n",
      "609\n",
      "type of :  torch.Size([1024, 10])\n",
      "tensor([[1.2000e+01, 1.5350e+01, 1.9900e+01,  ..., 1.0401e+00, 4.8924e-01,\n",
      "         4.0000e+00],\n",
      "        [1.2000e+01, 1.3100e+01, 9.1500e+00,  ..., 2.7729e+00, 6.1714e-02,\n",
      "         4.0000e+00],\n",
      "        [1.2000e+01, 1.4950e+01, 1.2550e+01,  ..., 3.3502e+01, 6.5416e+00,\n",
      "         4.0000e+00],\n",
      "        ...,\n",
      "        [1.1450e+01, 1.3950e+01, 1.6450e+01,  ..., 1.5466e+02, 8.1289e+01,\n",
      "         4.0000e+00],\n",
      "        [1.1450e+01, 1.3950e+01, 1.6800e+01,  ..., 1.5215e+02, 7.8337e+01,\n",
      "         4.0000e+00],\n",
      "        [1.1450e+01, 1.3750e+01, 1.6250e+01,  ..., 1.3917e+02, 1.0502e+02,\n",
      "         4.0000e+00]], dtype=torch.float64)\n"
     ]
    }
   ],
   "source": [
    "train_transforms = default_transforms()\n",
    "batch_num_test = int(len(lxyz_test)/1024)\n",
    "batch_num_train = int(len(lxyz_train)/1024)\n",
    "_train = lxyz_train[0:(1024*batch_num_train)]\n",
    "_test = lxyz_test[0:(1024*batch_num_test)]\n",
    "print(len(_train))\n",
    "print(len(_test))\n",
    "print(batch_num_test)\n",
    "print(batch_num_train)\n",
    "\n",
    "data_test_temp = np.split(_test,batch_num_test)\n",
    "data_train_temp = np.split(_train,batch_num_train)\n",
    "\n",
    "data_test = [ train_transforms(test) for test in data_test_temp]\n",
    "data_train = [ train_transforms(train) for train in data_train_temp]\n",
    "\n",
    "print(len(data_test))\n",
    "print('type of : ', data_test[2].size())\n",
    "print(data_test[2])"
   ]
  },
  {
   "cell_type": "code",
   "execution_count": 27,
   "metadata": {},
   "outputs": [
    {
     "name": "stdout",
     "output_type": "stream",
     "text": [
      "1209\n",
      "906\n",
      "303\n"
     ]
    }
   ],
   "source": [
    "len_total = len(data_train)\n",
    "print(len_total)\n",
    "train_size = int(len_total*0.75)\n",
    "test_size = len_total - train_size\n",
    "print(train_size)\n",
    "print(test_size)"
   ]
  },
  {
   "cell_type": "code",
   "execution_count": 28,
   "metadata": {},
   "outputs": [
    {
     "name": "stdout",
     "output_type": "stream",
     "text": [
      "303\n",
      "type of :  torch.Size([1024, 10])\n",
      "tensor([[-15.0500,  -1.3500,  15.9000,  ..., 124.3562,  88.3962,   0.0000],\n",
      "        [-15.0500,  -1.7500,  14.8000,  ..., 205.5914,   8.6074,   0.0000],\n",
      "        [-15.0500,  -1.8500,  19.6500,  ..., 208.9167,   8.4609,   0.0000],\n",
      "        ...,\n",
      "        [-15.2000,  -1.7000,  15.8000,  ..., 167.2303,  42.5687,   0.0000],\n",
      "        [-15.2000,  -1.8000,  19.6000,  ..., 211.6272,   7.8379,   0.0000],\n",
      "        [-15.2000,  -1.5000,  16.7000,  ..., 187.6553,  76.4860,   0.0000]],\n",
      "       dtype=torch.float64)\n"
     ]
    }
   ],
   "source": [
    "data_train, data_valid = torch.utils.data.random_split(data_train, [train_size, test_size])\n",
    "print(len(data_valid))\n",
    "print('type of : ', data_valid[2].size())\n",
    "print(data_valid[2])"
   ]
  },
  {
   "cell_type": "code",
   "execution_count": 29,
   "metadata": {
    "executionInfo": {
     "elapsed": 65,
     "status": "ok",
     "timestamp": 1674079788359,
     "user": {
      "displayName": "SUKIDA Tan",
      "userId": "04234593673225449814"
     },
     "user_tz": -60
    },
    "id": "hNZb5f-K1lrh"
   },
   "outputs": [],
   "source": [
    "train_loader = DataLoader(dataset=data_train, batch_size=32, shuffle=True)\n",
    "valid_loader = DataLoader(dataset=data_valid, batch_size=32)\n",
    "test_loader = DataLoader(dataset=data_test, batch_size = 32)"
   ]
  },
  {
   "cell_type": "markdown",
   "metadata": {
    "id": "N0FRlJOh2EuO"
   },
   "source": [
    "# Model Description"
   ]
  },
  {
   "cell_type": "code",
   "execution_count": 38,
   "metadata": {
    "executionInfo": {
     "elapsed": 1042,
     "status": "ok",
     "timestamp": 1674079810838,
     "user": {
      "displayName": "SUKIDA Tan",
      "userId": "04234593673225449814"
     },
     "user_tz": -60
    },
    "id": "6A7mwh0Y2MxG"
   },
   "outputs": [],
   "source": [
    "import torch\n",
    "import torch.nn as nn\n",
    "import numpy as np\n",
    "import torch.nn.functional as F\n",
    "\n",
    "class Tnet(nn.Module):\n",
    "   def __init__(self, k=6):\n",
    "      super().__init__()\n",
    "      self.k=k\n",
    "      self.conv1 = nn.Conv1d(k,64,1)\n",
    "      self.conv2 = nn.Conv1d(64,128,1)\n",
    "      self.conv3 = nn.Conv1d(128,1024,1)\n",
    "      self.fc1 = nn.Linear(1024,512)\n",
    "      self.fc2 = nn.Linear(512,256)\n",
    "      self.fc3 = nn.Linear(256,k*k)\n",
    "\n",
    "      self.bn1 = nn.BatchNorm1d(64)\n",
    "      self.bn2 = nn.BatchNorm1d(128)\n",
    "      self.bn3 = nn.BatchNorm1d(1024)\n",
    "      self.bn4 = nn.BatchNorm1d(512)\n",
    "      self.bn5 = nn.BatchNorm1d(256)\n",
    "       \n",
    "\n",
    "   def forward(self, input):\n",
    "      # input.shape == (bs,n,3)\n",
    "      bs = input.size(0)\n",
    "      xb = F.relu(self.bn1(self.conv1(input)))\n",
    "      xb = F.relu(self.bn2(self.conv2(xb)))\n",
    "      xb = F.relu(self.bn3(self.conv3(xb)))\n",
    "      pool = nn.MaxPool1d(xb.size(-1))(xb)\n",
    "      flat = nn.Flatten(1)(pool)\n",
    "      xb = F.relu(self.bn4(self.fc1(flat)))\n",
    "      xb = F.relu(self.bn5(self.fc2(xb)))\n",
    "      \n",
    "      #initialize as identity\n",
    "      init = torch.eye(self.k, requires_grad=True).repeat(bs,1,1)\n",
    "      if xb.is_cuda:\n",
    "        init=init.cuda()\n",
    "      matrix = self.fc3(xb).view(-1,self.k,self.k) + init\n",
    "      return matrix\n",
    "\n",
    "\n",
    "class Transform(nn.Module):\n",
    "   def __init__(self):\n",
    "        super().__init__()\n",
    "        self.input_transform = Tnet(k=9)\n",
    "        self.feature_transform = Tnet(k=64)\n",
    "        self.conv1 = nn.Conv1d(9,64,1)\n",
    "\n",
    "        self.conv2 = nn.Conv1d(64,128,1)\n",
    "        self.conv3 = nn.Conv1d(128,1024,1)\n",
    "       \n",
    "\n",
    "        self.bn1 = nn.BatchNorm1d(64)\n",
    "        self.bn2 = nn.BatchNorm1d(128)\n",
    "        self.bn3 = nn.BatchNorm1d(1024)\n",
    "       \n",
    "   def forward(self, input):\n",
    "        matrix3x3 = self.input_transform(input)\n",
    "        # batch matrix multiplication\n",
    "        xb = torch.bmm(torch.transpose(input,1,2), matrix3x3).transpose(1,2)\n",
    "\n",
    "        xb = F.relu(self.bn1(self.conv1(xb)))\n",
    "\n",
    "        matrix64x64 = self.feature_transform(xb)\n",
    "        xb = torch.bmm(torch.transpose(xb,1,2), matrix64x64).transpose(1,2)\n",
    "\n",
    "        xb = F.relu(self.bn2(self.conv2(xb)))\n",
    "        xb = self.bn3(self.conv3(xb))\n",
    "        xb = nn.MaxPool1d(xb.size(-1))(xb)\n",
    "        output = nn.Flatten(1)(xb)\n",
    "        return output, matrix3x3, matrix64x64\n",
    "\n",
    "class PointNet(nn.Module):\n",
    "    def __init__(self, classes = 6):\n",
    "        super().__init__()\n",
    "        self.transform = Transform()\n",
    "        self.fc1 = nn.Linear(1024, 512)\n",
    "        self.fc2 = nn.Linear(512, 256)\n",
    "        self.fc3 = nn.Linear(256, classes)\n",
    "        \n",
    "\n",
    "        self.bn1 = nn.BatchNorm1d(512)\n",
    "        self.bn2 = nn.BatchNorm1d(256)\n",
    "        self.dropout = nn.Dropout(p=0.3)\n",
    "        self.logsoftmax = nn.LogSoftmax(dim=1)\n",
    "\n",
    "    def forward(self, input):\n",
    "        xb, matrix3x3, matrix64x64 = self.transform(input)\n",
    "        xb = F.relu(self.bn1(self.fc1(xb)))\n",
    "        xb = F.relu(self.bn2(self.dropout(self.fc2(xb))))\n",
    "        output = self.fc3(xb)\n",
    "        return self.logsoftmax(output), matrix3x3, matrix64x64"
   ]
  },
  {
   "cell_type": "code",
   "execution_count": 40,
   "metadata": {
    "executionInfo": {
     "elapsed": 3,
     "status": "ok",
     "timestamp": 1674079811212,
     "user": {
      "displayName": "SUKIDA Tan",
      "userId": "04234593673225449814"
     },
     "user_tz": -60
    },
    "id": "tk40ioL62S8Z"
   },
   "outputs": [],
   "source": [
    "def pointnetloss(outputs, labels, m3x3, m64x64, alpha = 0.0001):\n",
    "    criterion = torch.nn.NLLLoss()\n",
    "    bs=outputs.size(0)\n",
    "    id3x3 = torch.eye(9, requires_grad=True).repeat(bs,1,1)\n",
    "    id64x64 = torch.eye(64, requires_grad=True).repeat(bs,1,1)\n",
    "    if outputs.is_cuda:\n",
    "        id3x3=id3x3.cuda()\n",
    "        id64x64=id64x64.cuda()\n",
    "    diff3x3 = id3x3-torch.bmm(m3x3,m3x3.transpose(1,2))\n",
    "    diff64x64 = id64x64-torch.bmm(m64x64,m64x64.transpose(1,2))\n",
    "    return criterion(outputs, labels) + alpha * (torch.norm(diff3x3)+torch.norm(diff64x64)) / float(bs)"
   ]
  },
  {
   "cell_type": "code",
   "execution_count": 41,
   "metadata": {},
   "outputs": [],
   "source": [
    "CUDA_LAUNCH_BLOCKING=\"1\""
   ]
  },
  {
   "cell_type": "markdown",
   "metadata": {
    "id": "GnM8yu2G2XVF"
   },
   "source": [
    "# Training\n"
   ]
  },
  {
   "cell_type": "code",
   "execution_count": 42,
   "metadata": {
    "colab": {
     "base_uri": "https://localhost:8080/"
    },
    "executionInfo": {
     "elapsed": 290,
     "status": "ok",
     "timestamp": 1674079813770,
     "user": {
      "displayName": "SUKIDA Tan",
      "userId": "04234593673225449814"
     },
     "user_tz": -60
    },
    "id": "v2_wk24U2cc-",
    "outputId": "cc19c979-2e04-4161-cafd-b53c425b0a71"
   },
   "outputs": [
    {
     "name": "stdout",
     "output_type": "stream",
     "text": [
      "cuda:0\n"
     ]
    }
   ],
   "source": [
    "device = torch.device(\"cuda:0\" if torch.cuda.is_available() else \"cpu\")\n",
    "print(device)"
   ]
  },
  {
   "cell_type": "code",
   "execution_count": 82,
   "metadata": {},
   "outputs": [
    {
     "name": "stdout",
     "output_type": "stream",
     "text": [
      "cpu\n"
     ]
    }
   ],
   "source": [
    "device = torch.device('cpu')\n",
    "print(device)"
   ]
  },
  {
   "cell_type": "code",
   "execution_count": 47,
   "metadata": {
    "executionInfo": {
     "elapsed": 288,
     "status": "ok",
     "timestamp": 1674079815619,
     "user": {
      "displayName": "SUKIDA Tan",
      "userId": "04234593673225449814"
     },
     "user_tz": -60
    },
    "id": "WCfbQ4CZ2hV5"
   },
   "outputs": [],
   "source": [
    "pointnet = PointNet()\n",
    "pointnet.to(device);"
   ]
  },
  {
   "cell_type": "code",
   "execution_count": 48,
   "metadata": {
    "executionInfo": {
     "elapsed": 323,
     "status": "ok",
     "timestamp": 1674079817589,
     "user": {
      "displayName": "SUKIDA Tan",
      "userId": "04234593673225449814"
     },
     "user_tz": -60
    },
    "id": "E8eYqor2Vk1w"
   },
   "outputs": [],
   "source": [
    "optimizer = torch.optim.Adam(pointnet.parameters(), lr=0.001)"
   ]
  },
  {
   "cell_type": "code",
   "execution_count": 50,
   "metadata": {
    "executionInfo": {
     "elapsed": 288,
     "status": "ok",
     "timestamp": 1674079819088,
     "user": {
      "displayName": "SUKIDA Tan",
      "userId": "04234593673225449814"
     },
     "user_tz": -60
    },
    "id": "XLE6uDz2VfGd"
   },
   "outputs": [],
   "source": [
    "def train(model, train_loader, val_loader=None,  epochs=10, save=True):\n",
    "    for epoch in range(epochs): \n",
    "        pointnet.train()\n",
    "        running_loss = 0.0\n",
    "        for i, data in enumerate(train_loader, 0):\n",
    "            labels = data[:,1,9]\n",
    "            labels = labels.type(torch.LongTensor) \n",
    "            inputs, labels = data[:,:,0:9].to(device).float(), labels.to(device)\n",
    "            optimizer.zero_grad()\n",
    "            outputs, m3x3, m64x64 = pointnet(inputs.transpose(1,2))\n",
    "\n",
    "            loss = pointnetloss(outputs, labels, m3x3, m64x64)\n",
    "            loss.backward()\n",
    "            optimizer.step()\n",
    "\n",
    "            # print statistics\n",
    "            running_loss += loss.item()\n",
    "            if i % 10 == 9:    # print every 10 mini-batches\n",
    "                    print('[Epoch: %d, Batch: %4d / %4d], loss: %.3f' %\n",
    "                        (epoch + 1, i + 1, len(train_loader), running_loss / 10))\n",
    "                    running_loss = 0.0\n",
    "\n",
    "        pointnet.eval()\n",
    "        correct = total = 0\n",
    "\n",
    "        # validation\n",
    "        if val_loader:\n",
    "            with torch.no_grad():\n",
    "                for data in val_loader:\n",
    "                    labels = data[:,1,9]\n",
    "                    labels = labels.type(torch.LongTensor) \n",
    "                    inputs, labels = data[:,:,0:9].to(device).float(), labels.to(device)\n",
    "                    outputs, __, __ = pointnet(inputs.transpose(1,2))\n",
    "                    _, predicted = torch.max(outputs.data, 1)\n",
    "                    total += labels.size(0)\n",
    "                    correct += (predicted == labels).sum().item()\n",
    "            val_acc = 100. * correct / total\n",
    "            print('Valid accuracy: %d %%' % val_acc)\n",
    "\n",
    "        # save the model\n",
    "        if save:\n",
    "            torch.save(pointnet.state_dict(), \"save_\"+str(epoch)+\".pth\")"
   ]
  },
  {
   "cell_type": "code",
   "execution_count": 51,
   "metadata": {
    "colab": {
     "base_uri": "https://localhost:8080/"
    },
    "executionInfo": {
     "elapsed": 5476095,
     "status": "ok",
     "timestamp": 1674085297893,
     "user": {
      "displayName": "SUKIDA Tan",
      "userId": "04234593673225449814"
     },
     "user_tz": -60
    },
    "id": "EOYHr6IW2Qsh",
    "outputId": "703e8b98-e753-43bc-c3b8-ea719bf8ffff"
   },
   "outputs": [
    {
     "name": "stdout",
     "output_type": "stream",
     "text": [
      "[Epoch: 1, Batch:   10 /   29], loss: 1.275\n",
      "[Epoch: 1, Batch:   20 /   29], loss: 0.690\n",
      "Valid accuracy: 48 %\n",
      "[Epoch: 2, Batch:   10 /   29], loss: 0.655\n",
      "[Epoch: 2, Batch:   20 /   29], loss: 0.559\n",
      "Valid accuracy: 83 %\n",
      "[Epoch: 3, Batch:   10 /   29], loss: 0.426\n",
      "[Epoch: 3, Batch:   20 /   29], loss: 0.430\n",
      "Valid accuracy: 85 %\n",
      "[Epoch: 4, Batch:   10 /   29], loss: 0.397\n",
      "[Epoch: 4, Batch:   20 /   29], loss: 0.326\n",
      "Valid accuracy: 93 %\n",
      "[Epoch: 5, Batch:   10 /   29], loss: 0.307\n",
      "[Epoch: 5, Batch:   20 /   29], loss: 0.386\n",
      "Valid accuracy: 82 %\n",
      "[Epoch: 6, Batch:   10 /   29], loss: 0.292\n",
      "[Epoch: 6, Batch:   20 /   29], loss: 0.272\n",
      "Valid accuracy: 93 %\n",
      "[Epoch: 7, Batch:   10 /   29], loss: 0.303\n",
      "[Epoch: 7, Batch:   20 /   29], loss: 0.184\n",
      "Valid accuracy: 91 %\n",
      "[Epoch: 8, Batch:   10 /   29], loss: 0.176\n",
      "[Epoch: 8, Batch:   20 /   29], loss: 0.177\n",
      "Valid accuracy: 97 %\n",
      "[Epoch: 9, Batch:   10 /   29], loss: 0.174\n",
      "[Epoch: 9, Batch:   20 /   29], loss: 0.217\n",
      "Valid accuracy: 93 %\n",
      "[Epoch: 10, Batch:   10 /   29], loss: 0.265\n",
      "[Epoch: 10, Batch:   20 /   29], loss: 0.208\n",
      "Valid accuracy: 87 %\n"
     ]
    }
   ],
   "source": [
    "train(pointnet, train_loader, valid_loader,  save=False)"
   ]
  },
  {
   "cell_type": "code",
   "execution_count": 52,
   "metadata": {
    "executionInfo": {
     "elapsed": 622,
     "status": "ok",
     "timestamp": 1674085420833,
     "user": {
      "displayName": "SUKIDA Tan",
      "userId": "04234593673225449814"
     },
     "user_tz": -60
    },
    "id": "1o3jIgZ5CbdH"
   },
   "outputs": [],
   "source": [
    "torch.save(pointnet.state_dict(), \"best_model_p_xyzgf_sd.pth\")"
   ]
  },
  {
   "cell_type": "markdown",
   "metadata": {
    "id": "rdIlrnXh2UX9"
   },
   "source": [
    "# Test"
   ]
  },
  {
   "cell_type": "code",
   "execution_count": 53,
   "metadata": {
    "executionInfo": {
     "elapsed": 269,
     "status": "ok",
     "timestamp": 1674085428035,
     "user": {
      "displayName": "SUKIDA Tan",
      "userId": "04234593673225449814"
     },
     "user_tz": -60
    },
    "id": "mNefMkzH2Wvw"
   },
   "outputs": [],
   "source": [
    "from sklearn.metrics import confusion_matrix"
   ]
  },
  {
   "cell_type": "code",
   "execution_count": 54,
   "metadata": {
    "id": "h2u-0bwC2X_Y"
   },
   "outputs": [],
   "source": [
    "pointnet = PointNet()\n",
    "pointnet.load_state_dict(torch.load('best_model_p_xyzgf_sd.pth'))\n",
    "pointnet.eval();"
   ]
  },
  {
   "cell_type": "code",
   "execution_count": 55,
   "metadata": {
    "colab": {
     "base_uri": "https://localhost:8080/"
    },
    "executionInfo": {
     "elapsed": 36922,
     "status": "ok",
     "timestamp": 1674085593013,
     "user": {
      "displayName": "SUKIDA Tan",
      "userId": "04234593673225449814"
     },
     "user_tz": -60
    },
    "id": "5MD2tiRU2bPd",
    "outputId": "bd75c1bb-077e-453f-f581-dc0732238d88"
   },
   "outputs": [
    {
     "name": "stdout",
     "output_type": "stream",
     "text": [
      "Batch [   1 /   20]\n",
      "Batch [   2 /   20]\n",
      "Batch [   3 /   20]\n",
      "Batch [   4 /   20]\n",
      "Batch [   5 /   20]\n",
      "Batch [   6 /   20]\n",
      "Batch [   7 /   20]\n",
      "Batch [   8 /   20]\n",
      "Batch [   9 /   20]\n",
      "Batch [  10 /   20]\n",
      "Batch [  11 /   20]\n",
      "Batch [  12 /   20]\n",
      "Batch [  13 /   20]\n",
      "Batch [  14 /   20]\n",
      "Batch [  15 /   20]\n",
      "Batch [  16 /   20]\n",
      "Batch [  17 /   20]\n",
      "Batch [  18 /   20]\n",
      "Batch [  19 /   20]\n",
      "Batch [  20 /   20]\n"
     ]
    }
   ],
   "source": [
    "all_preds = []\n",
    "all_labels = []\n",
    "with torch.no_grad():\n",
    "    for i, data in enumerate(test_loader):\n",
    "        print('Batch [%4d / %4d]' % (i+1, len(test_loader)))\n",
    "                   \n",
    "        labels = data[:,1,9]\n",
    "        labels = labels.type(torch.LongTensor) \n",
    "        inputs, labels = data[:,:,0:9].float(), labels\n",
    "        outputs, __, __ = pointnet(inputs.transpose(1,2))\n",
    "        _, preds = torch.max(outputs.data, 1)\n",
    "        all_preds += list(preds.numpy())\n",
    "        all_labels += list(labels.numpy())\n",
    "        \n"
   ]
  },
  {
   "cell_type": "code",
   "execution_count": 56,
   "metadata": {
    "colab": {
     "base_uri": "https://localhost:8080/"
    },
    "executionInfo": {
     "elapsed": 376,
     "status": "ok",
     "timestamp": 1674088910585,
     "user": {
      "displayName": "SUKIDA Tan",
      "userId": "04234593673225449814"
     },
     "user_tz": -60
    },
    "id": "LvqVmt0i2ds3",
    "outputId": "2f890904-33c1-49e0-c5a9-7ba544a7cef6"
   },
   "outputs": [
    {
     "name": "stdout",
     "output_type": "stream",
     "text": [
      "[223 148   2  55 169  12]\n",
      "[182  55   7  14 347   4]\n",
      "[[126   8   1   4  84   0]\n",
      " [ 33  24   6   0  82   3]\n",
      " [  0   0   0   0   1   1]\n",
      " [ 11  23   0  10  11   0]\n",
      " [ 12   0   0   0 157   0]\n",
      " [  0   0   0   0  12   0]]\n",
      "0.5205254515599343\n"
     ]
    }
   ],
   "source": [
    "cm = confusion_matrix(all_labels, all_preds);\n",
    "cm\n",
    "print(np.bincount(all_labels))\n",
    "print(np.bincount(all_preds))\n",
    "print(cm)\n",
    "\n",
    "correct_rate = np.diagonal(cm).sum()/cm.sum()\n",
    "print(correct_rate)"
   ]
  },
  {
   "cell_type": "code",
   "execution_count": 57,
   "metadata": {
    "colab": {
     "base_uri": "https://localhost:8080/"
    },
    "executionInfo": {
     "elapsed": 245,
     "status": "ok",
     "timestamp": 1674086880589,
     "user": {
      "displayName": "SUKIDA Tan",
      "userId": "04234593673225449814"
     },
     "user_tz": -60
    },
    "id": "jQryCKH4R1FW",
    "outputId": "528acf69-4698-4cea-be2a-ded3b34f69d9"
   },
   "outputs": [
    {
     "data": {
      "text/plain": [
       "{'wall & balcony & ..': 0,\n",
       " 'window & blinds': 1,\n",
       " 'door': 2,\n",
       " 'molding & decoration': 3,\n",
       " 'ground surface & terrian': 4,\n",
       " 'roof & others': 5}"
      ]
     },
     "execution_count": 57,
     "metadata": {},
     "output_type": "execute_result"
    }
   ],
   "source": [
    "classes = {'wall & balcony & ..': 0,\n",
    "           'window & blinds': 1,\n",
    "           'door': 2,\n",
    "           'molding & decoration': 3,\n",
    "           'ground surface & terrian': 4,\n",
    "           'roof & others': 5}\n",
    "classes\n",
    "cla_test = {'wall & balcony & ..': 0,\n",
    "            'window & blinds': 1,\n",
    "            'door': 2,\n",
    "            'molding & decoration': 3,\n",
    "            'ground surface & terrian': 4,\n",
    "            'roof & others': 5}\n",
    "cla_test"
   ]
  },
  {
   "cell_type": "code",
   "execution_count": 58,
   "metadata": {
    "executionInfo": {
     "elapsed": 235,
     "status": "ok",
     "timestamp": 1674086267324,
     "user": {
      "displayName": "SUKIDA Tan",
      "userId": "04234593673225449814"
     },
     "user_tz": -60
    },
    "id": "MvIkJrRI2g8L"
   },
   "outputs": [],
   "source": [
    "import itertools\n",
    "import numpy as np\n",
    "import matplotlib.pyplot as plt\n",
    "\n",
    "# function from https://deeplizard.com/learn/video/0LhiS6yu2qQ\n",
    "def plot_confusion_matrix(cm, classes, normalize=False, title='Confusion matrix', cmap=plt.cm.Blues):\n",
    "    if normalize:\n",
    "        cm = cm.astype('float') / cm.sum(axis=1)[:, np.newaxis]\n",
    "        print(\"Normalized confusion matrix\")\n",
    "    else:\n",
    "        print('Confusion matrix, without normalization')\n",
    "\n",
    "    plt.imshow(cm, interpolation='nearest', cmap=cmap)\n",
    "    plt.title(title)\n",
    "    plt.colorbar()\n",
    "    tick_marks = np.arange(len(classes))\n",
    "    plt.xticks(tick_marks, classes, rotation=45)\n",
    "    plt.yticks(tick_marks, classes)\n",
    "\n",
    "    fmt = '.2f' if normalize else 'd'\n",
    "    thresh = cm.max() / 2.\n",
    "    for i, j in itertools.product(range(cm.shape[0]), range(cm.shape[1])):\n",
    "        plt.text(j, i, format(cm[i, j], fmt), horizontalalignment=\"center\", color=\"white\" if cm[i, j] > thresh else \"black\")\n",
    "\n",
    "    plt.tight_layout()\n",
    "    plt.ylabel('True label')\n",
    "    plt.xlabel('Predicted label')"
   ]
  },
  {
   "cell_type": "code",
   "execution_count": 59,
   "metadata": {
    "colab": {
     "base_uri": "https://localhost:8080/",
     "height": 652
    },
    "executionInfo": {
     "elapsed": 830,
     "status": "ok",
     "timestamp": 1674086917326,
     "user": {
      "displayName": "SUKIDA Tan",
      "userId": "04234593673225449814"
     },
     "user_tz": -60
    },
    "id": "YJeGeH212i6h",
    "outputId": "72dd3fa4-5411-44bb-c876-8f1e7cb6d839"
   },
   "outputs": [
    {
     "name": "stdout",
     "output_type": "stream",
     "text": [
      "Normalized confusion matrix\n"
     ]
    },
    {
     "data": {
      "image/png": "[encoded data removed]",
      "text/plain": [
       "<Figure size 800x800 with 2 Axes>"
      ]
     },
     "metadata": {},
     "output_type": "display_data"
    }
   ],
   "source": [
    "plt.figure(figsize=(8,8))\n",
    "plot_confusion_matrix(cm, list(cla_test.keys()), normalize=True)"
   ]
  },
  {
   "cell_type": "code",
   "execution_count": 60,
   "metadata": {
    "colab": {
     "base_uri": "https://localhost:8080/",
     "height": 580
    },
    "executionInfo": {
     "elapsed": 1205,
     "status": "ok",
     "timestamp": 1674086946985,
     "user": {
      "displayName": "SUKIDA Tan",
      "userId": "04234593673225449814"
     },
     "user_tz": -60
    },
    "id": "9FeHmyzh2mZq",
    "outputId": "8cb5c54e-31e6-448c-c9c5-5b8b2c48c0bf"
   },
   "outputs": [
    {
     "name": "stdout",
     "output_type": "stream",
     "text": [
      "Confusion matrix, without normalization\n"
     ]
    },
    {
     "data": {
      "image/png": "[encoded data removed]",
      "text/plain": [
       "<Figure size 800x800 with 2 Axes>"
      ]
     },
     "metadata": {},
     "output_type": "display_data"
    }
   ],
   "source": [
    "plt.figure(figsize=(8,8))\n",
    "plot_confusion_matrix(cm, list(cla_test.keys()), normalize=False)"
   ]
  },
  {
   "cell_type": "code",
   "execution_count": null,
   "metadata": {},
   "outputs": [],
   "source": []
  }
 ],
 "metadata": {
  "accelerator": "GPU",
  "colab": {
   "authorship_tag": "ABX9TyOps7S6O6rs3xgWiavpNy6T",
   "collapsed_sections": [
    "be8RFvYTsfYE",
    "sSRH6VAGf7Xw",
    "N0FRlJOh2EuO"
   ],
   "provenance": [],
   "toc_visible": true
  },
  "gpuClass": "standard",
  "kernelspec": {
   "display_name": "Python 3 (ipykernel)",
   "language": "python",
   "name": "python3"
  },
  "language_info": {
   "codemirror_mode": {
    "name": "ipython",
    "version": 3
   },
   "file_extension": ".py",
   "mimetype": "text/x-python",
   "name": "python",
   "nbconvert_exporter": "python",
   "pygments_lexer": "ipython3",
   "version": "3.9.13"
  }
 },
 "nbformat": 4,
 "nbformat_minor": 4
}
