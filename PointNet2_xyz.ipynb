{
 "cells": [
  {
   "cell_type": "markdown",
   "metadata": {
    "id": "be8RFvYTsfYE",
    "tags": []
   },
   "source": [
    "# Data Load\n"
   ]
  },
  {
   "cell_type": "code",
   "execution_count": 1,
   "metadata": {
    "executionInfo": {
     "elapsed": 15376,
     "status": "ok",
     "timestamp": 1674079742236,
     "user": {
      "displayName": "SUKIDA Tan",
      "userId": "04234593673225449814"
     },
     "user_tz": -60
    },
    "id": "0J4zJlrCqSb4"
   },
   "outputs": [],
   "source": [
    "import numpy as np\n",
    "import math\n",
    "import random\n",
    "import os\n",
    "import torch\n",
    "import scipy.spatial.distance\n",
    "from torch.utils.data import Dataset, DataLoader\n",
    "from torchvision import transforms, utils\n",
    "\n",
    "import plotly.graph_objects as go\n",
    "import plotly.express as px\n",
    "\n",
    "import matplotlib.pylab as plt\n",
    "from mpl_toolkits.mplot3d import Axes3D\n",
    "import pandas as pd\n",
    "from sklearn.model_selection import train_test_split\n",
    "from sklearn.ensemble import RandomForestClassifier\n",
    "# from google.colab import drive\n",
    "import tensorflow as tf\n",
    "import torch.nn as nn\n",
    "import torch.nn.functional as F\n",
    "import torch.optim as optim\n"
   ]
  },
  {
   "cell_type": "code",
   "execution_count": 13,
   "metadata": {
    "colab": {
     "base_uri": "https://localhost:8080/"
    },
    "executionInfo": {
     "elapsed": 8394,
     "status": "ok",
     "timestamp": 1677260843122,
     "user": {
      "displayName": "SUKIDA Tan",
      "userId": "04234593673225449814"
     },
     "user_tz": -60
    },
    "id": "wOHAa2Ku_ci8",
    "outputId": "1c64c450-9b00-4473-c57b-e6e7396dccd0"
   },
   "outputs": [
    {
     "name": "stdout",
     "output_type": "stream",
     "text": [
      "1     19125652\n",
      "5      6440977\n",
      "2      3448050\n",
      "12     1979855\n",
      "16     1911652\n",
      "17     1746219\n",
      "6       628964\n",
      "3       288073\n",
      "14      242680\n",
      "13       24642\n",
      "Name: cla, dtype: int64\n",
      "1     2869200\n",
      "2      826645\n",
      "5      746775\n",
      "12     378061\n",
      "16     366536\n",
      "17     209118\n",
      "3      111354\n",
      "15      35457\n",
      "11      22421\n",
      "9        7342\n",
      "13       1932\n",
      "6        1319\n",
      "14        731\n",
      "Name: cla, dtype: int64\n"
     ]
    }
   ],
   "source": [
    "lxyz = pd.read_csv('./data/training/labelledLocalCRS/DEBY_LOD2_4959323/DEBY_LOD2_4959322.xyz', sep=\" \", header=0)\n",
    "lxyz.columns = [\"x\", \"y\", \"z\", \"cla\"]\n",
    "print(lxyz.cla.value_counts())\n",
    "\n",
    "lxyz_test = pd.read_csv('./data/test/labelledLocalCRS/DEBY_LOD2_4959422/DEBY_LOD2_4959422.xyz', sep=\" \", header=0)\n",
    "lxyz_test.columns = [\"x\", \"y\", \"z\", \"cla\"]\n",
    "print(lxyz_test.cla.value_counts())\n",
    "\n",
    "############## !! Here you can choose whether to use large dataset ###############"
   ]
  },
  {
   "cell_type": "code",
   "execution_count": 2,
   "metadata": {
    "colab": {
     "base_uri": "https://localhost:8080/"
    },
    "executionInfo": {
     "elapsed": 10506,
     "status": "ok",
     "timestamp": 1674079752704,
     "user": {
      "displayName": "SUKIDA Tan",
      "userId": "04234593673225449814"
     },
     "user_tz": -60
    },
    "id": "wOHAa2Ku_ci8",
    "outputId": "aa11cb6d-3ffe-434d-da6c-309d1d541783"
   },
   "outputs": [
    {
     "name": "stdout",
     "output_type": "stream",
     "text": [
      "1     36429131\n",
      "16     7566216\n",
      "11     7534665\n",
      "5      7056168\n",
      "2      6351914\n",
      "12     5938935\n",
      "15     3797046\n",
      "17     3600867\n",
      "7      1393392\n",
      "3       691885\n",
      "6       475590\n",
      "10      419409\n",
      "14      304608\n",
      "8       220774\n",
      "13       49393\n",
      "9        29398\n",
      "Name: cla, dtype: int64\n",
      "1     19125652\n",
      "5      6440977\n",
      "2      3448050\n",
      "12     1979855\n",
      "16     1911652\n",
      "17     1746219\n",
      "6       628964\n",
      "3       288073\n",
      "14      242680\n",
      "13       24642\n",
      "Name: cla, dtype: int64\n"
     ]
    }
   ],
   "source": [
    "# lxyz = pd.read_csv('./data/training/labelledLocalCRS/DEBY_LOD2_4959322/DEBY_LOD2_4959322.xyz', sep=\" \", header=0)\n",
    "# lxyz.columns = [\"x\", \"y\", \"z\", \"cla\"]\n",
    "lxyz_1 = pd.read_csv('./data/training/labelledLocalCRS/DEBY_LOD2_4906981/DEBY_LOD2_4906981.xyz', sep=\" \", header=0)\n",
    "lxyz_1.columns = [\"x\", \"y\", \"z\", \"cla\"]\n",
    "lxyz_2 = pd.read_csv('./data/training/labelledLocalCRS/DEBY_LOD2_4959322/DEBY_LOD2_4959322.xyz', sep=\" \", header=0)\n",
    "lxyz_2.columns = [\"x\", \"y\", \"z\", \"cla\"]\n",
    "lxyz_3 = pd.read_csv('./data/training/labelledLocalCRS/DEBY_LOD2_4959460/DEBY_LOD2_4959460.xyz', sep=\" \", header=0)\n",
    "lxyz_3.columns = [\"x\", \"y\", \"z\", \"cla\"]\n",
    "lxyz_4 = pd.read_csv('./data/training/labelledLocalCRS/DEBY_LOD2_4959462/DEBY_LOD2_4959462.xyz', sep=\" \", header=0)\n",
    "lxyz_4.columns = [\"x\", \"y\", \"z\", \"cla\"]\n",
    "lxyz = pd.concat([lxyz_1, lxyz_2, lxyz_3, lxyz_4], axis = 0)\n",
    "print(lxyz.cla.value_counts())\n",
    "\n",
    "lxyz_test = pd.read_csv('./data/training/labelledLocalCRS/DEBY_LOD2_4959323/DEBY_LOD2_4959323.xyz', sep=\" \", header=0)\n",
    "lxyz_test.columns = [\"x\", \"y\", \"z\", \"cla\"]\n",
    "print(lxyz_test.cla.value_counts())"
   ]
  },
  {
   "cell_type": "markdown",
   "metadata": {
    "tags": []
   },
   "source": [
    "# Sample Points & Merge class"
   ]
  },
  {
   "cell_type": "code",
   "execution_count": 3,
   "metadata": {},
   "outputs": [
    {
     "name": "stdout",
     "output_type": "stream",
     "text": [
      "1     40674984\n",
      "11    13473600\n",
      "13    11216476\n",
      "5      7531758\n",
      "2      6656522\n",
      "7      1393392\n",
      "3       691885\n",
      "8       220774\n",
      "Name: cla, dtype: int64\n",
      "1     19125652\n",
      "5      7069941\n",
      "2      3690730\n",
      "13     3682513\n",
      "11     1979855\n",
      "3       288073\n",
      "Name: cla, dtype: int64\n"
     ]
    }
   ],
   "source": [
    "lclass = lxyz['cla'].replace({6:5,9:1,15:1,10:1,12:11,17:13,16:13,14:2,4:1})\n",
    "print(lclass.value_counts())\n",
    "\n",
    "lclass_test = lxyz_test['cla'].replace({6:5,9:1,15:1,10:1,12:11,17:13,16:13,14:2,4:1})\n",
    "print(lclass_test.value_counts())"
   ]
  },
  {
   "cell_type": "code",
   "execution_count": 4,
   "metadata": {},
   "outputs": [
    {
     "name": "stdout",
     "output_type": "stream",
     "text": [
      "1    40674984\n",
      "6    13473600\n",
      "5    11216476\n",
      "4     7531758\n",
      "2     6656522\n",
      "7     1393392\n",
      "3      691885\n",
      "8      220774\n",
      "Name: cla, dtype: int64\n",
      "1    19125652\n",
      "4     7069941\n",
      "2     3690730\n",
      "5     3682513\n",
      "6     1979855\n",
      "3      288073\n",
      "Name: cla, dtype: int64\n"
     ]
    }
   ],
   "source": [
    "lclass = lclass.replace({5:4,13:5,11:6})\n",
    "print(lclass.value_counts())\n",
    "# 1: wall\n",
    "# 2: window\n",
    "# 3: door\n",
    "# 4: molding\n",
    "# 5: other\n",
    "# 6: terrian\n",
    "# 7: column\n",
    "# 8: arch\n",
    "\n",
    "lclass_test = lclass_test.replace({5:4,13:5,11:6})\n",
    "print(lclass_test.value_counts())"
   ]
  },
  {
   "cell_type": "code",
   "execution_count": 5,
   "metadata": {},
   "outputs": [
    {
     "name": "stdout",
     "output_type": "stream",
     "text": [
      "0    40674984\n",
      "5    13473600\n",
      "4    11216476\n",
      "3     7531758\n",
      "1     6656522\n",
      "6     1393392\n",
      "2      691885\n",
      "7      220774\n",
      "Name: cla, dtype: int64\n",
      "0    19125652\n",
      "3     7069941\n",
      "1     3690730\n",
      "4     3682513\n",
      "5     1979855\n",
      "2      288073\n",
      "Name: cla, dtype: int64\n"
     ]
    }
   ],
   "source": [
    "lclass = lclass.replace({1:0,2:1,3:2,4:3,5:4,6:5,7:6,8:7})\n",
    "print(lclass.value_counts())\n",
    "# 0: wall\n",
    "# 1: window\n",
    "# 2: door\n",
    "# 3: molding\n",
    "# 4: other\n",
    "# 5: terrian\n",
    "# 6: column\n",
    "# 7: arch\n",
    "\n",
    "lclass_test = lclass_test.replace({1:0,2:1,3:2,4:3,5:4,6:5,7:6,8:7})\n",
    "print(lclass_test.value_counts())"
   ]
  },
  {
   "cell_type": "code",
   "execution_count": 6,
   "metadata": {},
   "outputs": [],
   "source": [
    "lxyz = lxyz.drop('cla',axis = 1) \n",
    "lxyz_test = lxyz_test.drop('cla',axis = 1) \n",
    "\n",
    "lxyz = lxyz.to_numpy().reshape(-1,3)\n",
    "lxyz_test = lxyz_test.to_numpy().reshape(-1,3)"
   ]
  },
  {
   "cell_type": "code",
   "execution_count": 7,
   "metadata": {},
   "outputs": [
    {
     "name": "stdout",
     "output_type": "stream",
     "text": [
      "Jupyter environment detected. Enabling Open3D WebVisualizer.\n",
      "[Open3D INFO] WebRTC GUI backend enabled.\n",
      "[Open3D INFO] WebRTCWindowSystem: HTTP handshake server disabled.\n"
     ]
    }
   ],
   "source": [
    "import open3d as o3d"
   ]
  },
  {
   "cell_type": "code",
   "execution_count": 8,
   "metadata": {},
   "outputs": [],
   "source": [
    "######################### using open3d for point processing ################\n",
    "device = o3d.core.Device(\"CPU:0\")\n",
    "dtype = o3d.core.float32\n",
    "pcd = o3d.t.geometry.PointCloud(device)\n",
    "pcd.point.positions = o3d.core.Tensor(lxyz, dtype, device)\n",
    "pcd.point.labels = o3d.core.Tensor(lclass.to_numpy().reshape(-1,1), o3d.core.int32, device)\n",
    "# o3d.visualization.draw([pcd])\n",
    "downpcd = pcd.voxel_down_sample(voxel_size = 0.05)"
   ]
  },
  {
   "cell_type": "code",
   "execution_count": 9,
   "metadata": {},
   "outputs": [],
   "source": [
    "lxyz_train = downpcd.point.positions.numpy()\n",
    "lclass_train = downpcd.point.labels.numpy()\n",
    "\n",
    "pcd_train = o3d.geometry.PointCloud()\n",
    "pcd_train.points = o3d.utility.Vector3dVector(lxyz_train)\n",
    "\n",
    "# color\n",
    "colors = plt.get_cmap(\"tab20\")(np.array(lclass_train).reshape(-1) / 17.0)\n",
    "colors = colors[:,0:3]\n",
    "pcd_train.colors=o3d.utility.Vector3dVector(colors)\n",
    "# o3d.visualization.draw_geometries([pcd_train], window_name='test the color',width=800,height=600)"
   ]
  },
  {
   "cell_type": "code",
   "execution_count": 10,
   "metadata": {},
   "outputs": [
    {
     "name": "stdout",
     "output_type": "stream",
     "text": [
      "14623737\n"
     ]
    }
   ],
   "source": [
    "print(len(lxyz_train)) # see how many points after simplified"
   ]
  },
  {
   "cell_type": "code",
   "execution_count": 11,
   "metadata": {},
   "outputs": [],
   "source": [
    "pcd_test = o3d.t.geometry.PointCloud(device)\n",
    "pcd_test.point.positions = o3d.core.Tensor(lxyz_test, dtype, device)\n",
    "pcd_test.point.labels = o3d.core.Tensor(lclass_test.to_numpy().reshape(-1,1), o3d.core.int32, device)\n",
    "# o3d.visualization.draw([pcd])\n",
    "downpcd_test = pcd_test.voxel_down_sample(voxel_size = 0.05)\n",
    "\n",
    "lxyz_test = downpcd_test.point.positions.numpy()\n",
    "lclass_test = downpcd_test.point.labels.numpy()"
   ]
  },
  {
   "cell_type": "code",
   "execution_count": 12,
   "metadata": {},
   "outputs": [],
   "source": [
    "pcd_test = o3d.geometry.PointCloud()\n",
    "pcd_test.points = o3d.utility.Vector3dVector(lxyz_test)\n",
    "\n",
    "# color\n",
    "colors = plt.get_cmap(\"tab20\")(np.array(lclass_test).reshape(-1) / 17.0)\n",
    "colors = colors[:,0:3]\n",
    "pcd_test.colors=o3d.utility.Vector3dVector(colors)\n",
    "# o3d.visualization.draw_geometries([pcd_test], window_name='test the color',width=800,height=600)"
   ]
  },
  {
   "cell_type": "markdown",
   "metadata": {
    "tags": []
   },
   "source": [
    "# Add Features （ IF NOT KEEP AS X Y Z）"
   ]
  },
  {
   "cell_type": "code",
   "execution_count": 13,
   "metadata": {},
   "outputs": [],
   "source": [
    "lxyz_train = pd.DataFrame(lxyz_train)\n",
    "lxyz_train.columns = [\"x\", \"y\", \"z\"]"
   ]
  },
  {
   "cell_type": "code",
   "execution_count": 14,
   "metadata": {},
   "outputs": [],
   "source": [
    "lxyz_test = pd.DataFrame(lxyz_test)\n",
    "lxyz_test.columns = [\"x\", \"y\", \"z\"]"
   ]
  },
  {
   "cell_type": "code",
   "execution_count": 15,
   "metadata": {},
   "outputs": [],
   "source": [
    "########## Normalization For Each Column ##########\n",
    "def normalize_point_cloud(pcd):\n",
    "    centroid = np.mean(pcd, axis=0) # calculation the center of point cloud\n",
    "    pcd = pcd - centroid # put the center as origin\n",
    "    m = np.max(np.sqrt(np.sum(pcd ** 2, axis=1))) # calculation the longest vector\n",
    "    pcd_normalized = pcd / m # normalization to (-1, 1)\n",
    "    return pcd_normalized\n"
   ]
  },
  {
   "cell_type": "code",
   "execution_count": 16,
   "metadata": {},
   "outputs": [],
   "source": [
    "norm_lxyz_train = normalize_point_cloud(lxyz_train)\n",
    "norm_lxyz_test = normalize_point_cloud(lxyz_test)"
   ]
  },
  {
   "cell_type": "code",
   "execution_count": 17,
   "metadata": {},
   "outputs": [],
   "source": [
    "lclass_train = pd.DataFrame(lclass_train, columns = ['cla'], dtype = int)\n",
    "lclass_test = pd.DataFrame(lclass_test, columns = ['cla'], dtype = int)"
   ]
  },
  {
   "cell_type": "code",
   "execution_count": 18,
   "metadata": {},
   "outputs": [
    {
     "name": "stdout",
     "output_type": "stream",
     "text": [
      "cla\n",
      "0      1663662\n",
      "4      1070326\n",
      "3       714129\n",
      "1       499659\n",
      "5       239910\n",
      "2        34572\n",
      "dtype: int64\n"
     ]
    }
   ],
   "source": [
    "print(lclass_test.value_counts())"
   ]
  },
  {
   "cell_type": "code",
   "execution_count": 19,
   "metadata": {},
   "outputs": [
    {
     "name": "stdout",
     "output_type": "stream",
     "text": [
      "          cla\n",
      "0           0\n",
      "1           0\n",
      "2           0\n",
      "3           0\n",
      "4           0\n",
      "...       ...\n",
      "14623732    4\n",
      "14623733    4\n",
      "14623734    4\n",
      "14623735    4\n",
      "14623736    4\n",
      "\n",
      "[14623737 rows x 1 columns]\n"
     ]
    }
   ],
   "source": [
    "print(lclass_train)"
   ]
  },
  {
   "cell_type": "code",
   "execution_count": 20,
   "metadata": {},
   "outputs": [
    {
     "name": "stdout",
     "output_type": "stream",
     "text": [
      "         cla\n",
      "0          1\n",
      "1          1\n",
      "2          1\n",
      "3          1\n",
      "4          1\n",
      "...      ...\n",
      "4222253    4\n",
      "4222254    4\n",
      "4222255    4\n",
      "4222256    4\n",
      "4222257    4\n",
      "\n",
      "[4222258 rows x 1 columns]\n"
     ]
    }
   ],
   "source": [
    "print(lclass_test)"
   ]
  },
  {
   "cell_type": "code",
   "execution_count": 21,
   "metadata": {},
   "outputs": [
    {
     "name": "stdout",
     "output_type": "stream",
     "text": [
      "                 x         y         z\n",
      "0        -0.193227 -0.330674 -0.012098\n",
      "1        -0.193227 -0.329890 -0.019932\n",
      "2        -0.193227 -0.329890 -0.059102\n",
      "3        -0.193227 -0.329890 -0.005830\n",
      "4        -0.193227 -0.330674 -0.010531\n",
      "...            ...       ...       ...\n",
      "14623732 -0.035762 -0.011043 -0.002697\n",
      "14623733 -0.035762 -0.011827 -0.002697\n",
      "14623734  0.162440  0.087666 -0.127258\n",
      "14623735 -0.058481  0.086883  0.135183\n",
      "14623736 -0.060048  0.082182  0.134400\n",
      "\n",
      "[14623737 rows x 3 columns]\n"
     ]
    }
   ],
   "source": [
    "print(norm_lxyz_train)"
   ]
  },
  {
   "cell_type": "code",
   "execution_count": 22,
   "metadata": {},
   "outputs": [
    {
     "name": "stdout",
     "output_type": "stream",
     "text": [
      "                x         y         z\n",
      "0       -0.137393 -0.555251 -0.032752\n",
      "1       -0.137393 -0.550621  0.070270\n",
      "2       -0.137393 -0.555251  0.066797\n",
      "3       -0.137393 -0.551779  0.080688\n",
      "4       -0.137393 -0.540203 -0.083683\n",
      "...           ...       ...       ...\n",
      "4222253  0.178617  0.339530  0.071427\n",
      "4222254  0.178617  0.338372  0.071427\n",
      "4222255  0.178617  0.339530  0.072585\n",
      "4222256  0.177459  0.338372  0.071427\n",
      "4222257  0.177459  0.339530  0.071427\n",
      "\n",
      "[4222258 rows x 3 columns]\n"
     ]
    }
   ],
   "source": [
    "print(norm_lxyz_test)"
   ]
  },
  {
   "cell_type": "markdown",
   "metadata": {
    "tags": []
   },
   "source": [
    "# Data Spilt"
   ]
  },
  {
   "cell_type": "code",
   "execution_count": 23,
   "metadata": {},
   "outputs": [],
   "source": [
    "lxyz_train = pd.concat([norm_lxyz_train, lclass_train], axis = 1)\n",
    "lxyz_test = pd.concat([norm_lxyz_test, lclass_test], axis = 1)\n",
    "# print(lxyz_test.cla.value_counts())"
   ]
  },
  {
   "cell_type": "code",
   "execution_count": 24,
   "metadata": {},
   "outputs": [
    {
     "name": "stdout",
     "output_type": "stream",
     "text": [
      "                 x         y         z  cla\n",
      "0        -0.193227 -0.330674 -0.012098    0\n",
      "1        -0.193227 -0.329890 -0.019932    0\n",
      "2        -0.193227 -0.329890 -0.059102    0\n",
      "3        -0.193227 -0.329890 -0.005830    0\n",
      "4        -0.193227 -0.330674 -0.010531    0\n",
      "...            ...       ...       ...  ...\n",
      "14623732 -0.035762 -0.011043 -0.002697    4\n",
      "14623733 -0.035762 -0.011827 -0.002697    4\n",
      "14623734  0.162440  0.087666 -0.127258    4\n",
      "14623735 -0.058481  0.086883  0.135183    4\n",
      "14623736 -0.060048  0.082182  0.134400    4\n",
      "\n",
      "[14623737 rows x 4 columns]\n",
      "                x         y         z  cla\n",
      "0       -0.137393 -0.555251 -0.032752    1\n",
      "1       -0.137393 -0.550621  0.070270    1\n",
      "2       -0.137393 -0.555251  0.066797    1\n",
      "3       -0.137393 -0.551779  0.080688    1\n",
      "4       -0.137393 -0.540203 -0.083683    1\n",
      "...           ...       ...       ...  ...\n",
      "4222253  0.178617  0.339530  0.071427    4\n",
      "4222254  0.178617  0.338372  0.071427    4\n",
      "4222255  0.178617  0.339530  0.072585    4\n",
      "4222256  0.177459  0.338372  0.071427    4\n",
      "4222257  0.177459  0.339530  0.071427    4\n",
      "\n",
      "[4222258 rows x 4 columns]\n"
     ]
    }
   ],
   "source": [
    "print(lxyz_train)\n",
    "print(lxyz_test)"
   ]
  },
  {
   "cell_type": "code",
   "execution_count": 25,
   "metadata": {
    "colab": {
     "base_uri": "https://localhost:8080/"
    },
    "executionInfo": {
     "elapsed": 2139,
     "status": "ok",
     "timestamp": 1674079754823,
     "user": {
      "displayName": "SUKIDA Tan",
      "userId": "04234593673225449814"
     },
     "user_tz": -60
    },
    "id": "ey4Eh_U10ET5",
    "outputId": "d4aedcb5-0aef-465c-b3ce-f0fd69af7890"
   },
   "outputs": [
    {
     "name": "stdout",
     "output_type": "stream",
     "text": [
      "5971\n",
      "1407\n",
      "1160\n",
      "3720\n",
      "1607\n",
      "187\n",
      "37\n",
      "189\n",
      "0    6114304\n",
      "4    3809280\n",
      "1    1645568\n",
      "3    1440768\n",
      "5    1187840\n",
      "6     193536\n",
      "2     191488\n",
      "7      37888\n",
      "Name: cla, dtype: int64\n",
      "---------\n",
      "487\n",
      "1624\n",
      "697\n",
      "1045\n",
      "234\n",
      "33\n"
     ]
    }
   ],
   "source": [
    "def spilt_data(lxyz):\n",
    "  class_uniques = lxyz['cla'].unique() #把一列所有取值提出来成为一个Array \n",
    "  re = []\n",
    "  for column in class_uniques:\n",
    "    temp_data = lxyz[lxyz['cla'].isin([column])] #按照列的某个值取一个dataframe\n",
    "    batch_num = int(len(temp_data)/1024)\n",
    "    print(batch_num)\n",
    "    temp_data = temp_data[0:batch_num*1024]\n",
    "    re.append(temp_data)\n",
    "  re = pd.concat(re)\n",
    "  return re\n",
    "\n",
    "lxyz_train = spilt_data(lxyz_train)\n",
    "print(lxyz_train.cla.value_counts())\n",
    "print('---------')\n",
    "lxyz_test = spilt_data(lxyz_test)"
   ]
  },
  {
   "cell_type": "code",
   "execution_count": 26,
   "metadata": {},
   "outputs": [
    {
     "name": "stdout",
     "output_type": "stream",
     "text": [
      "                x         y         z  cla\n",
      "0       -0.193227 -0.330674 -0.012098    0\n",
      "1       -0.193227 -0.329890 -0.019932    0\n",
      "2       -0.193227 -0.329890 -0.059102    0\n",
      "3       -0.193227 -0.329890 -0.005830    0\n",
      "4       -0.193227 -0.330674 -0.010531    0\n",
      "...           ...       ...       ...  ...\n",
      "4980460  0.259583  0.289785 -0.046567    6\n",
      "4980461  0.259583  0.289785 -0.069286    6\n",
      "4980462  0.259583  0.289785 -0.086521    6\n",
      "4980463  0.259583  0.290569 -0.039517    6\n",
      "4980464  0.259583  0.289785 -0.061452    6\n",
      "\n",
      "[14620672 rows x 4 columns]\n",
      "                x         y         z  cla\n",
      "0       -0.137393 -0.555251 -0.032752    1\n",
      "1       -0.137393 -0.550621  0.070270    1\n",
      "2       -0.137393 -0.555251  0.066797    1\n",
      "3       -0.137393 -0.551779  0.080688    1\n",
      "4       -0.137393 -0.540203 -0.083683    1\n",
      "...           ...       ...       ...  ...\n",
      "3821331 -0.154756  0.753931 -0.110307    2\n",
      "3821332 -0.154756  0.753931 -0.109149    2\n",
      "3821333 -0.154756  0.753931 -0.077896    2\n",
      "3821334 -0.154756  0.753931 -0.105677    2\n",
      "3821335 -0.154756  0.757403 -0.085999    2\n",
      "\n",
      "[4218880 rows x 4 columns]\n"
     ]
    }
   ],
   "source": [
    "print(lxyz_train)\n",
    "print(lxyz_test)"
   ]
  },
  {
   "cell_type": "markdown",
   "metadata": {
    "id": "sSRH6VAGf7Xw",
    "tags": []
   },
   "source": [
    "# Dataset Preparation\n"
   ]
  },
  {
   "cell_type": "code",
   "execution_count": 27,
   "metadata": {
    "executionInfo": {
     "elapsed": 77,
     "status": "ok",
     "timestamp": 1674079787517,
     "user": {
      "displayName": "SUKIDA Tan",
      "userId": "04234593673225449814"
     },
     "user_tz": -60
    },
    "id": "n23Bk90QSKqq"
   },
   "outputs": [],
   "source": [
    "class ToTensor(object):\n",
    "    def __call__(self, pointcloud):\n",
    "        assert len(pointcloud.shape)==2\n",
    "        pointcloud = pointcloud.to_numpy()\n",
    "        return torch.from_numpy(pointcloud)"
   ]
  },
  {
   "cell_type": "code",
   "execution_count": 28,
   "metadata": {
    "executionInfo": {
     "elapsed": 77,
     "status": "ok",
     "timestamp": 1674079787518,
     "user": {
      "displayName": "SUKIDA Tan",
      "userId": "04234593673225449814"
     },
     "user_tz": -60
    },
    "id": "JYsFkTHqfLRp"
   },
   "outputs": [],
   "source": [
    "def default_transforms():\n",
    "    return transforms.Compose([\n",
    "                                # Normalize(),\n",
    "                                ToTensor()\n",
    "                              ])"
   ]
  },
  {
   "cell_type": "code",
   "execution_count": 29,
   "metadata": {
    "colab": {
     "base_uri": "https://localhost:8080/"
    },
    "executionInfo": {
     "elapsed": 885,
     "status": "ok",
     "timestamp": 1674079788327,
     "user": {
      "displayName": "SUKIDA Tan",
      "userId": "04234593673225449814"
     },
     "user_tz": -60
    },
    "id": "Z-Ur3QdPfLX1",
    "outputId": "a7977d44-a242-4069-d2be-eb22720ec8bd"
   },
   "outputs": [
    {
     "name": "stdout",
     "output_type": "stream",
     "text": [
      "14620672\n",
      "4218880\n",
      "4120\n",
      "14278\n",
      "4120\n",
      "type of :  torch.Size([1024, 4])\n",
      "tensor([[-0.1397, -0.5691,  0.2381,  1.0000],\n",
      "        [-0.1397, -0.5553,  0.1652,  1.0000],\n",
      "        [-0.1397, -0.5564,  0.1976,  1.0000],\n",
      "        ...,\n",
      "        [-0.1409, -0.5529,  0.1988,  1.0000],\n",
      "        [-0.1409, -0.5657,  0.2358,  1.0000],\n",
      "        [-0.1409, -0.5634,  0.0668,  1.0000]], dtype=torch.float64)\n"
     ]
    }
   ],
   "source": [
    "train_transforms = default_transforms()\n",
    "batch_num_test = int(len(lxyz_test)/1024)\n",
    "batch_num_train = int(len(lxyz_train)/1024)\n",
    "_train = lxyz_train[0:(1024*batch_num_train)]\n",
    "_test = lxyz_test[0:(1024*batch_num_test)]\n",
    "print(len(_train))\n",
    "print(len(_test))\n",
    "print(batch_num_test)\n",
    "print(batch_num_train)\n",
    "\n",
    "data_test_temp = np.split(_test,batch_num_test)\n",
    "data_train_temp = np.split(_train,batch_num_train)\n",
    "\n",
    "data_test = [ train_transforms(test) for test in data_test_temp]\n",
    "data_train = [ train_transforms(train) for train in data_train_temp]\n",
    "\n",
    "print(len(data_test))\n",
    "print('type of : ', data_test[2].size())\n",
    "print(data_test[2])"
   ]
  },
  {
   "cell_type": "code",
   "execution_count": 30,
   "metadata": {},
   "outputs": [
    {
     "name": "stdout",
     "output_type": "stream",
     "text": [
      "tensor([-0.1397, -0.1397, -0.1397,  ..., -0.1409, -0.1409, -0.1409],\n",
      "       dtype=torch.float64)\n"
     ]
    }
   ],
   "source": [
    "print(data_test[2][:,0])"
   ]
  },
  {
   "cell_type": "code",
   "execution_count": 31,
   "metadata": {},
   "outputs": [
    {
     "name": "stdout",
     "output_type": "stream",
     "text": [
      "14278\n",
      "10708\n",
      "3570\n"
     ]
    }
   ],
   "source": [
    "len_total = len(data_train)\n",
    "print(len_total)\n",
    "train_size = int(len_total*0.75)\n",
    "test_size = len_total - train_size\n",
    "print(train_size)\n",
    "print(test_size)"
   ]
  },
  {
   "cell_type": "code",
   "execution_count": 32,
   "metadata": {},
   "outputs": [
    {
     "name": "stdout",
     "output_type": "stream",
     "text": [
      "3570\n",
      "type of :  torch.Size([1024, 4])\n",
      "tensor([[-0.7667, -0.3025,  0.0545,  0.0000],\n",
      "        [-0.7667, -0.2986,  0.0169,  0.0000],\n",
      "        [-0.7667, -0.3001,  0.0655,  0.0000],\n",
      "        ...,\n",
      "        [-0.7667, -0.3048,  0.0843,  0.0000],\n",
      "        [-0.7667, -0.3056,  0.0224,  0.0000],\n",
      "        [-0.7667, -0.3048, -0.0074,  0.0000]], dtype=torch.float64)\n"
     ]
    }
   ],
   "source": [
    "data_train, data_valid = torch.utils.data.random_split(data_train, [train_size, test_size])\n",
    "print(len(data_valid))\n",
    "print('type of : ', data_valid[2].size())\n",
    "print(data_valid[2])"
   ]
  },
  {
   "cell_type": "code",
   "execution_count": 33,
   "metadata": {
    "executionInfo": {
     "elapsed": 65,
     "status": "ok",
     "timestamp": 1674079788359,
     "user": {
      "displayName": "SUKIDA Tan",
      "userId": "04234593673225449814"
     },
     "user_tz": -60
    },
    "id": "hNZb5f-K1lrh"
   },
   "outputs": [],
   "source": [
    "train_loader = DataLoader(dataset=data_train, batch_size= 4, shuffle=True)\n",
    "valid_loader = DataLoader(dataset=data_valid, batch_size= 4, shuffle=True)\n",
    "test_loader = DataLoader(dataset=data_test, batch_size = 4)"
   ]
  },
  {
   "cell_type": "markdown",
   "metadata": {
    "id": "N0FRlJOh2EuO",
    "tags": []
   },
   "source": [
    "# Model Description"
   ]
  },
  {
   "cell_type": "code",
   "execution_count": 34,
   "metadata": {},
   "outputs": [],
   "source": [
    "import torch\n",
    "import torch.nn as nn\n",
    "import torch.nn.functional as F\n",
    "from time import time\n",
    "import numpy as np"
   ]
  },
  {
   "cell_type": "code",
   "execution_count": 35,
   "metadata": {},
   "outputs": [],
   "source": [
    "def timeit(tag, t):\n",
    "    print(\"{}: {}s\".format(tag, time() - t))\n",
    "    return time()\n",
    "\n",
    "def pc_normalize(pc):\n",
    "    l = pc.shape[0]\n",
    "    centroid = np.mean(pc, axis=0)\n",
    "    pc = pc - centroid\n",
    "    m = np.max(np.sqrt(np.sum(pc**2, axis=1)))\n",
    "    pc = pc / m\n",
    "    return pc\n",
    "\n",
    "def square_distance(src, dst):\n",
    "    \"\"\"\n",
    "    Calculate Euclid distance between each two points.\n",
    "\n",
    "    src^T * dst = xn * xm + yn * ym + zn * zm；\n",
    "    sum(src^2, dim=-1) = xn*xn + yn*yn + zn*zn;\n",
    "    sum(dst^2, dim=-1) = xm*xm + ym*ym + zm*zm;\n",
    "    dist = (xn - xm)^2 + (yn - ym)^2 + (zn - zm)^2\n",
    "         = sum(src**2,dim=-1)+sum(dst**2,dim=-1)-2*src^T*dst\n",
    "\n",
    "    Input:\n",
    "        src: source points, [B, N, C]\n",
    "        dst: target points, [B, M, C]\n",
    "    Output:\n",
    "        dist: per-point square distance, [B, N, M]\n",
    "    \"\"\"\n",
    "    B, N, _ = src.shape\n",
    "    _, M, _ = dst.shape\n",
    "    dist = -2 * torch.matmul(src, dst.permute(0, 2, 1))\n",
    "    dist += torch.sum(src ** 2, -1).view(B, N, 1)\n",
    "    dist += torch.sum(dst ** 2, -1).view(B, 1, M)\n",
    "    return dist\n",
    "\n",
    "\n",
    "def index_points(points, idx):\n",
    "    \"\"\"\n",
    "\n",
    "    Input:\n",
    "        points: input points data, [B, N, C]\n",
    "        idx: sample index data, [B, S]\n",
    "    Return:\n",
    "        new_points:, indexed points data, [B, S, C]\n",
    "    \"\"\"\n",
    "    device = points.device\n",
    "    B = points.shape[0]\n",
    "    view_shape = list(idx.shape)\n",
    "    view_shape[1:] = [1] * (len(view_shape) - 1)\n",
    "    repeat_shape = list(idx.shape)\n",
    "    repeat_shape[0] = 1\n",
    "    batch_indices = torch.arange(B, dtype=torch.long).to(device).view(view_shape).repeat(repeat_shape)\n",
    "    new_points = points[batch_indices, idx, :]\n",
    "    return new_points\n",
    "\n",
    "\n",
    "def farthest_point_sample(xyz, npoint):\n",
    "    \"\"\"\n",
    "    Input:\n",
    "        xyz: pointcloud data, [B, N, 3]\n",
    "        npoint: number of samples\n",
    "    Return:\n",
    "        centroids: sampled pointcloud index, [B, npoint]\n",
    "    \"\"\"\n",
    "    device = xyz.device\n",
    "    B, N, C = xyz.shape\n",
    "    centroids = torch.zeros(B, npoint, dtype=torch.long).to(device)\n",
    "    distance = torch.ones(B, N).to(device) * 1e10\n",
    "    farthest = torch.randint(0, N, (B,), dtype=torch.long).to(device)\n",
    "    batch_indices = torch.arange(B, dtype=torch.long).to(device)\n",
    "    for i in range(npoint):\n",
    "        centroids[:, i] = farthest\n",
    "        centroid = xyz[batch_indices, farthest, :].view(B, 1, 3)\n",
    "        dist = torch.sum((xyz - centroid) ** 2, -1)\n",
    "        mask = dist < distance\n",
    "        distance[mask] = dist[mask]\n",
    "        farthest = torch.max(distance, -1)[1]\n",
    "    return centroids\n",
    "\n",
    "\n",
    "def query_ball_point(radius, nsample, xyz, new_xyz):\n",
    "    \"\"\"\n",
    "    Input:\n",
    "        radius: local region radius\n",
    "        nsample: max sample number in local region\n",
    "        xyz: all points, [B, N, 3]\n",
    "        new_xyz: query points, [B, S, 3]\n",
    "    Return:\n",
    "        group_idx: grouped points index, [B, S, nsample]\n",
    "    \"\"\"\n",
    "    device = xyz.device\n",
    "    B, N, C = xyz.shape\n",
    "    _, S, _ = new_xyz.shape\n",
    "    group_idx = torch.arange(N, dtype=torch.long).to(device).view(1, 1, N).repeat([B, S, 1])\n",
    "    sqrdists = square_distance(new_xyz, xyz)\n",
    "    group_idx[sqrdists > radius ** 2] = N\n",
    "    group_idx = group_idx.sort(dim=-1)[0][:, :, :nsample]\n",
    "    group_first = group_idx[:, :, 0].view(B, S, 1).repeat([1, 1, nsample])\n",
    "    mask = group_idx == N\n",
    "    group_idx[mask] = group_first[mask]\n",
    "    return group_idx\n",
    "\n",
    "\n",
    "def sample_and_group(npoint, radius, nsample, xyz, points, returnfps=False):\n",
    "    \"\"\"\n",
    "    Input:\n",
    "        npoint:\n",
    "        radius:\n",
    "        nsample:\n",
    "        xyz: input points position data, [B, N, 3]\n",
    "        points: input points data, [B, N, D]\n",
    "    Return:\n",
    "        new_xyz: sampled points position data, [B, npoint, nsample, 3]\n",
    "        new_points: sampled points data, [B, npoint, nsample, 3+D]\n",
    "    \"\"\"\n",
    "    B, N, C = xyz.shape\n",
    "    S = npoint\n",
    "    fps_idx = farthest_point_sample(xyz, npoint) # [B, npoint, C]\n",
    "    new_xyz = index_points(xyz, fps_idx)\n",
    "    idx = query_ball_point(radius, nsample, xyz, new_xyz)\n",
    "    grouped_xyz = index_points(xyz, idx) # [B, npoint, nsample, C]\n",
    "    grouped_xyz_norm = grouped_xyz - new_xyz.view(B, S, 1, C)\n",
    "\n",
    "    if points is not None:\n",
    "        grouped_points = index_points(points, idx)\n",
    "        new_points = torch.cat([grouped_xyz_norm, grouped_points], dim=-1) # [B, npoint, nsample, C+D]\n",
    "    else:\n",
    "        new_points = grouped_xyz_norm\n",
    "    if returnfps:\n",
    "        return new_xyz, new_points, grouped_xyz, fps_idx\n",
    "    else:\n",
    "        return new_xyz, new_points\n",
    "\n",
    "\n",
    "def sample_and_group_all(xyz, points):\n",
    "    \"\"\"\n",
    "    Input:\n",
    "        xyz: input points position data, [B, N, 3]\n",
    "        points: input points data, [B, N, D]\n",
    "    Return:\n",
    "        new_xyz: sampled points position data, [B, 1, 3]\n",
    "        new_points: sampled points data, [B, 1, N, 3+D]\n",
    "    \"\"\"\n",
    "    device = xyz.device\n",
    "    B, N, C = xyz.shape\n",
    "    new_xyz = torch.zeros(B, 1, C).to(device)\n",
    "    grouped_xyz = xyz.view(B, 1, N, C)\n",
    "    if points is not None:\n",
    "        new_points = torch.cat([grouped_xyz, points.view(B, 1, N, -1)], dim=-1)\n",
    "    else:\n",
    "        new_points = grouped_xyz\n",
    "    return new_xyz, new_points\n",
    "\n",
    "\n",
    "class PointNetSetAbstraction(nn.Module):\n",
    "    def __init__(self, npoint, radius, nsample, in_channel, mlp, group_all):\n",
    "        super(PointNetSetAbstraction, self).__init__()\n",
    "        self.npoint = npoint\n",
    "        self.radius = radius\n",
    "        self.nsample = nsample\n",
    "        self.mlp_convs = nn.ModuleList()\n",
    "        self.mlp_bns = nn.ModuleList()\n",
    "        last_channel = in_channel\n",
    "        for out_channel in mlp:\n",
    "            self.mlp_convs.append(nn.Conv2d(last_channel, out_channel, 1))\n",
    "            self.mlp_bns.append(nn.BatchNorm2d(out_channel))\n",
    "            last_channel = out_channel\n",
    "        self.group_all = group_all\n",
    "\n",
    "    def forward(self, xyz, points):\n",
    "        \"\"\"\n",
    "        Input:\n",
    "            xyz: input points position data, [B, C, N]\n",
    "            points: input points data, [B, D, N]\n",
    "        Return:\n",
    "            new_xyz: sampled points position data, [B, C, S]\n",
    "            new_points_concat: sample points feature data, [B, D', S]\n",
    "        \"\"\"\n",
    "        xyz = xyz.permute(0, 2, 1)\n",
    "        if points is not None:\n",
    "            points = points.permute(0, 2, 1)\n",
    "\n",
    "        if self.group_all:\n",
    "            new_xyz, new_points = sample_and_group_all(xyz, points)\n",
    "        else:\n",
    "            new_xyz, new_points = sample_and_group(self.npoint, self.radius, self.nsample, xyz, points)\n",
    "        # new_xyz: sampled points position data, [B, npoint, C]\n",
    "        # new_points: sampled points data, [B, npoint, nsample, C+D]\n",
    "        new_points = new_points.permute(0, 3, 2, 1) # [B, C+D, nsample,npoint]\n",
    "        for i, conv in enumerate(self.mlp_convs):\n",
    "            bn = self.mlp_bns[i]\n",
    "            new_points =  F.relu(bn(conv(new_points)))\n",
    "\n",
    "        new_points = torch.max(new_points, 2)[0]\n",
    "        new_xyz = new_xyz.permute(0, 2, 1)\n",
    "        return new_xyz, new_points\n",
    "\n",
    "\n",
    "class PointNetSetAbstractionMsg(nn.Module):\n",
    "    def __init__(self, npoint, radius_list, nsample_list, in_channel, mlp_list):\n",
    "        super(PointNetSetAbstractionMsg, self).__init__()\n",
    "        self.npoint = npoint\n",
    "        self.radius_list = radius_list\n",
    "        self.nsample_list = nsample_list\n",
    "        self.conv_blocks = nn.ModuleList()\n",
    "        self.bn_blocks = nn.ModuleList()\n",
    "        for i in range(len(mlp_list)):\n",
    "            convs = nn.ModuleList()\n",
    "            bns = nn.ModuleList()\n",
    "            last_channel = in_channel + 3\n",
    "            for out_channel in mlp_list[i]:\n",
    "                convs.append(nn.Conv2d(last_channel, out_channel, 1))\n",
    "                bns.append(nn.BatchNorm2d(out_channel))\n",
    "                last_channel = out_channel\n",
    "            self.conv_blocks.append(convs)\n",
    "            self.bn_blocks.append(bns)\n",
    "\n",
    "    def forward(self, xyz, points):\n",
    "        \"\"\"\n",
    "        Input:\n",
    "            xyz: input points position data, [B, C, N]\n",
    "            points: input points data, [B, D, N]\n",
    "        Return:\n",
    "            new_xyz: sampled points position data, [B, C, S]\n",
    "            new_points_concat: sample points feature data, [B, D', S]\n",
    "        \"\"\"\n",
    "        xyz = xyz.permute(0, 2, 1)\n",
    "        if points is not None:\n",
    "            points = points.permute(0, 2, 1)\n",
    "\n",
    "        B, N, C = xyz.shape\n",
    "        S = self.npoint\n",
    "        new_xyz = index_points(xyz, farthest_point_sample(xyz, S))\n",
    "        new_points_list = []\n",
    "        for i, radius in enumerate(self.radius_list):\n",
    "            K = self.nsample_list[i]\n",
    "            group_idx = query_ball_point(radius, K, xyz, new_xyz)\n",
    "            grouped_xyz = index_points(xyz, group_idx)\n",
    "            grouped_xyz -= new_xyz.view(B, S, 1, C)\n",
    "            if points is not None:\n",
    "                grouped_points = index_points(points, group_idx)\n",
    "                grouped_points = torch.cat([grouped_points, grouped_xyz], dim=-1)\n",
    "            else:\n",
    "                grouped_points = grouped_xyz\n",
    "\n",
    "            grouped_points = grouped_points.permute(0, 3, 2, 1)  # [B, D, K, S]\n",
    "            for j in range(len(self.conv_blocks[i])):\n",
    "                conv = self.conv_blocks[i][j]\n",
    "                bn = self.bn_blocks[i][j]\n",
    "                grouped_points =  F.relu(bn(conv(grouped_points)))\n",
    "            new_points = torch.max(grouped_points, 2)[0]  # [B, D', S]\n",
    "            new_points_list.append(new_points)\n",
    "\n",
    "        new_xyz = new_xyz.permute(0, 2, 1)\n",
    "        new_points_concat = torch.cat(new_points_list, dim=1)\n",
    "        return new_xyz, new_points_concat\n",
    "\n",
    "\n",
    "class PointNetFeaturePropagation(nn.Module):\n",
    "    def __init__(self, in_channel, mlp):\n",
    "        super(PointNetFeaturePropagation, self).__init__()\n",
    "        self.mlp_convs = nn.ModuleList()\n",
    "        self.mlp_bns = nn.ModuleList()\n",
    "        last_channel = in_channel\n",
    "        for out_channel in mlp:\n",
    "            self.mlp_convs.append(nn.Conv1d(last_channel, out_channel, 1))\n",
    "            self.mlp_bns.append(nn.BatchNorm1d(out_channel))\n",
    "            last_channel = out_channel\n",
    "\n",
    "    def forward(self, xyz1, xyz2, points1, points2):\n",
    "        \"\"\"\n",
    "        Input:\n",
    "            xyz1: input points position data, [B, C, N]\n",
    "            xyz2: sampled input points position data, [B, C, S]\n",
    "            points1: input points data, [B, D, N]\n",
    "            points2: input points data, [B, D, S]\n",
    "        Return:\n",
    "            new_points: upsampled points data, [B, D', N]\n",
    "        \"\"\"\n",
    "        xyz1 = xyz1.permute(0, 2, 1)\n",
    "        xyz2 = xyz2.permute(0, 2, 1)\n",
    "\n",
    "        points2 = points2.permute(0, 2, 1)\n",
    "        B, N, C = xyz1.shape\n",
    "        _, S, _ = xyz2.shape\n",
    "\n",
    "        if S == 1:\n",
    "            interpolated_points = points2.repeat(1, N, 1)\n",
    "        else:\n",
    "            dists = square_distance(xyz1, xyz2)\n",
    "            dists, idx = dists.sort(dim=-1)\n",
    "            dists, idx = dists[:, :, :3], idx[:, :, :3]  # [B, N, 3]\n",
    "\n",
    "            dist_recip = 1.0 / (dists + 1e-8)\n",
    "            norm = torch.sum(dist_recip, dim=2, keepdim=True)\n",
    "            weight = dist_recip / norm\n",
    "            interpolated_points = torch.sum(index_points(points2, idx) * weight.view(B, N, 3, 1), dim=2)\n",
    "\n",
    "        if points1 is not None:\n",
    "            points1 = points1.permute(0, 2, 1)\n",
    "            new_points = torch.cat([points1, interpolated_points], dim=-1)\n",
    "        else:\n",
    "            new_points = interpolated_points\n",
    "\n",
    "        new_points = new_points.permute(0, 2, 1)\n",
    "        for i, conv in enumerate(self.mlp_convs):\n",
    "            bn = self.mlp_bns[i]\n",
    "            new_points = F.relu(bn(conv(new_points)))\n",
    "        return new_points\n",
    "\n"
   ]
  },
  {
   "cell_type": "code",
   "execution_count": 36,
   "metadata": {
    "executionInfo": {
     "elapsed": 1042,
     "status": "ok",
     "timestamp": 1674079810838,
     "user": {
      "displayName": "SUKIDA Tan",
      "userId": "04234593673225449814"
     },
     "user_tz": -60
    },
    "id": "6A7mwh0Y2MxG",
    "tags": []
   },
   "outputs": [],
   "source": [
    "class get_model(nn.Module):\n",
    "    def __init__(self,num_class,normal_channel=True):\n",
    "        super(get_model, self).__init__()\n",
    "        in_channel = 3 if normal_channel else 0\n",
    "        self.normal_channel = normal_channel\n",
    "        self.sa1 = PointNetSetAbstractionMsg(512, [0.1, 0.2, 0.4], [16, 32, 128], in_channel,[[32, 32, 64], [64, 64, 128], [64, 96, 128]])\n",
    "        self.sa2 = PointNetSetAbstractionMsg(128, [0.2, 0.4, 0.8], [32, 64, 128], 320,[[64, 64, 128], [128, 128, 256], [128, 128, 256]])\n",
    "        self.sa3 = PointNetSetAbstraction(None, None, None, 640 + 3, [256, 512, 1024], True)\n",
    "        self.fc1 = nn.Linear(1024, 512)\n",
    "        self.bn1 = nn.BatchNorm1d(512)\n",
    "        self.drop1 = nn.Dropout(0.4)\n",
    "        self.fc2 = nn.Linear(512, 256)\n",
    "        self.bn2 = nn.BatchNorm1d(256)\n",
    "        self.drop2 = nn.Dropout(0.5)\n",
    "        self.fc3 = nn.Linear(256, num_class)\n",
    "\n",
    "    def forward(self, xyz):\n",
    "        B, _, _ = xyz.shape\n",
    "        if self.normal_channel:\n",
    "            norm = xyz[:, 3:, :]\n",
    "            xyz = xyz[:, :3, :]\n",
    "        else:\n",
    "            norm = None\n",
    "        l1_xyz, l1_points = self.sa1(xyz, norm)\n",
    "        l2_xyz, l2_points = self.sa2(l1_xyz, l1_points)\n",
    "        l3_xyz, l3_points = self.sa3(l2_xyz, l2_points)\n",
    "        x = l3_points.view(B, 1024)\n",
    "        x = self.drop1(F.relu(self.bn1(self.fc1(x))))\n",
    "        x = self.drop2(F.relu(self.bn2(self.fc2(x))))\n",
    "        x = self.fc3(x)\n",
    "        x = F.log_softmax(x, -1)\n",
    "\n",
    "\n",
    "        return x,l3_points\n",
    "\n",
    "\n",
    "class get_loss(nn.Module):\n",
    "    def __init__(self):\n",
    "        super(get_loss, self).__init__()\n",
    "\n",
    "    def forward(self, pred, target, trans_feat):\n",
    "        total_loss = F.nll_loss(pred, target)\n",
    "\n",
    "        return total_loss"
   ]
  },
  {
   "cell_type": "code",
   "execution_count": 37,
   "metadata": {},
   "outputs": [],
   "source": [
    "CUDA_LAUNCH_BLOCKING=\"1\""
   ]
  },
  {
   "cell_type": "markdown",
   "metadata": {
    "id": "GnM8yu2G2XVF"
   },
   "source": [
    "# Training\n"
   ]
  },
  {
   "cell_type": "code",
   "execution_count": 38,
   "metadata": {},
   "outputs": [],
   "source": [
    "torch.cuda.empty_cache()"
   ]
  },
  {
   "cell_type": "code",
   "execution_count": 39,
   "metadata": {
    "colab": {
     "base_uri": "https://localhost:8080/"
    },
    "executionInfo": {
     "elapsed": 290,
     "status": "ok",
     "timestamp": 1674079813770,
     "user": {
      "displayName": "SUKIDA Tan",
      "userId": "04234593673225449814"
     },
     "user_tz": -60
    },
    "id": "v2_wk24U2cc-",
    "outputId": "cc19c979-2e04-4161-cafd-b53c425b0a71"
   },
   "outputs": [
    {
     "name": "stdout",
     "output_type": "stream",
     "text": [
      "cuda:0\n"
     ]
    }
   ],
   "source": [
    "device = torch.device(\"cuda:0\" if torch.cuda.is_available() else \"cpu\")\n",
    "print(device)"
   ]
  },
  {
   "cell_type": "code",
   "execution_count": 56,
   "metadata": {},
   "outputs": [
    {
     "name": "stdout",
     "output_type": "stream",
     "text": [
      "cpu\n"
     ]
    }
   ],
   "source": [
    "device = torch.device('cpu')\n",
    "print(device)"
   ]
  },
  {
   "cell_type": "code",
   "execution_count": 40,
   "metadata": {},
   "outputs": [],
   "source": [
    "def inplace_relu(m):\n",
    "    classname = m.__class__.__name__\n",
    "    if classname.find('ReLU') != -1:\n",
    "        m.inplace=True"
   ]
  },
  {
   "cell_type": "code",
   "execution_count": 41,
   "metadata": {},
   "outputs": [],
   "source": [
    "classifier = get_model(8, normal_channel=False)\n",
    "criterion = get_loss()\n",
    "classifier.apply(inplace_relu)\n",
    "\n",
    "classifier = classifier.to(device)\n",
    "criterion = criterion.to(device)\n",
    "\n",
    "optimizer = torch.optim.Adam(classifier.parameters(), lr=0.001)\n",
    "\n",
    "scheduler = torch.optim.lr_scheduler.StepLR(optimizer, step_size=20, gamma=0.7)"
   ]
  },
  {
   "cell_type": "code",
   "execution_count": 44,
   "metadata": {},
   "outputs": [],
   "source": [
    "from tqdm import tqdm"
   ]
  },
  {
   "cell_type": "code",
   "execution_count": 45,
   "metadata": {},
   "outputs": [],
   "source": [
    "def test(model, loader, num_class=8):\n",
    "    mean_correct = []\n",
    "    class_acc = np.zeros((num_class, 3))\n",
    "    classifier = model.eval()\n",
    "\n",
    "    for j, data in tqdm(enumerate(loader), total=len(loader)):\n",
    "\n",
    "        target = data[:,1,3]\n",
    "        target = target.type(torch.LongTensor) \n",
    "        points, target = data[:,:,0:3].to(device).float(), target.to(device)\n",
    "\n",
    "        points = points.transpose(2, 1)\n",
    "        pred, _ = classifier(points)\n",
    "        pred_choice = pred.data.max(1)[1]\n",
    "\n",
    "        for cat in np.unique(target.cpu()):\n",
    "            classacc = pred_choice[target == cat].eq(target[target == cat].long().data).cpu().sum()\n",
    "            class_acc[cat, 0] += classacc.item() / float(points[target == cat].size()[0])\n",
    "            class_acc[cat, 1] += 1\n",
    "\n",
    "        correct = pred_choice.eq(target.long().data).cpu().sum()\n",
    "        mean_correct.append(correct.item() / float(points.size()[0]))\n",
    "\n",
    "    class_acc[:, 2] = class_acc[:, 0] / class_acc[:, 1]\n",
    "    class_acc = np.mean(class_acc[:, 2])\n",
    "    instance_acc = np.mean(mean_correct)\n",
    "\n",
    "    return instance_acc, class_acc"
   ]
  },
  {
   "cell_type": "code",
   "execution_count": 46,
   "metadata": {
    "executionInfo": {
     "elapsed": 288,
     "status": "ok",
     "timestamp": 1674079819088,
     "user": {
      "displayName": "SUKIDA Tan",
      "userId": "04234593673225449814"
     },
     "user_tz": -60
    },
    "id": "XLE6uDz2VfGd"
   },
   "outputs": [],
   "source": [
    "def train(classifier, criterion, train_loader, optimizer, scheduler, val_loader=None, start_epoch = 0, epochs=10, save=True):\n",
    "    \n",
    "    global_epoch = 0\n",
    "    global_step = 0\n",
    "    best_instance_acc = 0.0\n",
    "    best_class_acc = 0.0\n",
    "    \n",
    "    for epoch in range(start_epoch, epochs):\n",
    "        print('Epoch %d (%d/%s):' % (global_epoch + 1, epoch + 1, epochs))\n",
    "        mean_correct = []\n",
    "        classifier = classifier.train()\n",
    "\n",
    "        scheduler.step()\n",
    "        for batch_id, data in tqdm(enumerate(train_loader, 0), total=len(train_loader), smoothing=0.9):\n",
    "            optimizer.zero_grad()\n",
    "            \n",
    "            target = data[:,1,3]\n",
    "            target = target.type(torch.LongTensor) \n",
    "            points, target = data[:,:,0:3].to(device).float(), target.to(device)\n",
    "            points = points.transpose(2, 1)\n",
    "\n",
    "            pred, trans_feat = classifier(points)\n",
    "            loss = criterion(pred, target.long(), trans_feat)\n",
    "            pred_choice = pred.data.max(1)[1]\n",
    "\n",
    "            correct = pred_choice.eq(target.long().data).cpu().sum()\n",
    "            mean_correct.append(correct.item() / float(points.size()[0]))\n",
    "            loss.backward()\n",
    "            optimizer.step()\n",
    "            global_step += 1\n",
    "\n",
    "        train_instance_acc = np.mean(mean_correct)\n",
    "        print('Train Instance Accuracy: %f' % train_instance_acc)\n",
    "\n",
    "        with torch.no_grad():\n",
    "            instance_acc, class_acc = test(classifier.eval(), val_loader, num_class=8)\n",
    "\n",
    "            if (instance_acc >= best_instance_acc):\n",
    "                best_instance_acc = instance_acc\n",
    "                best_epoch = epoch + 1\n",
    "\n",
    "            if (class_acc >= best_class_acc):\n",
    "                best_class_acc = class_acc\n",
    "            print('Test Instance Accuracy: %f, Class Accuracy: %f' % (instance_acc, class_acc))\n",
    "            print('Best Instance Accuracy: %f, Class Accuracy: %f' % (best_instance_acc, best_class_acc))\n",
    "\n",
    "            if (instance_acc >= best_instance_acc):\n",
    "                print('Save model...')\n",
    "                savepath = 'best_model_p2_xyz_ld.pth'\n",
    "                print('Saving at %s' % savepath)\n",
    "                state = {\n",
    "                    'epoch': best_epoch,\n",
    "                    'instance_acc': instance_acc,\n",
    "                    'class_acc': class_acc,\n",
    "                    'model_state_dict': classifier.state_dict(),\n",
    "                    'optimizer_state_dict': optimizer.state_dict(),\n",
    "                }\n",
    "                torch.save(state, savepath)\n",
    "            global_epoch += 1"
   ]
  },
  {
   "cell_type": "code",
   "execution_count": 47,
   "metadata": {},
   "outputs": [],
   "source": [
    "os.environ[\"PYTORCH_CUDA_ALLOC_CONF\"] = \"max_split_size_mb:512\""
   ]
  },
  {
   "cell_type": "code",
   "execution_count": 48,
   "metadata": {
    "colab": {
     "base_uri": "https://localhost:8080/"
    },
    "executionInfo": {
     "elapsed": 5476095,
     "status": "ok",
     "timestamp": 1674085297893,
     "user": {
      "displayName": "SUKIDA Tan",
      "userId": "04234593673225449814"
     },
     "user_tz": -60
    },
    "id": "EOYHr6IW2Qsh",
    "outputId": "703e8b98-e753-43bc-c3b8-ea719bf8ffff"
   },
   "outputs": [
    {
     "name": "stderr",
     "output_type": "stream",
     "text": [
      "D:\\Anaconda\\Anaconda_py3.9\\lib\\site-packages\\torch\\optim\\lr_scheduler.py:138: UserWarning: Detected call of `lr_scheduler.step()` before `optimizer.step()`. In PyTorch 1.1.0 and later, you should call them in the opposite order: `optimizer.step()` before `lr_scheduler.step()`.  Failure to do this will result in PyTorch skipping the first value of the learning rate schedule. See more details at https://pytorch.org/docs/stable/optim.html#how-to-adjust-learning-rate\n",
      "  warnings.warn(\"Detected call of `lr_scheduler.step()` before `optimizer.step()`. \"\n"
     ]
    },
    {
     "name": "stdout",
     "output_type": "stream",
     "text": [
      "Epoch 1 (1/10):\n"
     ]
    },
    {
     "name": "stderr",
     "output_type": "stream",
     "text": [
      "100%|██████████████████████████████████████████████████████████████████████████████| 2677/2677 [09:33<00:00,  4.67it/s]\n"
     ]
    },
    {
     "name": "stdout",
     "output_type": "stream",
     "text": [
      "Train Instance Accuracy: 0.852260\n"
     ]
    },
    {
     "name": "stderr",
     "output_type": "stream",
     "text": [
      "100%|████████████████████████████████████████████████████████████████████████████████| 893/893 [02:19<00:00,  6.40it/s]\n"
     ]
    },
    {
     "name": "stdout",
     "output_type": "stream",
     "text": [
      "Test Instance Accuracy: 0.881579, Class Accuracy: 0.755104\n",
      "Best Instance Accuracy: 0.881579, Class Accuracy: 0.755104\n",
      "Save model...\n",
      "Saving at best_model_p2_xyz_ld.pth\n",
      "Epoch 2 (2/10):\n"
     ]
    },
    {
     "name": "stderr",
     "output_type": "stream",
     "text": [
      "100%|██████████████████████████████████████████████████████████████████████████████| 2677/2677 [09:27<00:00,  4.72it/s]\n"
     ]
    },
    {
     "name": "stdout",
     "output_type": "stream",
     "text": [
      "Train Instance Accuracy: 0.847777\n"
     ]
    },
    {
     "name": "stderr",
     "output_type": "stream",
     "text": [
      "100%|████████████████████████████████████████████████████████████████████████████████| 893/893 [02:21<00:00,  6.31it/s]\n"
     ]
    },
    {
     "name": "stdout",
     "output_type": "stream",
     "text": [
      "Test Instance Accuracy: 0.855263, Class Accuracy: 0.714567\n",
      "Best Instance Accuracy: 0.881579, Class Accuracy: 0.755104\n",
      "Epoch 3 (3/10):\n"
     ]
    },
    {
     "name": "stderr",
     "output_type": "stream",
     "text": [
      "100%|██████████████████████████████████████████████████████████████████████████████| 2677/2677 [09:23<00:00,  4.75it/s]\n"
     ]
    },
    {
     "name": "stdout",
     "output_type": "stream",
     "text": [
      "Train Instance Accuracy: 0.853754\n"
     ]
    },
    {
     "name": "stderr",
     "output_type": "stream",
     "text": [
      "100%|████████████████████████████████████████████████████████████████████████████████| 893/893 [02:19<00:00,  6.38it/s]\n"
     ]
    },
    {
     "name": "stdout",
     "output_type": "stream",
     "text": [
      "Test Instance Accuracy: 0.800392, Class Accuracy: 0.686476\n",
      "Best Instance Accuracy: 0.881579, Class Accuracy: 0.755104\n",
      "Epoch 4 (4/10):\n"
     ]
    },
    {
     "name": "stderr",
     "output_type": "stream",
     "text": [
      "100%|██████████████████████████████████████████████████████████████████████████████| 2677/2677 [09:28<00:00,  4.70it/s]\n"
     ]
    },
    {
     "name": "stdout",
     "output_type": "stream",
     "text": [
      "Train Instance Accuracy: 0.854128\n"
     ]
    },
    {
     "name": "stderr",
     "output_type": "stream",
     "text": [
      "100%|████████████████████████████████████████████████████████████████████████████████| 893/893 [02:22<00:00,  6.28it/s]\n"
     ]
    },
    {
     "name": "stdout",
     "output_type": "stream",
     "text": [
      "Test Instance Accuracy: 0.857503, Class Accuracy: 0.738144\n",
      "Best Instance Accuracy: 0.881579, Class Accuracy: 0.755104\n",
      "Epoch 5 (5/10):\n"
     ]
    },
    {
     "name": "stderr",
     "output_type": "stream",
     "text": [
      "100%|██████████████████████████████████████████████████████████████████████████████| 2677/2677 [09:28<00:00,  4.71it/s]\n"
     ]
    },
    {
     "name": "stdout",
     "output_type": "stream",
     "text": [
      "Train Instance Accuracy: 0.859638\n"
     ]
    },
    {
     "name": "stderr",
     "output_type": "stream",
     "text": [
      "100%|████████████████████████████████████████████████████████████████████████████████| 893/893 [02:20<00:00,  6.34it/s]\n"
     ]
    },
    {
     "name": "stdout",
     "output_type": "stream",
     "text": [
      "Test Instance Accuracy: 0.896697, Class Accuracy: 0.755747\n",
      "Best Instance Accuracy: 0.896697, Class Accuracy: 0.755747\n",
      "Save model...\n",
      "Saving at best_model_p2_xyz_ld.pth\n",
      "Epoch 6 (6/10):\n"
     ]
    },
    {
     "name": "stderr",
     "output_type": "stream",
     "text": [
      "100%|██████████████████████████████████████████████████████████████████████████████| 2677/2677 [09:25<00:00,  4.74it/s]\n"
     ]
    },
    {
     "name": "stdout",
     "output_type": "stream",
     "text": [
      "Train Instance Accuracy: 0.858610\n"
     ]
    },
    {
     "name": "stderr",
     "output_type": "stream",
     "text": [
      "100%|████████████████████████████████████████████████████████████████████████████████| 893/893 [02:19<00:00,  6.39it/s]\n"
     ]
    },
    {
     "name": "stdout",
     "output_type": "stream",
     "text": [
      "Test Instance Accuracy: 0.899496, Class Accuracy: 0.733037\n",
      "Best Instance Accuracy: 0.899496, Class Accuracy: 0.755747\n",
      "Save model...\n",
      "Saving at best_model_p2_xyz_ld.pth\n",
      "Epoch 7 (7/10):\n"
     ]
    },
    {
     "name": "stderr",
     "output_type": "stream",
     "text": [
      "100%|██████████████████████████████████████████████████████████████████████████████| 2677/2677 [09:26<00:00,  4.73it/s]\n"
     ]
    },
    {
     "name": "stdout",
     "output_type": "stream",
     "text": [
      "Train Instance Accuracy: 0.868603\n"
     ]
    },
    {
     "name": "stderr",
     "output_type": "stream",
     "text": [
      "100%|████████████████████████████████████████████████████████████████████████████████| 893/893 [02:19<00:00,  6.39it/s]\n"
     ]
    },
    {
     "name": "stdout",
     "output_type": "stream",
     "text": [
      "Test Instance Accuracy: 0.870661, Class Accuracy: 0.707328\n",
      "Best Instance Accuracy: 0.899496, Class Accuracy: 0.755747\n",
      "Epoch 8 (8/10):\n"
     ]
    },
    {
     "name": "stderr",
     "output_type": "stream",
     "text": [
      "100%|██████████████████████████████████████████████████████████████████████████████| 2677/2677 [09:41<00:00,  4.60it/s]\n"
     ]
    },
    {
     "name": "stdout",
     "output_type": "stream",
     "text": [
      "Train Instance Accuracy: 0.865054\n"
     ]
    },
    {
     "name": "stderr",
     "output_type": "stream",
     "text": [
      "100%|████████████████████████████████████████████████████████████████████████████████| 893/893 [02:20<00:00,  6.34it/s]\n"
     ]
    },
    {
     "name": "stdout",
     "output_type": "stream",
     "text": [
      "Test Instance Accuracy: 0.890538, Class Accuracy: 0.717440\n",
      "Best Instance Accuracy: 0.899496, Class Accuracy: 0.755747\n",
      "Epoch 9 (9/10):\n"
     ]
    },
    {
     "name": "stderr",
     "output_type": "stream",
     "text": [
      "100%|██████████████████████████████████████████████████████████████████████████████| 2677/2677 [09:20<00:00,  4.77it/s]\n"
     ]
    },
    {
     "name": "stdout",
     "output_type": "stream",
     "text": [
      "Train Instance Accuracy: 0.866642\n"
     ]
    },
    {
     "name": "stderr",
     "output_type": "stream",
     "text": [
      "100%|████████████████████████████████████████████████████████████████████████████████| 893/893 [04:13<00:00,  3.52it/s]\n"
     ]
    },
    {
     "name": "stdout",
     "output_type": "stream",
     "text": [
      "Test Instance Accuracy: 0.901456, Class Accuracy: 0.799170\n",
      "Best Instance Accuracy: 0.901456, Class Accuracy: 0.799170\n",
      "Save model...\n",
      "Saving at best_model_p2_xyz_ld.pth\n",
      "Epoch 10 (10/10):\n"
     ]
    },
    {
     "name": "stderr",
     "output_type": "stream",
     "text": [
      "100%|██████████████████████████████████████████████████████████████████████████████| 2677/2677 [11:22<00:00,  3.92it/s]\n"
     ]
    },
    {
     "name": "stdout",
     "output_type": "stream",
     "text": [
      "Train Instance Accuracy: 0.870471\n"
     ]
    },
    {
     "name": "stderr",
     "output_type": "stream",
     "text": [
      "100%|████████████████████████████████████████████████████████████████████████████████| 893/893 [02:20<00:00,  6.34it/s]\n"
     ]
    },
    {
     "name": "stdout",
     "output_type": "stream",
     "text": [
      "Test Instance Accuracy: 0.901456, Class Accuracy: 0.784578\n",
      "Best Instance Accuracy: 0.901456, Class Accuracy: 0.799170\n",
      "Save model...\n",
      "Saving at best_model_p2_xyz_ld.pth\n"
     ]
    }
   ],
   "source": [
    "train(classifier, criterion, train_loader, optimizer, scheduler, valid_loader,  save=False)"
   ]
  },
  {
   "cell_type": "markdown",
   "metadata": {
    "id": "rdIlrnXh2UX9"
   },
   "source": [
    "# Test"
   ]
  },
  {
   "cell_type": "code",
   "execution_count": 49,
   "metadata": {
    "executionInfo": {
     "elapsed": 269,
     "status": "ok",
     "timestamp": 1674085428035,
     "user": {
      "displayName": "SUKIDA Tan",
      "userId": "04234593673225449814"
     },
     "user_tz": -60
    },
    "id": "mNefMkzH2Wvw"
   },
   "outputs": [],
   "source": [
    "from sklearn.metrics import confusion_matrix"
   ]
  },
  {
   "cell_type": "code",
   "execution_count": 50,
   "metadata": {
    "id": "h2u-0bwC2X_Y"
   },
   "outputs": [
    {
     "data": {
      "text/plain": [
       "<All keys matched successfully>"
      ]
     },
     "execution_count": 50,
     "metadata": {},
     "output_type": "execute_result"
    }
   ],
   "source": [
    "checkpoint = torch.load('best_model_p2_xyz_ld.pth')\n",
    "classifier.load_state_dict(checkpoint['model_state_dict'])"
   ]
  },
  {
   "cell_type": "code",
   "execution_count": 51,
   "metadata": {},
   "outputs": [],
   "source": [
    "def test(model, test_loader, num_class=8, vote_num=1):\n",
    "    mean_correct = []\n",
    "    classifier = model.eval()\n",
    "    class_acc = np.zeros((num_class, 3))\n",
    "    all_preds = []\n",
    "    all_labels = []\n",
    "\n",
    "    for j, data in tqdm(enumerate(test_loader), total=len(test_loader)):\n",
    "        \n",
    "        target = data[:,1,3]\n",
    "        target = target.type(torch.LongTensor) \n",
    "        points, target = data[:,:,0:3].to(device).float(), target.to(device)\n",
    "        points = points.transpose(2, 1)\n",
    "        vote_pool = torch.zeros(target.size()[0], num_class).cuda()\n",
    "\n",
    "        for _ in range(vote_num):\n",
    "            pred, _ = classifier(points)\n",
    "            vote_pool += pred\n",
    "        pred = vote_pool / vote_num\n",
    "        pred_choice = pred.data.max(1)[1]\n",
    "        all_preds += list(pred_choice.cpu().numpy())\n",
    "        all_labels += list(target.cpu().numpy())\n",
    "\n",
    "        for cat in np.unique(target.cpu()):\n",
    "            classacc = pred_choice[target == cat].eq(target[target == cat].long().data).cpu().sum()\n",
    "            class_acc[cat, 0] += classacc.item() / float(points[target == cat].size()[0])\n",
    "            class_acc[cat, 1] += 1\n",
    "        correct = pred_choice.eq(target.long().data).cpu().sum()\n",
    "        mean_correct.append(correct.item() / float(points.size()[0]))\n",
    "\n",
    "    \n",
    "    for i in range(num_class):\n",
    "        if class_acc[i,1]>0:\n",
    "            class_acc[i, 2] = class_acc[i, 0] / class_acc[i, 1]\n",
    "    class_acc = np.mean(class_acc[:, 2])\n",
    "    instance_acc = np.mean(mean_correct)\n",
    "    return instance_acc, class_acc, all_preds, all_labels"
   ]
  },
  {
   "cell_type": "code",
   "execution_count": 52,
   "metadata": {},
   "outputs": [
    {
     "name": "stderr",
     "output_type": "stream",
     "text": [
      "100%|██████████████████████████████████████████████████████████████████████████████| 1030/1030 [02:44<00:00,  6.25it/s]\n"
     ]
    }
   ],
   "source": [
    "ins_acc, cla_acc, all_preds, all_labels = test(classifier.eval(), test_loader)"
   ]
  },
  {
   "cell_type": "code",
   "execution_count": 53,
   "metadata": {},
   "outputs": [
    {
     "name": "stdout",
     "output_type": "stream",
     "text": [
      "0.4620581681230393\n",
      "0.7536407766990292\n"
     ]
    }
   ],
   "source": [
    "print(cla_acc)\n",
    "print(ins_acc)"
   ]
  },
  {
   "cell_type": "code",
   "execution_count": 54,
   "metadata": {
    "colab": {
     "base_uri": "https://localhost:8080/"
    },
    "executionInfo": {
     "elapsed": 376,
     "status": "ok",
     "timestamp": 1674088910585,
     "user": {
      "displayName": "SUKIDA Tan",
      "userId": "04234593673225449814"
     },
     "user_tz": -60
    },
    "id": "LvqVmt0i2ds3",
    "outputId": "2f890904-33c1-49e0-c5a9-7ba544a7cef6"
   },
   "outputs": [
    {
     "name": "stdout",
     "output_type": "stream",
     "text": [
      "[1624  487   33  697 1045  234]\n",
      "[1886  388   19  571  999  223   24   10]\n",
      "[[1336  161    3   80   37    0    4    3]\n",
      " [ 225  196    2   13   45    0    5    1]\n",
      " [  30    1    0    1    1    0    0    0]\n",
      " [ 154   23   11  470   36    0    0    3]\n",
      " [ 131    7    3    6  880    0   15    3]\n",
      " [  10    0    0    1    0  223    0    0]\n",
      " [   0    0    0    0    0    0    0    0]\n",
      " [   0    0    0    0    0    0    0    0]]\n",
      "0.7536407766990292\n"
     ]
    }
   ],
   "source": [
    "cm = confusion_matrix(all_labels, all_preds);\n",
    "cm\n",
    "print(np.bincount(all_labels))\n",
    "print(np.bincount(all_preds))\n",
    "print(cm)\n",
    "\n",
    "correct_rate = np.diagonal(cm).sum()/cm.sum()\n",
    "print(correct_rate)"
   ]
  },
  {
   "cell_type": "code",
   "execution_count": 55,
   "metadata": {
    "colab": {
     "base_uri": "https://localhost:8080/"
    },
    "executionInfo": {
     "elapsed": 245,
     "status": "ok",
     "timestamp": 1674086880589,
     "user": {
      "displayName": "SUKIDA Tan",
      "userId": "04234593673225449814"
     },
     "user_tz": -60
    },
    "id": "jQryCKH4R1FW",
    "outputId": "528acf69-4698-4cea-be2a-ded3b34f69d9"
   },
   "outputs": [
    {
     "data": {
      "text/plain": [
       "{'wall & balcony & ..': 0,\n",
       " 'window & blinds': 1,\n",
       " 'door': 2,\n",
       " 'molding & decoration': 3,\n",
       " 'ground surface & terrian': 4,\n",
       " 'roof & others': 5,\n",
       " 'column': 6,\n",
       " 'arch': 7}"
      ]
     },
     "execution_count": 55,
     "metadata": {},
     "output_type": "execute_result"
    }
   ],
   "source": [
    "classes = {'wall & balcony & ..': 0,\n",
    "           'window & blinds': 1,\n",
    "           'door': 2,\n",
    "           'molding & decoration': 3,\n",
    "           'ground surface & terrian': 4,\n",
    "           'roof & others': 5,\n",
    "           'column': 6,\n",
    "           'arch': 7\n",
    "           }\n",
    "classes\n",
    "cla_test = {'wall & balcony & ..': 0,\n",
    "           'window & blinds': 1,\n",
    "           'door': 2,\n",
    "           'molding & decoration': 3,\n",
    "           'ground surface & terrian': 4,\n",
    "           'roof & others': 5,\n",
    "           'column': 6,\n",
    "           'arch': 7}\n",
    "cla_test"
   ]
  },
  {
   "cell_type": "code",
   "execution_count": 56,
   "metadata": {
    "executionInfo": {
     "elapsed": 235,
     "status": "ok",
     "timestamp": 1674086267324,
     "user": {
      "displayName": "SUKIDA Tan",
      "userId": "04234593673225449814"
     },
     "user_tz": -60
    },
    "id": "MvIkJrRI2g8L"
   },
   "outputs": [],
   "source": [
    "import itertools\n",
    "import numpy as np\n",
    "import matplotlib.pyplot as plt\n",
    "\n",
    "# function from https://deeplizard.com/learn/video/0LhiS6yu2qQ\n",
    "def plot_confusion_matrix(cm, classes, normalize=False, title='Confusion matrix', cmap=plt.cm.Blues):\n",
    "    if normalize:\n",
    "        cm = cm.astype('float') / cm.sum(axis=1)[:, np.newaxis]\n",
    "        print(\"Normalized confusion matrix\")\n",
    "    else:\n",
    "        print('Confusion matrix, without normalization')\n",
    "\n",
    "    plt.imshow(cm, interpolation='nearest', cmap=cmap)\n",
    "    plt.title(title)\n",
    "    plt.colorbar()\n",
    "    tick_marks = np.arange(len(classes))\n",
    "    plt.xticks(tick_marks, classes, rotation=45)\n",
    "    plt.yticks(tick_marks, classes)\n",
    "\n",
    "    fmt = '.2f' if normalize else 'd'\n",
    "    thresh = cm.max() / 2.\n",
    "    for i, j in itertools.product(range(cm.shape[0]), range(cm.shape[1])):\n",
    "        plt.text(j, i, format(cm[i, j], fmt), horizontalalignment=\"center\", color=\"white\" if cm[i, j] > thresh else \"black\")\n",
    "\n",
    "    plt.tight_layout()\n",
    "    plt.ylabel('True label')\n",
    "    plt.xlabel('Predicted label')"
   ]
  },
  {
   "cell_type": "code",
   "execution_count": 57,
   "metadata": {
    "colab": {
     "base_uri": "https://localhost:8080/",
     "height": 652
    },
    "executionInfo": {
     "elapsed": 830,
     "status": "ok",
     "timestamp": 1674086917326,
     "user": {
      "displayName": "SUKIDA Tan",
      "userId": "04234593673225449814"
     },
     "user_tz": -60
    },
    "id": "YJeGeH212i6h",
    "outputId": "72dd3fa4-5411-44bb-c876-8f1e7cb6d839"
   },
   "outputs": [
    {
     "name": "stderr",
     "output_type": "stream",
     "text": [
      "C:\\Users\\15597\\AppData\\Local\\Temp\\ipykernel_16716\\1214108877.py:8: RuntimeWarning: invalid value encountered in true_divide\n",
      "  cm = cm.astype('float') / cm.sum(axis=1)[:, np.newaxis]\n"
     ]
    },
    {
     "name": "stdout",
     "output_type": "stream",
     "text": [
      "Normalized confusion matrix\n"
     ]
    },
    {
     "data": {
      "image/png": "[encoded data removed]",
      "text/plain": [
       "<Figure size 800x800 with 2 Axes>"
      ]
     },
     "metadata": {},
     "output_type": "display_data"
    }
   ],
   "source": [
    "plt.figure(figsize=(8,8))\n",
    "plot_confusion_matrix(cm, list(cla_test.keys()), normalize=True)"
   ]
  },
  {
   "cell_type": "code",
   "execution_count": 58,
   "metadata": {
    "colab": {
     "base_uri": "https://localhost:8080/",
     "height": 580
    },
    "executionInfo": {
     "elapsed": 1205,
     "status": "ok",
     "timestamp": 1674086946985,
     "user": {
      "displayName": "SUKIDA Tan",
      "userId": "04234593673225449814"
     },
     "user_tz": -60
    },
    "id": "9FeHmyzh2mZq",
    "outputId": "8cb5c54e-31e6-448c-c9c5-5b8b2c48c0bf"
   },
   "outputs": [
    {
     "name": "stdout",
     "output_type": "stream",
     "text": [
      "Confusion matrix, without normalization\n"
     ]
    },
    {
     "data": {
      "image/png": "[encoded data removed]",
      "text/plain": [
       "<Figure size 800x800 with 2 Axes>"
      ]
     },
     "metadata": {},
     "output_type": "display_data"
    }
   ],
   "source": [
    "plt.figure(figsize=(8,8))\n",
    "plot_confusion_matrix(cm, list(cla_test.keys()), normalize=False)"
   ]
  },
  {
   "cell_type": "code",
   "execution_count": null,
   "metadata": {},
   "outputs": [],
   "source": []
  }
 ],
 "metadata": {
  "accelerator": "GPU",
  "colab": {
   "authorship_tag": "ABX9TyOps7S6O6rs3xgWiavpNy6T",
   "collapsed_sections": [
    "be8RFvYTsfYE",
    "sSRH6VAGf7Xw",
    "N0FRlJOh2EuO"
   ],
   "provenance": [],
   "toc_visible": true
  },
  "gpuClass": "standard",
  "kernelspec": {
   "display_name": "Python 3 (ipykernel)",
   "language": "python",
   "name": "python3"
  },
  "language_info": {
   "codemirror_mode": {
    "name": "ipython",
    "version": 3
   },
   "file_extension": ".py",
   "mimetype": "text/x-python",
   "name": "python",
   "nbconvert_exporter": "python",
   "pygments_lexer": "ipython3",
   "version": "3.9.13"
  }
 },
 "nbformat": 4,
 "nbformat_minor": 4
}
