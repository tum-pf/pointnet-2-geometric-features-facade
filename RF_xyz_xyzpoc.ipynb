{
 "cells": [
  {
   "cell_type": "code",
   "execution_count": 1,
   "id": "9c7438f6-45c7-4ccb-be39-d4e0a12d24ee",
   "metadata": {},
   "outputs": [
    {
     "name": "stdout",
     "output_type": "stream",
     "text": [
      "Jupyter environment detected. Enabling Open3D WebVisualizer.\n",
      "[Open3D INFO] WebRTC GUI backend enabled.\n",
      "[Open3D INFO] WebRTCWindowSystem: HTTP handshake server disabled.\n"
     ]
    }
   ],
   "source": [
    "import numpy as np\n",
    "import matplotlib.pylab as plt\n",
    "from mpl_toolkits.mplot3d import Axes3D\n",
    "import pandas as pd\n",
    "from sklearn.model_selection import train_test_split\n",
    "from sklearn.ensemble import RandomForestClassifier\n",
    "import open3d as o3d    \n",
    "# import laspy\n",
    "\n",
    "def PCA(data, correlation=False, sort=True):\n",
    "    average_data = np.mean(data,axis=0)       # calulating the centroid\n",
    "    decentration_matrix = data - average_data   # move the origin to the centroid\n",
    "    H = np.dot(decentration_matrix.T,decentration_matrix)  # calculating decentration_matrix H\n",
    "    eigenvectors,eigenvalues,eigenvectors_T = np.linalg.svd(H)    # SVD - eigenvalue,eigenvector\n",
    "\n",
    "\n",
    "    if sort:\n",
    "        sort = eigenvalues.argsort()[::-1]      # sorting as main component\n",
    "        eigenvalues = eigenvalues[sort]         \n",
    "        eigenvectors = eigenvectors[:, sort]\n",
    "\n",
    "    return eigenvalues, eigenvectors\n",
    "\n",
    "def collFeatures(pcd,length,size = 0.8):\n",
    "    pcd_tree = o3d.geometry.KDTreeFlann(pcd)  #set a kd tree for tha point cloud, make searching faster\n",
    "    normals = []\n",
    "    llambda = []\n",
    "    lp = []\n",
    "    lo = []\n",
    "    lc = []\n",
    "    non_idx = []\n",
    "    # print(point_cloud_o3d)  #geometry::PointCloud with 10000 points.\n",
    "    print(length) #10000\n",
    "    for i in range(length):\n",
    "        # search_knn_vector_3d， input[point，x]      returns [int, open3d.utility.IntVector, open3d.utility.DoubleVector]\n",
    "        [_, idx, _] = pcd_tree.search_radius_vector_3d(pcd.points[i], size)  \n",
    "        # asarray is the same as array  but asarray will save the memeory\n",
    "        k_nearest_point = np.asarray(pcd.points)[idx, :]  #find the surrounding points for each point, set them as a curve and use PCA to find the normal\n",
    "        lamb, v = PCA(k_nearest_point)\n",
    "        if len(k_nearest_point) == 1:\n",
    "            non_idx.append(i)  # record the index that has no knn point\n",
    "            p = 0\n",
    "            o = 0\n",
    "            c = 0\n",
    "        else:\n",
    "            p = (lamb[1]-lamb[2])/lamb[0] # calculate features based on eigenvalues\n",
    "            o = pow(lamb[0]*lamb[1]*lamb[2],1.0/3.0)\n",
    "            c = lamb[2]/sum(lamb)\n",
    "        normals.append(v[:, 1])\n",
    "        llambda.append(lamb)\n",
    "        lp.append(p)\n",
    "        lo.append(o)\n",
    "        lc.append(c)\n",
    "    return np.array(normals),np.array(llambda),np.array(lp).reshape(length,-1),np.array(lo).reshape(length,-1),np.array(lc).reshape(length,-1), np.array(non_idx)"
   ]
  },
  {
   "cell_type": "markdown",
   "id": "a97f4495-dba1-4cbb-9f8f-61c1d5e2db94",
   "metadata": {},
   "source": [
    "# Data Load"
   ]
  },
  {
   "cell_type": "code",
   "execution_count": 2,
   "id": "8fcf8de4-76b9-47ba-8c64-22c845216a9f",
   "metadata": {},
   "outputs": [
    {
     "name": "stdout",
     "output_type": "stream",
     "text": [
      "1     2869200\n",
      "2      826645\n",
      "5      746775\n",
      "12     378061\n",
      "16     366536\n",
      "17     209118\n",
      "3      111354\n",
      "15      35457\n",
      "11      22421\n",
      "9        7342\n",
      "13       1932\n",
      "6        1319\n",
      "14        731\n",
      "Name: cla, dtype: int64\n",
      "5576891\n",
      "1     417280\n",
      "2     276623\n",
      "16    177257\n",
      "5      93060\n",
      "13     41630\n",
      "17     24679\n",
      "12     14055\n",
      "3       4101\n",
      "4       1072\n",
      "9        682\n",
      "Name: cla, dtype: int64\n",
      "1050439\n"
     ]
    }
   ],
   "source": [
    "######################### using pandas for point reading ################\n",
    "lxyz = pd.read_csv('./data/training/labelledLocalCRS/DEBY_LOD2_4959322/DEBY_LOD2_4959322.xyz', sep=\" \", header=0)\n",
    "lxyz.columns = [\"x\", \"y\", \"z\", \"cla\"]\n",
    "print(lxyz.cla.value_counts())\n",
    "print(len(lxyz))\n",
    "\n",
    "lxyz_test = pd.read_csv('./data/test/labelledLocalCRS/DEBY_LOD2_4959459/DEBY_LOD2_4959459.xyz', sep=\" \", header=0)\n",
    "lxyz_test.columns = [\"x\", \"y\", \"z\", \"cla\"]\n",
    "print(lxyz_test.cla.value_counts())\n",
    "print(len(lxyz_test))"
   ]
  },
  {
   "cell_type": "code",
   "execution_count": 2,
   "id": "a406247d-5646-49d0-ae2d-592c2bbc924d",
   "metadata": {},
   "outputs": [
    {
     "name": "stdout",
     "output_type": "stream",
     "text": [
      "1     36429131\n",
      "16     7566216\n",
      "11     7534665\n",
      "5      7056168\n",
      "2      6351914\n",
      "12     5938935\n",
      "15     3797046\n",
      "17     3600867\n",
      "7      1393392\n",
      "3       691885\n",
      "6       475590\n",
      "10      419409\n",
      "14      304608\n",
      "8       220774\n",
      "13       49393\n",
      "9        29398\n",
      "Name: cla, dtype: int64\n",
      "81859391\n",
      "1     19125652\n",
      "5      6440977\n",
      "2      3448050\n",
      "12     1979855\n",
      "16     1911652\n",
      "17     1746219\n",
      "6       628964\n",
      "3       288073\n",
      "14      242680\n",
      "13       24642\n",
      "Name: cla, dtype: int64\n"
     ]
    }
   ],
   "source": [
    "lxyz_1 = pd.read_csv('./data/training/labelledLocalCRS/DEBY_LOD2_4906981/DEBY_LOD2_4906981.xyz', sep=\" \", header=0)\n",
    "lxyz_1.columns = [\"x\", \"y\", \"z\", \"cla\"]\n",
    "lxyz_2 = pd.read_csv('./data/training/labelledLocalCRS/DEBY_LOD2_4959322/DEBY_LOD2_4959322.xyz', sep=\" \", header=0)\n",
    "lxyz_2.columns = [\"x\", \"y\", \"z\", \"cla\"]\n",
    "lxyz_3 = pd.read_csv('./data/training/labelledLocalCRS/DEBY_LOD2_4959460/DEBY_LOD2_4959460.xyz', sep=\" \", header=0)\n",
    "lxyz_3.columns = [\"x\", \"y\", \"z\", \"cla\"]\n",
    "lxyz_4 = pd.read_csv('./data/training/labelledLocalCRS/DEBY_LOD2_4959462/DEBY_LOD2_4959462.xyz', sep=\" \", header=0)\n",
    "lxyz_4.columns = [\"x\", \"y\", \"z\", \"cla\"]\n",
    "lxyz = pd.concat([lxyz_1, lxyz_2, lxyz_3, lxyz_4], axis = 0)\n",
    "print(lxyz.cla.value_counts())\n",
    "print(len(lxyz))\n",
    "\n",
    "lxyz_test = pd.read_csv('./data/training/labelledLocalCRS/DEBY_LOD2_4959323/DEBY_LOD2_4959323.xyz', sep=\" \", header=0)\n",
    "lxyz_test.columns = [\"x\", \"y\", \"z\", \"cla\"]\n",
    "print(lxyz_test.cla.value_counts())\n",
    "print(len(lxyz_test))"
   ]
  },
  {
   "cell_type": "code",
   "execution_count": 15,
   "id": "99fe618d-7f23-4ebc-93f3-f4915f99c477",
   "metadata": {},
   "outputs": [
    {
     "name": "stdout",
     "output_type": "stream",
     "text": [
      "                x      y      z         p           o         c        n1  \\\n",
      "0        4.400000   5.60  11.00  0.889916  139.555687  0.034776  0.831919   \n",
      "1        4.400000   5.65   9.80  0.862543  174.456555  0.040476 -0.937781   \n",
      "2        4.400000   5.95   2.25  0.720397  376.340517  0.084192  0.758971   \n",
      "3        4.400000   6.00   1.65  0.325332  283.398300  0.142658 -0.455799   \n",
      "4        4.400000   5.80   2.90  0.760750  349.709760  0.078349  0.629671   \n",
      "...           ...    ...    ...       ...         ...       ...       ...   \n",
      "1241127  1.550000   6.95   7.25  0.265804  202.062927  0.112716  0.379005   \n",
      "1241128  1.550000   7.00   7.60  0.432654  241.693884  0.088374 -0.496047   \n",
      "1241129  1.550000   6.90   7.25  0.294161  214.719354  0.110785  0.317526   \n",
      "1241130 -9.150001  11.45   7.10  0.322439   96.122849  0.084484 -0.711721   \n",
      "1241131 -9.350000  11.30   5.30  0.403567  147.471003  0.076126  0.551258   \n",
      "\n",
      "               n2        n3          l1          l2          l3  \n",
      "0       -0.266723 -0.486590  342.159866  328.662887   24.169234  \n",
      "1        0.312998  0.150328  409.218574  386.535977   33.567316  \n",
      "2       -0.639324  0.123401  699.386299  625.648929  121.813411  \n",
      "3       -0.637798  0.620855  526.388947  310.506976  139.255898  \n",
      "4       -0.641620  0.437994  656.421599  606.753640  107.381139  \n",
      "...           ...       ...         ...         ...         ...  \n",
      "1241127 -0.724285 -0.575992  463.428975  208.545498   85.364229  \n",
      "1241128  0.413231  0.763661  538.944969  316.062362   82.885732  \n",
      "1241129 -0.764079 -0.561570  482.548745  230.824172   88.877351  \n",
      "1241130  0.505537  0.487736  243.620677  111.305622   32.752817  \n",
      "1241131 -0.833320  0.041142  363.542946  192.534146   45.820140  \n",
      "\n",
      "[1241132 rows x 12 columns]\n"
     ]
    }
   ],
   "source": [
    "lxyz_train = pd.read_csv('./data/outputs/lxyz_train_xyzpocn.csv',index_col = False)\n",
    "print(lxyz_train)"
   ]
  },
  {
   "cell_type": "code",
   "execution_count": 16,
   "id": "2bb6715f-58f9-4673-900b-3a593741735a",
   "metadata": {},
   "outputs": [
    {
     "name": "stdout",
     "output_type": "stream",
     "text": [
      "            x          y          z         p          o         c        n1  \\\n",
      "0       14.25  12.950000   7.150000  0.117071   0.095071  0.023735  0.596763   \n",
      "1       14.20  12.850000  19.150000  0.074767  17.740876  0.175874  0.938729   \n",
      "2       14.20  12.800000  19.150000  0.080304  19.920146  0.159482  0.945373   \n",
      "3       14.20  12.950000  19.200001  0.054315  12.568280  0.239675 -0.905330   \n",
      "4       14.20  12.650001  19.600000  0.124446  25.038166  0.095084  0.944082   \n",
      "...       ...        ...        ...       ...        ...       ...       ...   \n",
      "627576 -13.80 -12.100000   1.600000  0.162190  40.424178  0.073496  0.882015   \n",
      "627577 -13.80 -12.150001   1.600000  0.157458  46.817645  0.084224  0.860524   \n",
      "627578 -13.80 -11.950000   1.550000  0.274379  15.954391  0.031064  0.954728   \n",
      "627579 -13.85 -12.050000   1.600000  0.167637  29.673507  0.058562  0.896538   \n",
      "627580 -13.85 -11.750000   1.600000  0.333941   5.438617  0.008600  0.999530   \n",
      "\n",
      "              n2        n3          l1         l2         l3  \n",
      "0      -0.053219  0.800651    0.597247   0.086545   0.016625  \n",
      "1      -0.336146  0.076119   37.389544  13.697890  10.902380  \n",
      "2      -0.321293  0.055145   45.428023  15.140520  11.492457  \n",
      "3       0.410512 -0.108895   19.643622  10.600784   9.533844  \n",
      "4      -0.325949  0.049672   77.393937  19.849186  10.217811  \n",
      "...          ...       ...         ...        ...        ...  \n",
      "627576 -0.452860  0.130261  135.986943  35.672947  13.617187  \n",
      "627577 -0.484578  0.157110  147.155325  40.422470  17.251619  \n",
      "627578 -0.297292  0.010576   67.232417  21.285030   2.837838  \n",
      "627579 -0.437825  0.067294  111.238593  27.263077   8.615416  \n",
      "627580 -0.000719  0.030649   34.163937  11.807541   0.398784  \n",
      "\n",
      "[627581 rows x 12 columns]\n"
     ]
    }
   ],
   "source": [
    "lxyz_test = pd.read_csv('./data/outputs/lxyz_test_xyzpocn.csv',index_col = False)\n",
    "print(lxyz_test)"
   ]
  },
  {
   "cell_type": "code",
   "execution_count": 22,
   "id": "e3549432-b6a9-48f1-b707-506443a952f5",
   "metadata": {},
   "outputs": [
    {
     "name": "stdout",
     "output_type": "stream",
     "text": [
      "cla\n",
      "0      504407\n",
      "4      290500\n",
      "1      190930\n",
      "3      135591\n",
      "5      105041\n",
      "2       14663\n",
      "dtype: int64\n"
     ]
    }
   ],
   "source": [
    "lclass_train = pd.read_csv(\"./data/outputs/lclass_train_xyzpocn.csv\",index_col = False)\n",
    "lclass_train = lclass_train.replace({14:1})\n",
    "print(lclass_train.value_counts())"
   ]
  },
  {
   "cell_type": "code",
   "execution_count": 23,
   "id": "cc5af026-8950-4165-881f-c99e1f05d804",
   "metadata": {},
   "outputs": [
    {
     "name": "stdout",
     "output_type": "stream",
     "text": [
      "cla\n",
      "0      229206\n",
      "4      173727\n",
      "1      152563\n",
      "3       57049\n",
      "5       12315\n",
      "2        2721\n",
      "dtype: int64\n"
     ]
    }
   ],
   "source": [
    "lclass_test = pd.read_csv(\"./data/outputs/lclass_test_xyzpocn.csv\",index_col = False)\n",
    "print(lclass_test.value_counts())"
   ]
  },
  {
   "cell_type": "markdown",
   "id": "befa589d-d50a-41e5-a4ce-4a108e34aa6e",
   "metadata": {},
   "source": [
    "# Sample Points & Merge class"
   ]
  },
  {
   "cell_type": "code",
   "execution_count": 13,
   "id": "f1fd86f5-5459-44bd-b41b-fb5d87038040",
   "metadata": {},
   "outputs": [
    {
     "name": "stdout",
     "output_type": "stream",
     "text": [
      "1     2911999\n",
      "2      826645\n",
      "5      748094\n",
      "13     577586\n",
      "11     400482\n",
      "3      111354\n",
      "14        731\n",
      "Name: cla, dtype: int64\n",
      "0    2911999\n",
      "1     827376\n",
      "3     748094\n",
      "4     577586\n",
      "5     400482\n",
      "2     111354\n",
      "Name: cla, dtype: int64\n",
      "0    417962\n",
      "1    276623\n",
      "4    243566\n",
      "3     94132\n",
      "5     14055\n",
      "2      4101\n",
      "Name: cla, dtype: int64\n"
     ]
    }
   ],
   "source": [
    "lclass = lxyz['cla'].replace({6:5,9:1,15:1,10:1,12:11,17:13,16:13})\n",
    "print(lclass.value_counts())\n",
    "lxyz = lxyz.drop('cla',axis = 1) #delete the column of class，the rest part can be viewed as the input 'features'\n",
    "lxyz = lxyz.to_numpy().reshape(-1,3)\n",
    "# lxyz = lxyz[0:300000]\n",
    "\n",
    "lclass_test = lxyz_test['cla'].replace({6:5,9:1,15:1,10:1,12:11,17:13,16:13})\n",
    "lxyz_test = lxyz_test.drop('cla',axis = 1)\n",
    "# lxyz_test = lxyz_test[0:100000]\n",
    "lxyz_test = lxyz_test.to_numpy().reshape(-1,3)\n",
    "\n",
    "lclass = lclass.replace({5:4,13:5,11:6,14:2})\n",
    "lclass_test = lclass_test.replace({5:4,13:5,11:6,14:2})\n",
    "\n",
    "lclass = lclass.replace({1:0,2:1,3:2,4:3,5:4,6:5,7:6,8:7})\n",
    "lclass_test = lclass_test.replace({1:0,2:1,3:2,4:3,5:4,6:5,7:6,8:7})\n",
    "print(lclass.value_counts())\n",
    "print(lclass_test.value_counts())\n",
    "# 0: wall\n",
    "# 1: window\n",
    "# 2: door\n",
    "# 3: molding\n",
    "# 4: other\n",
    "# 5: terrian\n",
    "# 7: column\n",
    "# 8: arch"
   ]
  },
  {
   "cell_type": "code",
   "execution_count": 4,
   "id": "d135c610-9720-41ec-bfaf-10a070c552d0",
   "metadata": {},
   "outputs": [],
   "source": [
    "######################### using open3d for point processing ################\n",
    "device = o3d.core.Device(\"CPU:0\")\n",
    "dtype = o3d.core.float32\n",
    "pcd = o3d.t.geometry.PointCloud(device)\n",
    "pcd.point.positions = o3d.core.Tensor(lxyz, dtype, device)\n",
    "pcd.point.labels = o3d.core.Tensor(lclass.to_numpy().reshape(-1,1), o3d.core.int32, device)\n",
    "# o3d.visualization.draw([pcd])\n",
    "downpcd = pcd.voxel_down_sample(voxel_size = 0.05)\n",
    "\n",
    "lxyz_train = downpcd.point.positions.numpy()\n",
    "lclass_train = downpcd.point.labels.numpy()\n",
    "\n",
    "pcd_test = o3d.t.geometry.PointCloud(device)\n",
    "pcd_test.point.positions = o3d.core.Tensor(lxyz_test, dtype, device)\n",
    "pcd_test.point.labels = o3d.core.Tensor(lclass_test.to_numpy().reshape(-1,1), o3d.core.int32, device)\n",
    "# o3d.visualization.draw([pcd])\n",
    "downpcd_test = pcd_test.voxel_down_sample(voxel_size = 0.05)\n",
    "\n",
    "lxyz_test = downpcd_test.point.positions.numpy()\n",
    "lclass_test = downpcd_test.point.labels.numpy()"
   ]
  },
  {
   "cell_type": "markdown",
   "id": "e519c5c8-cb59-4b36-ac6c-6a839eae49d9",
   "metadata": {},
   "source": [
    "# Add Features"
   ]
  },
  {
   "cell_type": "code",
   "execution_count": 5,
   "id": "5ff6e4c7-0544-4522-a1fb-87aa6deac3eb",
   "metadata": {},
   "outputs": [
    {
     "name": "stdout",
     "output_type": "stream",
     "text": [
      "[[-16.        -28.95        7.6      ]\n",
      " [-16.        -28.9         7.1      ]\n",
      " [-16.        -28.9         4.6      ]\n",
      " ...\n",
      " [  6.7000003  -2.25        0.25     ]\n",
      " [ -7.4        -2.3        17.       ]\n",
      " [ -7.5        -2.6000001  16.95     ]]\n"
     ]
    }
   ],
   "source": [
    "print(lxyz_train)"
   ]
  },
  {
   "cell_type": "code",
   "execution_count": 6,
   "id": "15e30359-db36-481f-854b-ce48860d0fa4",
   "metadata": {},
   "outputs": [],
   "source": [
    "########## Normalization For Each Column ##########\n",
    "def normalize_point_cloud(pcd):\n",
    "    centroid = np.mean(pcd, axis=0) # calculation the center of point cloud\n",
    "    pcd = pcd - centroid # put the center as origin\n",
    "    m = np.max(np.sqrt(np.sum(pcd ** 2, axis=1))) # calculation the longest vector\n",
    "    pcd_normalized = pcd / m # normalization to (-1, 1)\n",
    "    return pcd_normalized\n"
   ]
  },
  {
   "cell_type": "code",
   "execution_count": 7,
   "id": "49b1c811-df57-4316-8b9f-1a4f9f6dac50",
   "metadata": {},
   "outputs": [],
   "source": [
    "norm_lxyz_train = normalize_point_cloud(lxyz_train)\n",
    "norm_lxyz_test = normalize_point_cloud(lxyz_test)"
   ]
  },
  {
   "cell_type": "code",
   "execution_count": 8,
   "id": "36974262-dcec-4334-95a9-c4879cb789ea",
   "metadata": {},
   "outputs": [
    {
     "name": "stdout",
     "output_type": "stream",
     "text": [
      "[[-0.19324374 -0.33067065 -0.01213908]\n",
      " [-0.19324374 -0.3298872  -0.01997327]\n",
      " [-0.19324374 -0.3298872  -0.05914425]\n",
      " ...\n",
      " [ 0.16242877  0.08767542 -0.12730175]\n",
      " [-0.05849557  0.08689201  0.13514382]\n",
      " [-0.06006241  0.08219149  0.1343604 ]]\n",
      "[[-0.13739109 -0.55525166 -0.03275299]\n",
      " [-0.13739109 -0.5506215   0.07026852]\n",
      " [-0.13739109 -0.55525166  0.06679587]\n",
      " ...\n",
      " [ 0.17861868  0.33953062  0.07258359]\n",
      " [ 0.17746113  0.3383731   0.07142606]\n",
      " [ 0.17746113  0.33953062  0.07142606]]\n"
     ]
    }
   ],
   "source": [
    "print(norm_lxyz_train)\n",
    "print(norm_lxyz_test)"
   ]
  },
  {
   "cell_type": "code",
   "execution_count": 9,
   "id": "1ab96d44-d219-4762-b14a-4a59dbf3c67b",
   "metadata": {},
   "outputs": [],
   "source": [
    "pcd_train = o3d.geometry.PointCloud()\n",
    "pcd_train.points = o3d.utility.Vector3dVector(norm_lxyz_train)\n",
    "\n",
    "# show in color\n",
    "# colors = plt.get_cmap(\"tab20\")(np.array(lclass_train).reshape(-1) / 17.0)\n",
    "# colors = colors[:,0:3]\n",
    "# pcd_train.colors=o3d.utility.Vector3dVector(colors)\n",
    "# o3d.visualization.draw_geometries([pcd_train], window_name='test the color',width=800,height=600)"
   ]
  },
  {
   "cell_type": "code",
   "execution_count": 10,
   "id": "ae141a04-151a-48c7-bc97-ccb45ca04571",
   "metadata": {},
   "outputs": [],
   "source": [
    "pcd_test = o3d.geometry.PointCloud()\n",
    "pcd_test.points = o3d.utility.Vector3dVector(norm_lxyz_test)\n",
    "\n",
    "# show in color\n",
    "# colors = plt.get_cmap(\"tab20\")(np.array(lclass_test).reshape(-1) / 17.0)\n",
    "# colors = colors[:,0:3]\n",
    "# pcd_test.colors=o3d.utility.Vector3dVector(colors)\n",
    "# o3d.visualization.draw_geometries([pcd_test], window_name='test the color',width=800,height=600)"
   ]
  },
  {
   "cell_type": "code",
   "execution_count": 11,
   "id": "8ab50920-788b-4d8a-aafc-c98589d56a2c",
   "metadata": {},
   "outputs": [
    {
     "name": "stdout",
     "output_type": "stream",
     "text": [
      "14623737\n"
     ]
    },
    {
     "ename": "KeyboardInterrupt",
     "evalue": "",
     "output_type": "error",
     "traceback": [
      "\u001b[1;31m---------------------------------------------------------------------------\u001b[0m",
      "\u001b[1;31mKeyboardInterrupt\u001b[0m                         Traceback (most recent call last)",
      "\u001b[1;32m~\\AppData\\Local\\Temp\\ipykernel_2384\\896911710.py\u001b[0m in \u001b[0;36m<module>\u001b[1;34m\u001b[0m\n\u001b[1;32m----> 1\u001b[1;33m \u001b[0mnormals\u001b[0m\u001b[1;33m,\u001b[0m\u001b[0mllambda\u001b[0m\u001b[1;33m,\u001b[0m\u001b[0mlp\u001b[0m\u001b[1;33m,\u001b[0m\u001b[0mlo\u001b[0m\u001b[1;33m,\u001b[0m\u001b[0mlc\u001b[0m\u001b[1;33m,\u001b[0m\u001b[0mnon_index\u001b[0m \u001b[1;33m=\u001b[0m \u001b[0mcollFeatures\u001b[0m\u001b[1;33m(\u001b[0m\u001b[0mpcd_train\u001b[0m\u001b[1;33m,\u001b[0m\u001b[0mdownpcd\u001b[0m\u001b[1;33m.\u001b[0m\u001b[0mpoint\u001b[0m\u001b[1;33m.\u001b[0m\u001b[0mpositions\u001b[0m\u001b[1;33m.\u001b[0m\u001b[0mshape\u001b[0m\u001b[1;33m[\u001b[0m\u001b[1;36m0\u001b[0m\u001b[1;33m]\u001b[0m\u001b[1;33m)\u001b[0m\u001b[1;33m\u001b[0m\u001b[1;33m\u001b[0m\u001b[0m\n\u001b[0m",
      "\u001b[1;32m~\\AppData\\Local\\Temp\\ipykernel_2384\\915466881.py\u001b[0m in \u001b[0;36mcollFeatures\u001b[1;34m(pcd, length, size)\u001b[0m\n\u001b[0;32m     36\u001b[0m         \u001b[1;33m[\u001b[0m\u001b[0m_\u001b[0m\u001b[1;33m,\u001b[0m \u001b[0midx\u001b[0m\u001b[1;33m,\u001b[0m \u001b[0m_\u001b[0m\u001b[1;33m]\u001b[0m \u001b[1;33m=\u001b[0m \u001b[0mpcd_tree\u001b[0m\u001b[1;33m.\u001b[0m\u001b[0msearch_radius_vector_3d\u001b[0m\u001b[1;33m(\u001b[0m\u001b[0mpcd\u001b[0m\u001b[1;33m.\u001b[0m\u001b[0mpoints\u001b[0m\u001b[1;33m[\u001b[0m\u001b[0mi\u001b[0m\u001b[1;33m]\u001b[0m\u001b[1;33m,\u001b[0m \u001b[0msize\u001b[0m\u001b[1;33m)\u001b[0m\u001b[1;33m\u001b[0m\u001b[1;33m\u001b[0m\u001b[0m\n\u001b[0;32m     37\u001b[0m         \u001b[1;31m# asarray is the same as array  but asarray will save the memeory\u001b[0m\u001b[1;33m\u001b[0m\u001b[1;33m\u001b[0m\u001b[0m\n\u001b[1;32m---> 38\u001b[1;33m         \u001b[0mk_nearest_point\u001b[0m \u001b[1;33m=\u001b[0m \u001b[0mnp\u001b[0m\u001b[1;33m.\u001b[0m\u001b[0masarray\u001b[0m\u001b[1;33m(\u001b[0m\u001b[0mpcd\u001b[0m\u001b[1;33m.\u001b[0m\u001b[0mpoints\u001b[0m\u001b[1;33m)\u001b[0m\u001b[1;33m[\u001b[0m\u001b[0midx\u001b[0m\u001b[1;33m,\u001b[0m \u001b[1;33m:\u001b[0m\u001b[1;33m]\u001b[0m  \u001b[1;31m#find the surrounding points for each point, set them as a curve and use PCA to find the normal\u001b[0m\u001b[1;33m\u001b[0m\u001b[1;33m\u001b[0m\u001b[0m\n\u001b[0m\u001b[0;32m     39\u001b[0m         \u001b[0mlamb\u001b[0m\u001b[1;33m,\u001b[0m \u001b[0mv\u001b[0m \u001b[1;33m=\u001b[0m \u001b[0mPCA\u001b[0m\u001b[1;33m(\u001b[0m\u001b[0mk_nearest_point\u001b[0m\u001b[1;33m)\u001b[0m\u001b[1;33m\u001b[0m\u001b[1;33m\u001b[0m\u001b[0m\n\u001b[0;32m     40\u001b[0m         \u001b[1;32mif\u001b[0m \u001b[0mlen\u001b[0m\u001b[1;33m(\u001b[0m\u001b[0mk_nearest_point\u001b[0m\u001b[1;33m)\u001b[0m \u001b[1;33m==\u001b[0m \u001b[1;36m1\u001b[0m\u001b[1;33m:\u001b[0m\u001b[1;33m\u001b[0m\u001b[1;33m\u001b[0m\u001b[0m\n",
      "\u001b[1;31mKeyboardInterrupt\u001b[0m: "
     ]
    }
   ],
   "source": [
    "normals,llambda,lp,lo,lc,non_index = collFeatures(pcd_train,downpcd.point.positions.shape[0])"
   ]
  },
  {
   "cell_type": "code",
   "execution_count": 13,
   "id": "3d9b9f7c-2bbf-4f33-83b6-ec7caedfaa85",
   "metadata": {},
   "outputs": [],
   "source": [
    "lxyz_train = np.hstack((lxyz_train,lp,lo,lc,normals,llambda))\n",
    "lxyz_train = pd.DataFrame(lxyz_train)\n",
    "lxyz_train.columns = [\"x\", \"y\", \"z\", \"p\",\"o\",\"c\",\"n1\",\"n2\",\"n3\",\"l1\",\"l2\",\"l3\"]\n",
    "lxyz_train = lxyz_train.drop(lxyz_train.index[non_index])\n",
    "lclass_train = np.delete(lclass_train, non_index, axis=0)  "
   ]
  },
  {
   "cell_type": "code",
   "execution_count": 16,
   "id": "97c04572-e3f3-4373-bd06-a0fb02f1b670",
   "metadata": {},
   "outputs": [],
   "source": [
    "lxyz_train = lxyz_train.reset_index()\n",
    "lxyz_train = lxyz_train.drop('index',axis = 1)\n",
    "lclass_train = pd.DataFrame(lclass_train, columns = ['cla'], dtype = int)"
   ]
  },
  {
   "cell_type": "code",
   "execution_count": 19,
   "id": "c9ecace5-21cb-4bc4-9ad0-d38f26beb9e6",
   "metadata": {},
   "outputs": [],
   "source": [
    "lxyz_train.to_csv(\"./data/outputs/lxyz_train_xyzpocn.csv\",index=False)"
   ]
  },
  {
   "cell_type": "code",
   "execution_count": 2,
   "id": "f0533724-00ce-459f-a1c1-c369d68dc184",
   "metadata": {},
   "outputs": [
    {
     "ename": "NameError",
     "evalue": "name 'lclass_train' is not defined",
     "output_type": "error",
     "traceback": [
      "\u001b[1;31m---------------------------------------------------------------------------\u001b[0m",
      "\u001b[1;31mNameError\u001b[0m                                 Traceback (most recent call last)",
      "\u001b[1;32m~\\AppData\\Local\\Temp\\ipykernel_10500\\1729662207.py\u001b[0m in \u001b[0;36m<module>\u001b[1;34m\u001b[0m\n\u001b[1;32m----> 1\u001b[1;33m \u001b[0mlclass_train\u001b[0m\u001b[1;33m.\u001b[0m\u001b[0mto_csv\u001b[0m\u001b[1;33m(\u001b[0m\u001b[1;34m\"./data/outputs/lclass_train_xyzpocn.csv\"\u001b[0m\u001b[1;33m,\u001b[0m\u001b[0mindex\u001b[0m\u001b[1;33m=\u001b[0m\u001b[1;32mFalse\u001b[0m\u001b[1;33m)\u001b[0m\u001b[1;33m\u001b[0m\u001b[1;33m\u001b[0m\u001b[0m\n\u001b[0m",
      "\u001b[1;31mNameError\u001b[0m: name 'lclass_train' is not defined"
     ]
    }
   ],
   "source": [
    "lclass_train.to_csv(\"./data/outputs/lclass_train_xyzpocn.csv\",index=False)"
   ]
  },
  {
   "cell_type": "code",
   "execution_count": 21,
   "id": "d04c8ffa-2d3c-4691-be1c-113357451c8a",
   "metadata": {},
   "outputs": [
    {
     "name": "stdout",
     "output_type": "stream",
     "text": [
      "627590\n"
     ]
    }
   ],
   "source": [
    "normals_t,llambda_t,lp_t,lo_t,lc_t,non_index_t = collFeatures(pcd_test,downpcd_test.point.positions.shape[0])\n",
    "lxyz_test = np.hstack((lxyz_test,lp_t,lo_t,lc_t,normals_t,llambda_t))\n",
    "lxyz_test = pd.DataFrame(lxyz_test)\n",
    "lxyz_test.columns = [\"x\", \"y\", \"z\", \"p\",\"o\",\"c\",\"n1\",\"n2\",\"n3\",\"l1\",\"l2\",\"l3\"]\n",
    "lxyz_test = lxyz_test.drop(lxyz_test.index[non_index_t])\n",
    "lclass_test = np.delete(lclass_test, non_index_t, axis=0)"
   ]
  },
  {
   "cell_type": "code",
   "execution_count": 22,
   "id": "175691d5-244a-4ad8-9ce8-0f9637317fc1",
   "metadata": {},
   "outputs": [],
   "source": [
    "lxyz_test = lxyz_test.reset_index()\n",
    "lxyz_test = lxyz_test.drop('index',axis = 1)\n",
    "lclass_test = pd.DataFrame(lclass_test, columns = ['cla'], dtype = int)"
   ]
  },
  {
   "cell_type": "code",
   "execution_count": 25,
   "id": "ac4b136e-7fef-4c81-9051-cabc5b012871",
   "metadata": {},
   "outputs": [],
   "source": [
    "lxyz_test.to_csv(\"./data/outputs/lxyz_test_xyzpocn.csv\",index=False)"
   ]
  },
  {
   "cell_type": "code",
   "execution_count": 26,
   "id": "34b0612e-114d-4829-a2cc-9e64770376ff",
   "metadata": {},
   "outputs": [],
   "source": [
    "lclass_test.to_csv(\"./data/outputs/lclass_test_xyzpocn.csv\",index=False)"
   ]
  },
  {
   "cell_type": "code",
   "execution_count": 6,
   "id": "83dc49b3-d6e6-4be4-b0ca-5fb1869819f3",
   "metadata": {},
   "outputs": [
    {
     "name": "stdout",
     "output_type": "stream",
     "text": [
      "[[-16.        -28.95        7.6      ]\n",
      " [-16.        -28.9         7.1      ]\n",
      " [-16.        -28.9         4.6      ]\n",
      " ...\n",
      " [  6.7000003  -2.25        0.25     ]\n",
      " [ -7.4        -2.3        17.       ]\n",
      " [ -7.5        -2.6000001  16.95     ]]\n"
     ]
    }
   ],
   "source": [
    "print(lxyz_train)"
   ]
  },
  {
   "cell_type": "code",
   "execution_count": 7,
   "id": "01b640ad-5b01-4497-8136-a9810e6ff1b7",
   "metadata": {},
   "outputs": [
    {
     "name": "stdout",
     "output_type": "stream",
     "text": [
      "[[  0.6      -22.5        7.15    ]\n",
      " [  0.6      -22.300001  11.6     ]\n",
      " [  0.6      -22.5       11.45    ]\n",
      " ...\n",
      " [ 14.25      16.15      11.7     ]\n",
      " [ 14.2       16.1       11.650001]\n",
      " [ 14.2       16.15      11.650001]]\n"
     ]
    }
   ],
   "source": [
    "print(lxyz_test)"
   ]
  },
  {
   "cell_type": "code",
   "execution_count": 8,
   "id": "7f330873-4d40-41f6-9835-4c9bb5ed9d4c",
   "metadata": {},
   "outputs": [
    {
     "name": "stdout",
     "output_type": "stream",
     "text": [
      "[[0]\n",
      " [0]\n",
      " [0]\n",
      " ...\n",
      " [4]\n",
      " [4]\n",
      " [4]]\n"
     ]
    }
   ],
   "source": [
    "print(lclass_train)"
   ]
  },
  {
   "cell_type": "code",
   "execution_count": 9,
   "id": "25f5ec15-c806-4a45-a728-de61bde84035",
   "metadata": {},
   "outputs": [
    {
     "name": "stdout",
     "output_type": "stream",
     "text": [
      "[[1]\n",
      " [1]\n",
      " [1]\n",
      " ...\n",
      " [4]\n",
      " [4]\n",
      " [4]]\n"
     ]
    }
   ],
   "source": [
    "print(lclass_test)"
   ]
  },
  {
   "cell_type": "code",
   "execution_count": 10,
   "id": "994761d8-d658-4f8c-a91c-100f0644a3e9",
   "metadata": {},
   "outputs": [
    {
     "name": "stdout",
     "output_type": "stream",
     "text": [
      "14623737\n"
     ]
    }
   ],
   "source": [
    "print(len(lxyz_train))"
   ]
  },
  {
   "cell_type": "markdown",
   "id": "0c5362d5-c05c-4dd6-8149-74e20969135b",
   "metadata": {},
   "source": [
    "# Classificatino based on RF"
   ]
  },
  {
   "cell_type": "code",
   "execution_count": 24,
   "id": "ccff1067-d275-4c7b-97d0-2ecd96b9346b",
   "metadata": {},
   "outputs": [
    {
     "name": "stdout",
     "output_type": "stream",
     "text": [
      "(1241132, 12)\n",
      "(627581, 12)\n"
     ]
    },
    {
     "name": "stderr",
     "output_type": "stream",
     "text": [
      "C:\\Users\\15597\\AppData\\Local\\Temp\\ipykernel_2384\\2699409989.py:14: DataConversionWarning: A column-vector y was passed when a 1d array was expected. Please change the shape of y to (n_samples,), for example using ravel().\n",
      "  rfc.fit(x_train,y_train) # model fitting\n"
     ]
    },
    {
     "name": "stdout",
     "output_type": "stream",
     "text": [
      "0.4970386292765396\n"
     ]
    }
   ],
   "source": [
    "######################### Classification based on RF #######################\n",
    "# divide the dataset into training and testing \n",
    "x_train = np.array(lxyz_train)\n",
    "y_train = np.array(lclass_train)\n",
    "x_test = np.array(lxyz_test)\n",
    "y_test = np.array(lclass_test)\n",
    "\n",
    "# x_train,x_test,y_train,y_test = train_test_split(lxyz,lclass[0:300000],test_size = 0.3,random_state=0)\n",
    "\n",
    "print(x_train.shape) #check the amount of dataset\n",
    "print(x_test.shape)\n",
    "\n",
    "rfc = RandomForestClassifier() # using the default parameters for RF to train\n",
    "rfc.fit(x_train,y_train) # model fitting\n",
    "\n",
    "# way to score your result\n",
    "score1 = rfc.score(x_test,y_test) #check the result that used in testing dataset\n",
    "print(score1)"
   ]
  },
  {
   "cell_type": "code",
   "execution_count": 25,
   "id": "143d5009-506b-4840-810c-fbf14fa7f517",
   "metadata": {},
   "outputs": [
    {
     "name": "stdout",
     "output_type": "stream",
     "text": [
      "   Name of Feature  importance\n",
      "2                z    0.269071\n",
      "0                x    0.116130\n",
      "1                y    0.110255\n",
      "5                c    0.074546\n",
      "10              l2    0.066507\n",
      "9               l1    0.066240\n",
      "3                p    0.061677\n",
      "11              l3    0.055533\n",
      "7               n2    0.053314\n",
      "4                o    0.047254\n",
      "6               n1    0.040151\n",
      "8               n3    0.039322\n",
      "success!\n"
     ]
    }
   ],
   "source": [
    "importance = rfc.feature_importances_ # Check the importance of each feature\n",
    "col = [\"x\", \"y\", \"z\", \"p\",\"o\",\"c\",\"n1\",\"n2\",\"n3\",\"l1\",\"l2\",\"l3\"]\n",
    "\n",
    "re = pd.DataFrame({'Name of Feature':np.array(col),'importance':importance}).sort_values(by = 'importance',axis = 0,ascending = False)\n",
    "print(re)\n",
    "\n",
    "print(\"success!\")"
   ]
  },
  {
   "cell_type": "code",
   "execution_count": 26,
   "id": "8e44d5ae-1c34-4969-b307-2e3b6c6b6b02",
   "metadata": {},
   "outputs": [],
   "source": [
    "y_pred_rf = rfc.predict(x_test)"
   ]
  },
  {
   "cell_type": "code",
   "execution_count": 27,
   "id": "0b5c77b3-ed0e-4bea-9d17-38e9e0090b4d",
   "metadata": {},
   "outputs": [],
   "source": [
    "from sklearn.metrics import confusion_matrix"
   ]
  },
  {
   "cell_type": "code",
   "execution_count": 28,
   "id": "7d1e4462-4756-4225-baeb-60e5bd7f3c3f",
   "metadata": {
    "colab": {
     "base_uri": "https://localhost:8080/"
    },
    "executionInfo": {
     "elapsed": 376,
     "status": "ok",
     "timestamp": 1674088910585,
     "user": {
      "displayName": "SUKIDA Tan",
      "userId": "04234593673225449814"
     },
     "user_tz": -60
    },
    "id": "LvqVmt0i2ds3",
    "outputId": "2f890904-33c1-49e0-c5a9-7ba544a7cef6"
   },
   "outputs": [
    {
     "name": "stdout",
     "output_type": "stream",
     "text": [
      "0.4970386292765396\n"
     ]
    }
   ],
   "source": [
    "cm = confusion_matrix(y_test, y_pred_rf);\n",
    "cm\n",
    "correct_rate = np.diagonal(cm).sum()/cm.sum()\n",
    "print(correct_rate)"
   ]
  },
  {
   "cell_type": "code",
   "execution_count": 31,
   "id": "5c4bf118-ddc0-4d7e-b6e8-62bf742eb9da",
   "metadata": {
    "colab": {
     "base_uri": "https://localhost:8080/"
    },
    "executionInfo": {
     "elapsed": 245,
     "status": "ok",
     "timestamp": 1674086880589,
     "user": {
      "displayName": "SUKIDA Tan",
      "userId": "04234593673225449814"
     },
     "user_tz": -60
    },
    "id": "jQryCKH4R1FW",
    "outputId": "528acf69-4698-4cea-be2a-ded3b34f69d9"
   },
   "outputs": [
    {
     "data": {
      "text/plain": [
       "{'wall & balcony & ..': 0,\n",
       " 'window & blinds': 1,\n",
       " 'door': 2,\n",
       " 'molding & decoration': 3,\n",
       " 'ground surface & terrian': 4,\n",
       " 'roof & others': 5}"
      ]
     },
     "execution_count": 31,
     "metadata": {},
     "output_type": "execute_result"
    }
   ],
   "source": [
    "classes = {'wall & balcony & ..': 0,\n",
    "           'window & blinds': 1,\n",
    "           'door': 2,\n",
    "           'molding & decoration': 3,\n",
    "           'ground surface & terrian': 4,\n",
    "           'roof & others': 5\n",
    "           }\n",
    "cla_test = {'wall & balcony & ..': 0,\n",
    "           'window & blinds': 1,\n",
    "           'door': 2,\n",
    "           'molding & decoration': 3,\n",
    "           'ground surface & terrian': 4,\n",
    "           'roof & others': 5\n",
    "           }\n",
    "cla_test"
   ]
  },
  {
   "cell_type": "code",
   "execution_count": 32,
   "id": "9485e0ee-a8fb-4898-bb27-d4b3e12c3f93",
   "metadata": {
    "executionInfo": {
     "elapsed": 235,
     "status": "ok",
     "timestamp": 1674086267324,
     "user": {
      "displayName": "SUKIDA Tan",
      "userId": "04234593673225449814"
     },
     "user_tz": -60
    },
    "id": "MvIkJrRI2g8L"
   },
   "outputs": [],
   "source": [
    "import itertools\n",
    "import numpy as np\n",
    "import matplotlib.pyplot as plt\n",
    "\n",
    "# function from https://deeplizard.com/learn/video/0LhiS6yu2qQ\n",
    "def plot_confusion_matrix(cm, classes, normalize=False, title='Confusion matrix', cmap=plt.cm.Blues):\n",
    "    if normalize:\n",
    "        cm = cm.astype('float') / cm.sum(axis=1)[:, np.newaxis]\n",
    "        print(\"Normalized confusion matrix\")\n",
    "    else:\n",
    "        print('Confusion matrix, without normalization')\n",
    "\n",
    "    plt.imshow(cm, interpolation='nearest', cmap=cmap)\n",
    "    plt.title(title)\n",
    "    plt.colorbar()\n",
    "    tick_marks = np.arange(len(classes))\n",
    "    plt.xticks(tick_marks, classes, rotation=45)\n",
    "    plt.yticks(tick_marks, classes)\n",
    "\n",
    "    fmt = '.2f' if normalize else 'd'\n",
    "    thresh = cm.max() / 2.\n",
    "    for i, j in itertools.product(range(cm.shape[0]), range(cm.shape[1])):\n",
    "        plt.text(j, i, format(cm[i, j], fmt), horizontalalignment=\"center\", color=\"white\" if cm[i, j] > thresh else \"black\")\n",
    "\n",
    "    plt.tight_layout()\n",
    "    plt.ylabel('True label')\n",
    "    plt.xlabel('Predicted label')"
   ]
  },
  {
   "cell_type": "code",
   "execution_count": 33,
   "id": "33e89c5c-9a91-4d7d-b601-d5d827077bff",
   "metadata": {
    "colab": {
     "base_uri": "https://localhost:8080/",
     "height": 652
    },
    "executionInfo": {
     "elapsed": 830,
     "status": "ok",
     "timestamp": 1674086917326,
     "user": {
      "displayName": "SUKIDA Tan",
      "userId": "04234593673225449814"
     },
     "user_tz": -60
    },
    "id": "YJeGeH212i6h",
    "outputId": "72dd3fa4-5411-44bb-c876-8f1e7cb6d839"
   },
   "outputs": [
    {
     "name": "stdout",
     "output_type": "stream",
     "text": [
      "Normalized confusion matrix\n"
     ]
    },
    {
     "data": {
      "image/png": "[encoded data removed]",
      "text/plain": [
       "<Figure size 800x800 with 2 Axes>"
      ]
     },
     "metadata": {},
     "output_type": "display_data"
    }
   ],
   "source": [
    "plt.figure(figsize=(8,8))\n",
    "plot_confusion_matrix(cm, list(cla_test.keys()), normalize=True)"
   ]
  },
  {
   "cell_type": "code",
   "execution_count": 34,
   "id": "bef8ea5f-76f9-43ee-9c7f-a14a7c457aab",
   "metadata": {
    "colab": {
     "base_uri": "https://localhost:8080/",
     "height": 580
    },
    "executionInfo": {
     "elapsed": 1205,
     "status": "ok",
     "timestamp": 1674086946985,
     "user": {
      "displayName": "SUKIDA Tan",
      "userId": "04234593673225449814"
     },
     "user_tz": -60
    },
    "id": "9FeHmyzh2mZq",
    "outputId": "8cb5c54e-31e6-448c-c9c5-5b8b2c48c0bf"
   },
   "outputs": [
    {
     "name": "stdout",
     "output_type": "stream",
     "text": [
      "Confusion matrix, without normalization\n"
     ]
    },
    {
     "data": {
      "image/png": "[encoded data removed]",
      "text/plain": [
       "<Figure size 800x800 with 2 Axes>"
      ]
     },
     "metadata": {},
     "output_type": "display_data"
    }
   ],
   "source": [
    "plt.figure(figsize=(8,8))\n",
    "plot_confusion_matrix(cm, list(cla_test.keys()), normalize=False)"
   ]
  },
  {
   "cell_type": "code",
   "execution_count": 35,
   "id": "b4645298-e415-4573-afb6-08e39988c833",
   "metadata": {},
   "outputs": [
    {
     "data": {
      "text/plain": [
       "['rf_train_model_gf_sd.m']"
      ]
     },
     "execution_count": 35,
     "metadata": {},
     "output_type": "execute_result"
    }
   ],
   "source": [
    "import joblib\n",
    "joblib.dump(rfc, \"rf_train_model_gf_sd.m\")"
   ]
  },
  {
   "cell_type": "code",
   "execution_count": null,
   "id": "0f1560cf-234d-4bb5-a7ca-0fbbef0c7db3",
   "metadata": {},
   "outputs": [],
   "source": []
  }
 ],
 "metadata": {
  "kernelspec": {
   "display_name": "Python 3 (ipykernel)",
   "language": "python",
   "name": "python3"
  },
  "language_info": {
   "codemirror_mode": {
    "name": "ipython",
    "version": 3
   },
   "file_extension": ".py",
   "mimetype": "text/x-python",
   "name": "python",
   "nbconvert_exporter": "python",
   "pygments_lexer": "ipython3",
   "version": "3.9.13"
  }
 },
 "nbformat": 4,
 "nbformat_minor": 5
}
